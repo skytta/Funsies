{
 "cells": [
  {
   "cell_type": "markdown",
   "id": "cc194302",
   "metadata": {},
   "source": [
    "## PART 1\n",
    "\n",
    "- Bayes’ Theorem shows us how to turn P(E|H) to P(H|E), with E=Evidence and H=Hypothesis. But what does that really mean? Imagine you have to explain this to someone who doesn't understand machine learning or probability at all.\n",
    " \n",
    "__INSTRUCTIONS__\n",
    "\n",
    "Explain how to turn P(E|H) to P(H|E), with E=Evidence and H=Hypothesis in layman's terms.<br>\n",
    "Your explanation should be no more than two paragraphs.<br>\n",
    "Use an example from real life to ground the explanation.<br>\n"
   ]
  },
  {
   "cell_type": "markdown",
   "id": "514fb251",
   "metadata": {},
   "source": [
    "P(E|H) Probability of Evidence given the Hypothesis <br>\n",
    "\n",
    "Imagine that in our inbox, we receive emails from friends and family __(ff)__ as well as unsolicited spam __(S)__ emails.  We want to filter out the __S__, so the first thing we can do is to look at how the emails are constructed to see if there might be words or phrases that appear in __S__ versus those that appear in __ff__. (__ff__). We do this by looking at each instance of a discrete (unique) word over a series of __ff__ emails and calculating the liklihoods of that word being used in the __ff__ email as well as doing this for __S__ emails. Assuming in this example, we have 20 __ff__ emails and 10 __S__ emails, we could break this down below.<br>\n",
    "<br>\n",
    "\n",
    "The P(E) Evidence is given: \n",
    "- p(Hi | __ff__) = 11/20 = 0.55\n",
    "- p(Amiga | __ff__) = 10/20 = 0.5\n",
    "- p(Weather | __ff__) = 6/20 = 0.15\n",
    "- p(Winning | __ff__) = 1/20 = 0.05 <br><hr>\n",
    "These same words are counted in the __S__ emails. \n",
    "- p(Hi | __S__) = 4/10 = 0.4\n",
    "- p(Amiga | __S__) = 0/10 = 0.0\n",
    "- p(Weather | __S__) = 1/10 = 0.1\n",
    "- p(Winning | __S__) = 7/10 = 0.7<br><br>\n",
    "The E represents our estimated liklihood that an email is a __ff__ or __S__ which in this example, we know that 10 out of 20 emails were spam.  We make our estimate based on our evidence of what we see in our inbox. We can calcuate this:<br><br>\n",
    "p(E) = 20 __ff__ emails divided by 20 __ff__ emails + 10 __S__ emails = 67 % liklihood that we will get a __ff__ email in our inbox.  <br>\n",
    "p(E) = 10 __S__ emails divided by 10 __S__ emails + 20 __ff__ emails = 33 % liklihood that we will get a __S__ email in our inbox.  <br><hr>\n",
    "The liklihood (probability) of receiving an email with \"Hi amiga\" is calculated by taking the liklihood of receiving a <b>ff</b> email which we calculated above as 67% multiplied times the lilihood of the use use of <b>\"Hi\"</b> multiplied times the use of <b>\"amiga\" </b>and this gives us a calculated probability based on the evidence we have given our hypothesis<br><br>\n",
    "- p(<b>ff</b> ) | Hi Amiga) = <br>\n",
    "- p(<b>ff</b> ) <b>X</b> p(Hi) <b>X</b>  p(Amiga) = .67 <b>X</b>  =  .55 <b>X</b>  .5 = 0.2% <br><hr>\n",
    "\n",
    "The liklihood (probability) of receiving an email with \"Hi amiga\" can also be calculated by taking the liklihood of receiving a <b>S</b> email which we calculated above as 33% multiplied times the lilihood of the use use of <b>\"Hi\"</b> multiplied times the use of <b>\"amiga\" </b>and this gives us a calculated probability based on the evidence we have given our hypothesis<br>\n",
    "\n",
    "- p(<b>S</b> ) | Hi Amiga) = <br>\n",
    "- p(<b>S</b> ) <b>X</b> p(Hi) <b>X</b>  p(Amiga) = .33 <b>X</b>  =  .4 <b>X</b>  .0 = 0% <br><br>\n",
    "\n",
    "<b>NOW</b>, given that we have the probabilites based on our evidence to form our hypothesis, we can test this as the probability of our hypothesis based on our evidence.  Assuming we received an new email, we could calculate whether we believe it will be <b>S</b> or <b>ff</b> by applying the probabilities we calculated for the words in the email.  Assuming the email contained the word, \"<b>Amiga</b>\", the liklihood that this email is <b>S</b> is 0% because anything times 0 equals 0 and we saw above that there was a 0% chance that emails containing \"<b>Amiga</b>\" were <b>S</b>."
   ]
  },
  {
   "cell_type": "code",
   "execution_count": 107,
   "id": "81784646",
   "metadata": {},
   "outputs": [],
   "source": [
    "#import library\n",
    "import pandas as pd\n",
    "import numpy as np\n",
    "import matplotlib.pyplot as plt\n",
    "from sklearn.feature_extraction.text import CountVectorizer \n",
    "from sklearn.feature_extraction.text import TfidfVectorizer \n",
    "from sklearn.model_selection import train_test_split, cross_val_score\n",
    "from sklearn.metrics import confusion_matrix, classification_report\n",
    "from sklearn.naive_bayes import MultinomialNB\n",
    "from sklearn.metrics import confusion_matrix\n",
    "import matplotlib.pyplot as plt\n",
    "%matplotlib inline"
   ]
  },
  {
   "cell_type": "markdown",
   "id": "d5f7d595",
   "metadata": {},
   "source": [
    "## PART 2 \n",
    "__INSTRUCTIONS__<br>\n",
    "For this exercise use any four of these five datasets to build a spam filter with the Naïve Bayes approach. <br>\n",
    "Use that filter to check the accuracy of the remaining dataset.<br>\n",
    "Make sure to report the details of your training and the model.<br>\n"
   ]
  },
  {
   "cell_type": "code",
   "execution_count": 33,
   "id": "6b57c43e",
   "metadata": {},
   "outputs": [
    {
     "data": {
      "text/plain": [
       "(350, 5)"
      ]
     },
     "execution_count": 33,
     "metadata": {},
     "output_type": "execute_result"
    }
   ],
   "source": [
    "Psy = pd.read_csv('/Users/jennyskytta/Desktop/YTPsy.csv')\n",
    "Psy.shape #Dataset 1 to be combined "
   ]
  },
  {
   "cell_type": "code",
   "execution_count": 34,
   "id": "b508f19c",
   "metadata": {},
   "outputs": [
    {
     "data": {
      "text/plain": [
       "(350, 5)"
      ]
     },
     "execution_count": 34,
     "metadata": {},
     "output_type": "execute_result"
    }
   ],
   "source": [
    "KatyPerry = pd.read_csv('/Users/jennyskytta/Desktop/YTKatyPerry.csv')\n",
    "KatyPerry.shape # Dataset 2 to be combined"
   ]
  },
  {
   "cell_type": "code",
   "execution_count": 35,
   "id": "6a2eeeb4",
   "metadata": {},
   "outputs": [
    {
     "data": {
      "text/plain": [
       "(438, 5)"
      ]
     },
     "execution_count": 35,
     "metadata": {},
     "output_type": "execute_result"
    }
   ],
   "source": [
    "LMFAO = pd.read_csv('/Users/jennyskytta/Desktop/YTLMFAO.csv')\n",
    "LMFAO.shape #Dateset 3 to be combined"
   ]
  },
  {
   "cell_type": "code",
   "execution_count": 36,
   "id": "62238f24",
   "metadata": {},
   "outputs": [
    {
     "data": {
      "text/plain": [
       "(448, 5)"
      ]
     },
     "execution_count": 36,
     "metadata": {},
     "output_type": "execute_result"
    }
   ],
   "source": [
    "Eminem = pd.read_csv('/Users/jennyskytta/Desktop/YTEminem.csv')\n",
    "Eminem.shape  #Dataset 4 to be combined"
   ]
  },
  {
   "cell_type": "code",
   "execution_count": 97,
   "id": "a6ccc87b",
   "metadata": {},
   "outputs": [
    {
     "data": {
      "text/plain": [
       "(370, 2)"
      ]
     },
     "execution_count": 97,
     "metadata": {},
     "output_type": "execute_result"
    }
   ],
   "source": [
    "Shakira = pd.read_csv('/Users/jennyskytta/Desktop/YTShakira.csv')\n",
    "Shakira.drop(['COMMENT_ID','AUTHOR', 'DATE'], axis=1, inplace=True)\n",
    "Shakira.shape  #Dataset for testing "
   ]
  },
  {
   "cell_type": "code",
   "execution_count": 86,
   "id": "0cab27aa",
   "metadata": {},
   "outputs": [
    {
     "data": {
      "text/html": [
       "<div>\n",
       "<style scoped>\n",
       "    .dataframe tbody tr th:only-of-type {\n",
       "        vertical-align: middle;\n",
       "    }\n",
       "\n",
       "    .dataframe tbody tr th {\n",
       "        vertical-align: top;\n",
       "    }\n",
       "\n",
       "    .dataframe thead th {\n",
       "        text-align: right;\n",
       "    }\n",
       "</style>\n",
       "<table border=\"1\" class=\"dataframe\">\n",
       "  <thead>\n",
       "    <tr style=\"text-align: right;\">\n",
       "      <th></th>\n",
       "      <th>CONTENT</th>\n",
       "      <th>CLASS</th>\n",
       "    </tr>\n",
       "  </thead>\n",
       "  <tbody>\n",
       "    <tr>\n",
       "      <th>162</th>\n",
       "      <td>Good times. ﻿</td>\n",
       "      <td>0</td>\n",
       "    </tr>\n",
       "    <tr>\n",
       "      <th>232</th>\n",
       "      <td>She is good. Does she make any more music? If ...</td>\n",
       "      <td>0</td>\n",
       "    </tr>\n",
       "    <tr>\n",
       "      <th>431</th>\n",
       "      <td>EVERYONE PLEASE SUBSCRIBE TO MY CHANNEL OR CAN...</td>\n",
       "      <td>1</td>\n",
       "    </tr>\n",
       "    <tr>\n",
       "      <th>8</th>\n",
       "      <td>You should check my channel for Funny VIDEOS!!﻿</td>\n",
       "      <td>1</td>\n",
       "    </tr>\n",
       "    <tr>\n",
       "      <th>359</th>\n",
       "      <td>Love the way you lie II is nicer in my opinion...</td>\n",
       "      <td>0</td>\n",
       "    </tr>\n",
       "    <tr>\n",
       "      <th>46</th>\n",
       "      <td>Love😘❤💖﻿</td>\n",
       "      <td>0</td>\n",
       "    </tr>\n",
       "    <tr>\n",
       "      <th>130</th>\n",
       "      <td>Can somebody wake me up when we get to 3 billi...</td>\n",
       "      <td>0</td>\n",
       "    </tr>\n",
       "    <tr>\n",
       "      <th>13</th>\n",
       "      <td>2011- the last year of decent music.﻿</td>\n",
       "      <td>0</td>\n",
       "    </tr>\n",
       "    <tr>\n",
       "      <th>424</th>\n",
       "      <td>Simply rap god﻿</td>\n",
       "      <td>0</td>\n",
       "    </tr>\n",
       "    <tr>\n",
       "      <th>335</th>\n",
       "      <td>curti? click here ?  https://www.facebook.com/...</td>\n",
       "      <td>1</td>\n",
       "    </tr>\n",
       "  </tbody>\n",
       "</table>\n",
       "</div>"
      ],
      "text/plain": [
       "                                               CONTENT  CLASS\n",
       "162                                      Good times. ﻿      0\n",
       "232  She is good. Does she make any more music? If ...      0\n",
       "431  EVERYONE PLEASE SUBSCRIBE TO MY CHANNEL OR CAN...      1\n",
       "8      You should check my channel for Funny VIDEOS!!﻿      1\n",
       "359  Love the way you lie II is nicer in my opinion...      0\n",
       "46                                            Love😘❤💖﻿      0\n",
       "130  Can somebody wake me up when we get to 3 billi...      0\n",
       "13               2011- the last year of decent music.﻿      0\n",
       "424                                    Simply rap god﻿      0\n",
       "335  curti? click here ?  https://www.facebook.com/...      1"
      ]
     },
     "execution_count": 86,
     "metadata": {},
     "output_type": "execute_result"
    }
   ],
   "source": [
    "ST = pd.concat([Psy, KatyPerry,LMFAO, Eminem]) \n",
    "# removing the columns that aren't needed \n",
    "ST.drop(['COMMENT_ID','AUTHOR', 'DATE'], axis=1, inplace=True)\n",
    "ST.sample(10) # viewing sample"
   ]
  },
  {
   "cell_type": "code",
   "execution_count": 87,
   "id": "0a33c012",
   "metadata": {},
   "outputs": [],
   "source": [
    "# creating our training test split\n",
    "Xt, Xv, yt, yv = train_test_split(ST['CONTENT'], ST['CLASS'])"
   ]
  },
  {
   "cell_type": "code",
   "execution_count": 88,
   "id": "0a54221a",
   "metadata": {},
   "outputs": [
    {
     "data": {
      "text/plain": [
       "(1189, 3210)"
      ]
     },
     "execution_count": 88,
     "metadata": {},
     "output_type": "execute_result"
    }
   ],
   "source": [
    "tfidf_vect = TfidfVectorizer(use_idf=True, lowercase=True)\n",
    "Xt_tfidf = tfidf_vect.fit_transform(Xt)\n",
    "Xt_tfidf.shape"
   ]
  },
  {
   "cell_type": "code",
   "execution_count": 89,
   "id": "628d173a",
   "metadata": {},
   "outputs": [
    {
     "name": "stderr",
     "output_type": "stream",
     "text": [
      "/Users/jennyskytta/opt/anaconda3/lib/python3.9/site-packages/sklearn/naive_bayes.py:555: UserWarning: alpha too small will result in numeric errors, setting alpha = 1.0e-10\n",
      "  warnings.warn(\n"
     ]
    },
    {
     "data": {
      "text/plain": [
       "MultinomialNB(alpha=0)"
      ]
     },
     "execution_count": 89,
     "metadata": {},
     "output_type": "execute_result"
    }
   ],
   "source": [
    "m = MultinomialNB(alpha=0) #setting at zero to purposely demonstrate improvement\n",
    "m.fit(Xt_tfidf, yt)"
   ]
  },
  {
   "cell_type": "code",
   "execution_count": 90,
   "id": "4f2b1b80",
   "metadata": {},
   "outputs": [],
   "source": [
    "# applying the same variable vectorization on our training set \n",
    "x_test_tfidf = tfidf_vect.transform(Xv)\n",
    "predictspam = m.predict(x_test_tfidf) # 0 say Ham / 1 say Spam"
   ]
  },
  {
   "cell_type": "code",
   "execution_count": 91,
   "id": "6a3a1433",
   "metadata": {},
   "outputs": [
    {
     "data": {
      "text/plain": [
       "array([[140,  46],\n",
       "       [ 15, 196]])"
      ]
     },
     "execution_count": 91,
     "metadata": {},
     "output_type": "execute_result"
    }
   ],
   "source": [
    "confusion_matrix(yv, predictspam)  # majority are accurately predicted"
   ]
  },
  {
   "cell_type": "code",
   "execution_count": 92,
   "id": "77604cfd",
   "metadata": {},
   "outputs": [
    {
     "name": "stdout",
     "output_type": "stream",
     "text": [
      "              precision    recall  f1-score   support\n",
      "\n",
      "           0       0.90      0.75      0.82       186\n",
      "           1       0.81      0.93      0.87       211\n",
      "\n",
      "    accuracy                           0.85       397\n",
      "   macro avg       0.86      0.84      0.84       397\n",
      "weighted avg       0.85      0.85      0.84       397\n",
      "\n"
     ]
    }
   ],
   "source": [
    "print(classification_report(yv, predictspam))  # 86% accurate - not great "
   ]
  },
  {
   "cell_type": "code",
   "execution_count": 93,
   "id": "7788a350",
   "metadata": {},
   "outputs": [
    {
     "data": {
      "text/plain": [
       "0.8463476070528967"
      ]
     },
     "execution_count": 93,
     "metadata": {},
     "output_type": "execute_result"
    }
   ],
   "source": [
    "m.score(x_test_tfidf, yv)"
   ]
  },
  {
   "cell_type": "markdown",
   "id": "7f3522d8",
   "metadata": {},
   "source": [
    "In Viewing the DF, we can see that there are lots of links and symbols that will make the data really difficult to fit 'as-is' so I will try to clean it up by parsing messages out to remove symbols and odd syntax."
   ]
  },
  {
   "cell_type": "code",
   "execution_count": 94,
   "id": "7358319b",
   "metadata": {},
   "outputs": [
    {
     "data": {
      "text/plain": [
       "array([1.00000000e-08, 4.39397056e-08, 1.93069773e-07, 8.48342898e-07,\n",
       "       3.72759372e-06, 1.63789371e-05, 7.19685673e-05, 3.16227766e-04,\n",
       "       1.38949549e-03, 6.10540230e-03, 2.68269580e-02, 1.17876863e-01,\n",
       "       5.17947468e-01, 2.27584593e+00, 1.00000000e+01])"
      ]
     },
     "execution_count": 94,
     "metadata": {},
     "output_type": "execute_result"
    }
   ],
   "source": [
    "# we can make a loop over different alphas to decide which one is best \n",
    "\n",
    "alphas = 10**np.linspace(-8,1,15)\n",
    "alphas"
   ]
  },
  {
   "cell_type": "code",
   "execution_count": 95,
   "id": "5683e058",
   "metadata": {},
   "outputs": [
    {
     "data": {
      "image/png": "[encoded data removed]",
      "text/plain": [
       "<Figure size 432x288 with 1 Axes>"
      ]
     },
     "metadata": {
      "needs_background": "light"
     },
     "output_type": "display_data"
    }
   ],
   "source": [
    "alphas = 10**np.linspace(-8,1,15)\n",
    "scores = []\n",
    "for alpha in alphas:\n",
    "    m = MultinomialNB(alpha=alpha)\n",
    "    m.fit(Xt_tfidf, yt)\n",
    "    scores.append(m.score(x_test_tfidf, yv))\n",
    "    \n",
    "plt.plot(alphas, scores, marker=\"o\")\n",
    "plt.xscale(\"log\")"
   ]
  },
  {
   "cell_type": "code",
   "execution_count": 100,
   "id": "b2a8e25b",
   "metadata": {},
   "outputs": [
    {
     "name": "stdout",
     "output_type": "stream",
     "text": [
      "[[165  21]\n",
      " [ 13 198]]\n",
      "              precision    recall  f1-score   support\n",
      "\n",
      "           0       0.93      0.89      0.91       186\n",
      "           1       0.90      0.94      0.92       211\n",
      "\n",
      "    accuracy                           0.91       397\n",
      "   macro avg       0.92      0.91      0.91       397\n",
      "weighted avg       0.91      0.91      0.91       397\n",
      "\n"
     ]
    }
   ],
   "source": [
    "m = MultinomialNB(alpha=0.5) #setting at zero to purposely demonstrate improvement\n",
    "m.fit(Xt_tfidf, yt)\n",
    "x_test_tfidf = tfidf_vect.transform(Xv)\n",
    "predictspam = m.predict(x_test_tfidf) # 0 say Ham / 1 say Spam\n",
    "print(confusion_matrix(yv, predictspam))\n",
    "print(classification_report(yv, predictspam))  # improves to 91%"
   ]
  },
  {
   "cell_type": "markdown",
   "id": "23900a7b",
   "metadata": {},
   "source": [
    "__Using the 5th dataset for testing the model, I'll assess accuracy.  As you see below, the model predicts at about 88% accuracy which messages are spam vs. ham.__"
   ]
  },
  {
   "cell_type": "code",
   "execution_count": 101,
   "id": "2f6257fb",
   "metadata": {},
   "outputs": [
    {
     "name": "stdout",
     "output_type": "stream",
     "text": [
      "[[168  28]\n",
      " [ 16 158]]\n",
      "              precision    recall  f1-score   support\n",
      "\n",
      "           0       0.91      0.86      0.88       196\n",
      "           1       0.85      0.91      0.88       174\n",
      "\n",
      "    accuracy                           0.88       370\n",
      "   macro avg       0.88      0.88      0.88       370\n",
      "weighted avg       0.88      0.88      0.88       370\n",
      "\n"
     ]
    }
   ],
   "source": [
    "XShaktest = Shakira['CONTENT']\n",
    "yShaktest = Shakira['CLASS']\n",
    "shakira_test = tfidf_vect.transform(XShaktest)\n",
    "predictspam2 = m.predict(shakira_test) \n",
    "print(confusion_matrix(yShaktest, predictspam2))\n",
    "print(classification_report(yShaktest, predictspam2)) # 88% accuracy "
   ]
  },
  {
   "cell_type": "code",
   "execution_count": 105,
   "id": "043416cc",
   "metadata": {},
   "outputs": [
    {
     "data": {
      "text/html": [
       "<div>\n",
       "<style scoped>\n",
       "    .dataframe tbody tr th:only-of-type {\n",
       "        vertical-align: middle;\n",
       "    }\n",
       "\n",
       "    .dataframe tbody tr th {\n",
       "        vertical-align: top;\n",
       "    }\n",
       "\n",
       "    .dataframe thead th {\n",
       "        text-align: right;\n",
       "    }\n",
       "</style>\n",
       "<table border=\"1\" class=\"dataframe\">\n",
       "  <thead>\n",
       "    <tr style=\"text-align: right;\">\n",
       "      <th></th>\n",
       "      <th>CONTENT</th>\n",
       "      <th>CLASS</th>\n",
       "    </tr>\n",
       "  </thead>\n",
       "  <tbody>\n",
       "    <tr>\n",
       "      <th>59</th>\n",
       "      <td>My friend Sam loves this song😊😊😊😊😊😊😊😊😊😊😊😊😊😊😊😊😊...</td>\n",
       "      <td>0</td>\n",
       "    </tr>\n",
       "    <tr>\n",
       "      <th>245</th>\n",
       "      <td>She is perfect! &amp;lt;3</td>\n",
       "      <td>0</td>\n",
       "    </tr>\n",
       "    <tr>\n",
       "      <th>9</th>\n",
       "      <td>I like shakira..﻿</td>\n",
       "      <td>0</td>\n",
       "    </tr>\n",
       "    <tr>\n",
       "      <th>300</th>\n",
       "      <td>Hello everyone :) I know most of you probably ...</td>\n",
       "      <td>1</td>\n",
       "    </tr>\n",
       "    <tr>\n",
       "      <th>291</th>\n",
       "      <td>WAYS TO MAKE MONEY 50k Per Month Search google...</td>\n",
       "      <td>1</td>\n",
       "    </tr>\n",
       "    <tr>\n",
       "      <th>156</th>\n",
       "      <td>Pleas subscribe GamezZ MTA my channel&lt;br /&gt;﻿</td>\n",
       "      <td>1</td>\n",
       "    </tr>\n",
       "    <tr>\n",
       "      <th>170</th>\n",
       "      <td>I really love watching football and also I’ve ...</td>\n",
       "      <td>1</td>\n",
       "    </tr>\n",
       "    <tr>\n",
       "      <th>79</th>\n",
       "      <td>&amp;lt;3 this song so much.SHAKIRA YOUR A REALLY ...</td>\n",
       "      <td>0</td>\n",
       "    </tr>\n",
       "    <tr>\n",
       "      <th>165</th>\n",
       "      <td>PLEASSSSSSSSSSSSSSSS SUBSCRIBEEEEEEEEEE MY CHA...</td>\n",
       "      <td>1</td>\n",
       "    </tr>\n",
       "    <tr>\n",
       "      <th>231</th>\n",
       "      <td>Haha , Miley Cyrus has done it once again  T...</td>\n",
       "      <td>1</td>\n",
       "    </tr>\n",
       "  </tbody>\n",
       "</table>\n",
       "</div>"
      ],
      "text/plain": [
       "                                               CONTENT  CLASS\n",
       "59   My friend Sam loves this song😊😊😊😊😊😊😊😊😊😊😊😊😊😊😊😊😊...      0\n",
       "245                              She is perfect! &lt;3      0\n",
       "9                                    I like shakira..﻿      0\n",
       "300  Hello everyone :) I know most of you probably ...      1\n",
       "291  WAYS TO MAKE MONEY 50k Per Month Search google...      1\n",
       "156       Pleas subscribe GamezZ MTA my channel<br />﻿      1\n",
       "170  I really love watching football and also I’ve ...      1\n",
       "79   &lt;3 this song so much.SHAKIRA YOUR A REALLY ...      0\n",
       "165  PLEASSSSSSSSSSSSSSSS SUBSCRIBEEEEEEEEEE MY CHA...      1\n",
       "231    Haha , Miley Cyrus has done it once again  T...      1"
      ]
     },
     "execution_count": 105,
     "metadata": {},
     "output_type": "execute_result"
    }
   ],
   "source": [
    "Shakira.sample(10, random_state=123) "
   ]
  },
  {
   "cell_type": "markdown",
   "id": "2f423935",
   "metadata": {},
   "source": [
    "In viewing a sample above, it does appear that with 0 representing Ham and 1 representing Spam, the CLASS column is accurately capturing the information from the above example. In rows 59, 245, 9, 79, we see the comments are specifically addressing Shakira or seem to apply to Shakira. The other comments appear to be completely incongruent."
   ]
  }
 ],
 "metadata": {
  "kernelspec": {
   "display_name": "Python 3 (ipykernel)",
   "language": "python",
   "name": "python3"
  },
  "language_info": {
   "codemirror_mode": {
    "name": "ipython",
    "version": 3
   },
   "file_extension": ".py",
   "mimetype": "text/x-python",
   "name": "python",
   "nbconvert_exporter": "python",
   "pygments_lexer": "ipython3",
   "version": "3.9.12"
  }
 },
 "nbformat": 4,
 "nbformat_minor": 5
}
