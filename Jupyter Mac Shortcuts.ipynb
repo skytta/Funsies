{
 "cells": [
  {
   "cell_type": "markdown",
   "id": "14d5552a",
   "metadata": {},
   "source": [
    "<h3> Cheatsheet – Jupyter Notebook Shortcuts for Mac users </h3> <br><br>\n",
    "\n",
    "Shortcut (Mac)\tDescription / Action\n",
    "*** \n",
    "Enter<br>\tEnter edit mode<br><br>\n",
    "Shift + Enter<br>\tRun cell, select below<br><br>\n",
    "Command + Enter<br>\tRun cell<br><br>\n",
    "Shift + Tab<br>\tShow tooltip<br><br>\n",
    "Esc\tCommand<br> mode<br><br>\n",
    "h<br>\tShow keyboard shortcuts<br><br>\n",
    "y<br>\tChange cell to code<br><br>\n",
    "m<br>\tChange cell to markdown<br><br>\n",
    "a<br>\tInsert cell above<br><br>\n",
    "b<br>\tInsert cell below<br><br>\n",
    "x<br>\tCut selected cells<br><br>\n",
    "c<br>\tCopy selected cells<br><br>\n",
    "v<br>\tPaste cells below<br><br>\n",
    "d + d<br>\tDelete selected cells<br><br>\n",
    "z<br>\tUndo last cell deletion<br><br>\n",
    "l<br>\tToggle line numbers<br><br>\n",
    "o<br>\tToggle output<br><br>\n",
    "Shift + Up<br>\tSelect multiple cells<br><br>\n",
    "Shift + Down<br>\tSelect multiple cells<br><br>\n",
    "Shift + M<br>\tMerge selected cells<br><br>\n",
    "Command + S<br>\tSave and checkpoint<br><br>\n",
    "Command + Shift + S<br>\tSave and checkpoint as<br><br>\n",
    "Command + Shift + -(minus sign)<br>\tSplit cell at cursor<br><br>\n",
    "Command + A<br>\tSelect all cells<br><br>\n",
    "Command + Z<br>\tUndo last action<br><br>\n",
    "Command + Y<br>\tRedo last action<br><br>\n",
    "Command + C<br>\tInterrupt kernel<br><br>\n",
    "Command + F<br>\tFind and replace<br><br>\n",
    "Command + Shift + F<br>\tFind and replace in all notebooks<br><br>\n",
    "Command + L<br>\tClear output<br><br>\n",
    "Command + Shift + -(minus sign)<br>\tSplit cell at cursor<br><br>\n",
    "Command + S<br>\tSave and checkpoint<br><br>\n",
    "Command + Option + -(minus sign)<br>\tSplit cell<br><br>\n",
    "Alt + Up<br>\tMove current cell up<br><br>\n",
    "Alt + Down<br>\tMove current cell Down<br><br>"
   ]
  }
 ],
 "metadata": {
  "kernelspec": {
   "display_name": "Python 3 (ipykernel)",
   "language": "python",
   "name": "python3"
  },
  "language_info": {
   "codemirror_mode": {
    "name": "ipython",
    "version": 3
   },
   "file_extension": ".py",
   "mimetype": "text/x-python",
   "name": "python",
   "nbconvert_exporter": "python",
   "pygments_lexer": "ipython3",
   "version": "3.9.12"
  }
 },
 "nbformat": 4,
 "nbformat_minor": 5
}
