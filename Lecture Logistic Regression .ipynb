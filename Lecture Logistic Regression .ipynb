{
 "cells": [
  {
   "cell_type": "code",
   "execution_count": 3,
   "id": "25b75267",
   "metadata": {},
   "outputs": [],
   "source": [
    "#import library\n",
    "import pandas as pd\n",
    "import numpy as np\n",
    "import matplotlib.pyplot as plt\n",
    "import seaborn as sns\n",
    "%matplotlib inline"
   ]
  },
  {
   "cell_type": "code",
   "execution_count": 5,
   "id": "aad41593",
   "metadata": {},
   "outputs": [],
   "source": [
    "## Create a 2d decision boundary plot\n",
    "## Intended to be used in other tasks\n",
    "import numpy as np\n",
    "import matplotlib.pyplot as plt\n",
    "\n",
    "## Decision boundary plot\n",
    "def DBPlot(m, X, y, nGrid = 100, fName=None):\n",
    "    \"\"\"\n",
    "    m: sklearn model\n",
    "    X: design matrix\n",
    "    y: outcome vector\n",
    "    nGrid: density of plot grid\n",
    "    fname: if not None, save output to this file\n",
    "    \"\"\"\n",
    "    x1_min, x1_max = X[:, 0].min() - 1, X[:, 0].max() + 1\n",
    "    x2_min, x2_max = X[:, 1].min() - 1, X[:, 1].max() + 1\n",
    "    xx1, xx2 = np.meshgrid(np.linspace(x1_min, x1_max, nGrid),\n",
    "                           np.linspace(x2_min, x2_max, nGrid))\n",
    "    XX = np.column_stack((xx1.ravel(), xx2.ravel()))\n",
    "    phat = m.predict(XX)\n",
    "    hatyy = np.argmax(phat, axis=-1).reshape(xx1.shape)\n",
    "    plt.figure(figsize=(10,10))\n",
    "    _ = plt.imshow(hatyy, extent=(x1_min, x1_max, x2_min, x2_max),\n",
    "                   aspect=\"auto\",\n",
    "                   interpolation='none', origin='lower',\n",
    "                   alpha=0.3)\n",
    "    plt.scatter(X[:,0], X[:,1], c=y, s=30, edgecolors='k')\n",
    "    plt.xlim(x1_min, x1_max)\n",
    "    plt.ylim(x2_min, x2_max)\n",
    "    if fName is not None:\n",
    "        plt.savefig(fName)\n",
    "    plt.show()\n"
   ]
  },
  {
   "cell_type": "code",
   "execution_count": null,
   "id": "51952a9e",
   "metadata": {},
   "outputs": [],
   "source": [
    "#!/usr/bin/env python3\n",
    "## Create a 2d yin-yang pattern\n",
    "## Intended to be used in other tasks\n",
    "import numpy as np\n",
    "import pandas as pd\n",
    "import matplotlib.pyplot as plt\n",
    "\n",
    "## Create yin-yang pattern\n",
    "n = 800  # number of data points\n",
    "x = np.random.normal(size=n)\n",
    "y = np.random.normal(size=n)\n",
    "X = np.column_stack((x,y))  # design matrix\n",
    "alpha = np.arctan2(y, x)\n",
    "r = np.sqrt(x**2 + y**2)\n",
    "c = np.sin(alpha + r)\n",
    "# cut the sum of a sin and cosine into 4 parts\n",
    "category = np.sign(c)\n",
    "nCategories = len(np.unique(category))\n",
    "y = category\n",
    "\n",
    "##\n",
    "print(\"inputs: X\", X.shape, \"  y:\", y.shape, \" \", nCategories, \"different categories\")\n",
    "print(\"X example:\\n\")\n",
    "print(X[:5])\n",
    "print(\"y example:\\n\")\n",
    "print(y[:5])\n",
    "\n",
    "## Plot data\n",
    "ax = plt.axes()\n",
    "_ = ax.scatter(X[:,0], X[:,1], c=y)\n",
    "_ = ax.set_aspect(\"equal\")\n",
    "_ = plt.show()"
   ]
  }
 ],
 "metadata": {
  "kernelspec": {
   "display_name": "Python 3 (ipykernel)",
   "language": "python",
   "name": "python3"
  },
  "language_info": {
   "codemirror_mode": {
    "name": "ipython",
    "version": 3
   },
   "file_extension": ".py",
   "mimetype": "text/x-python",
   "name": "python",
   "nbconvert_exporter": "python",
   "pygments_lexer": "ipython3",
   "version": "3.9.12"
  }
 },
 "nbformat": 4,
 "nbformat_minor": 5
}
