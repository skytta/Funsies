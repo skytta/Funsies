{
 "cells": [
  {
   "cell_type": "markdown",
   "id": "7ae2e806",
   "metadata": {},
   "source": [
    "### INSTRUCTIONS:  \n",
    "Create a logistics regression model to predict the class label from the first eight attributes of the question set.\n",
    "Try doing the same using two different subsets (your choice) of those eight attributes.\n",
    "Report the accuracies of each of these three models.\n",
    "For the two subsets that you use, provide some justification (why you chose those features in a given subset)."
   ]
  },
  {
   "cell_type": "code",
   "execution_count": 113,
   "id": "4a00912b",
   "metadata": {},
   "outputs": [],
   "source": [
    "import pandas as pd   #import libraries\n",
    "import numpy as np\n",
    "import matplotlib.pyplot as plt\n",
    "import seaborn as sns\n",
    "%matplotlib inline"
   ]
  },
  {
   "cell_type": "markdown",
   "id": "ca2bfb85",
   "metadata": {},
   "source": [
    "### Problem 1\n",
    "An automated answer-rating site marks each post in a community forum website as “good” or “bad” based on the quality of the post. \n",
    "- Create a logistics regression model to predict the class label from the first eight attributes of the question set.\n",
    "- Try doing the same using two different subsets (your choice) of those eight attributes.\n",
    "- Report the accuracies of each of these three models.\n",
    "- For the two subsets that you use, provide some justification (why you chose those features in a given subset)."
   ]
  },
  {
   "cell_type": "code",
   "execution_count": 114,
   "id": "d0c76578",
   "metadata": {},
   "outputs": [
    {
     "data": {
      "text/html": [
       "<div>\n",
       "<style scoped>\n",
       "    .dataframe tbody tr th:only-of-type {\n",
       "        vertical-align: middle;\n",
       "    }\n",
       "\n",
       "    .dataframe tbody tr th {\n",
       "        vertical-align: top;\n",
       "    }\n",
       "\n",
       "    .dataframe thead th {\n",
       "        text-align: right;\n",
       "    }\n",
       "</style>\n",
       "<table border=\"1\" class=\"dataframe\">\n",
       "  <thead>\n",
       "    <tr style=\"text-align: right;\">\n",
       "      <th></th>\n",
       "      <th>S.No.</th>\n",
       "      <th>num_words</th>\n",
       "      <th>num_characters</th>\n",
       "      <th>num_misspelled</th>\n",
       "      <th>bin_end_qmark</th>\n",
       "      <th>num_interrogative</th>\n",
       "      <th>bin_start_small</th>\n",
       "      <th>num_sentences</th>\n",
       "      <th>num_punctuations</th>\n",
       "      <th>label</th>\n",
       "    </tr>\n",
       "  </thead>\n",
       "  <tbody>\n",
       "    <tr>\n",
       "      <th>18</th>\n",
       "      <td>505</td>\n",
       "      <td>9</td>\n",
       "      <td>25</td>\n",
       "      <td>0</td>\n",
       "      <td>0</td>\n",
       "      <td>0</td>\n",
       "      <td>0</td>\n",
       "      <td>1</td>\n",
       "      <td>2</td>\n",
       "      <td>G</td>\n",
       "    </tr>\n",
       "    <tr>\n",
       "      <th>17</th>\n",
       "      <td>504</td>\n",
       "      <td>25</td>\n",
       "      <td>124</td>\n",
       "      <td>4</td>\n",
       "      <td>0</td>\n",
       "      <td>1</td>\n",
       "      <td>0</td>\n",
       "      <td>4</td>\n",
       "      <td>6</td>\n",
       "      <td>G</td>\n",
       "    </tr>\n",
       "    <tr>\n",
       "      <th>12</th>\n",
       "      <td>13</td>\n",
       "      <td>9</td>\n",
       "      <td>56</td>\n",
       "      <td>5</td>\n",
       "      <td>0</td>\n",
       "      <td>0</td>\n",
       "      <td>0</td>\n",
       "      <td>2</td>\n",
       "      <td>1</td>\n",
       "      <td>B</td>\n",
       "    </tr>\n",
       "    <tr>\n",
       "      <th>26</th>\n",
       "      <td>513</td>\n",
       "      <td>10</td>\n",
       "      <td>35</td>\n",
       "      <td>0</td>\n",
       "      <td>0</td>\n",
       "      <td>1</td>\n",
       "      <td>0</td>\n",
       "      <td>1</td>\n",
       "      <td>0</td>\n",
       "      <td>G</td>\n",
       "    </tr>\n",
       "    <tr>\n",
       "      <th>15</th>\n",
       "      <td>502</td>\n",
       "      <td>4</td>\n",
       "      <td>17</td>\n",
       "      <td>2</td>\n",
       "      <td>0</td>\n",
       "      <td>1</td>\n",
       "      <td>1</td>\n",
       "      <td>1</td>\n",
       "      <td>0</td>\n",
       "      <td>G</td>\n",
       "    </tr>\n",
       "  </tbody>\n",
       "</table>\n",
       "</div>"
      ],
      "text/plain": [
       "    S.No.  num_words  num_characters  num_misspelled  bin_end_qmark  \\\n",
       "18    505          9              25               0              0   \n",
       "17    504         25             124               4              0   \n",
       "12     13          9              56               5              0   \n",
       "26    513         10              35               0              0   \n",
       "15    502          4              17               2              0   \n",
       "\n",
       "    num_interrogative  bin_start_small  num_sentences  num_punctuations label  \n",
       "18                  0                0              1                 2     G  \n",
       "17                  1                0              4                 6     G  \n",
       "12                  0                0              2                 1     B  \n",
       "26                  1                0              1                 0     G  \n",
       "15                  1                1              1                 0     G  "
      ]
     },
     "execution_count": 114,
     "metadata": {},
     "output_type": "execute_result"
    }
   ],
   "source": [
    "quality = pd.read_csv('/Users/jennyskytta/Downloads/Datafiles/quality.csv') # load in quality csv\n",
    "quality.sample(5) # outcome is B or G on variable \"label\""
   ]
  },
  {
   "cell_type": "code",
   "execution_count": 115,
   "id": "8b13622b",
   "metadata": {},
   "outputs": [],
   "source": [
    "yQ = quality.label.values #assign my outcome vector \n",
    "XQ = quality[[\"num_words\", \"num_characters\", \"num_misspelled\", \"bin_end_qmark\", \"num_interrogative\", \"bin_start_small\", \"num_sentences\", \"num_punctuations\"]].values"
   ]
  },
  {
   "cell_type": "code",
   "execution_count": 116,
   "id": "f5f8f5d2",
   "metadata": {},
   "outputs": [
    {
     "data": {
      "text/plain": [
       "LogisticRegression(max_iter=1000)"
      ]
     },
     "execution_count": 116,
     "metadata": {},
     "output_type": "execute_result"
    }
   ],
   "source": [
    "from sklearn.model_selection import train_test_split  # import our library \n",
    "from sklearn.linear_model import LogisticRegression \n",
    "XQtrain, XQtest, yQtrain, yQtest = train_test_split(XQ, yQ, test_size = 0.25, random_state=58)\n",
    "m = LogisticRegression(max_iter=1000)\n",
    "m.fit(XQtrain,yQtrain)  # train the model"
   ]
  },
  {
   "cell_type": "code",
   "execution_count": 117,
   "id": "39543a67",
   "metadata": {},
   "outputs": [
    {
     "name": "stdout",
     "output_type": "stream",
     "text": [
      "              precision    recall  f1-score   support\n",
      "\n",
      "           B       0.67      0.67      0.67         3\n",
      "           G       0.75      0.75      0.75         4\n",
      "\n",
      "    accuracy                           0.71         7\n",
      "   macro avg       0.71      0.71      0.71         7\n",
      "weighted avg       0.71      0.71      0.71         7\n",
      "\n"
     ]
    }
   ],
   "source": [
    "from sklearn.metrics import classification_report\n",
    "predictions = m.predict(XQtest) # lets start our predictions\n",
    "print(classification_report(yQtest,predictions))"
   ]
  },
  {
   "cell_type": "markdown",
   "id": "7e584dea",
   "metadata": {},
   "source": [
    "##### Subset 2 of Quality data\n",
    "I selected number of words, number of mispellings, number of sentences and number of punctuations solely because they intuitively appear to be hallmarks of quality writing.  One would assume that you're going to convey a better message with more succinct words that are spelled correctly, with proper grammar and punctuation.  These appear to be better predictors than the combined 8 variables as they predict with 100% accuracy."
   ]
  },
  {
   "cell_type": "code",
   "execution_count": 118,
   "id": "f271e0dd",
   "metadata": {},
   "outputs": [
    {
     "data": {
      "text/plain": [
       "LogisticRegression(max_iter=1000)"
      ]
     },
     "execution_count": 118,
     "metadata": {},
     "output_type": "execute_result"
    }
   ],
   "source": [
    "yQ2 = quality.label.values #assign my outcome vector \n",
    "XQ2 = quality[[\"num_words\", \"num_misspelled\", \"num_sentences\", \"num_punctuations\"]].values\n",
    "XQ2train, XQ2test, yQ2train, yQ2test = train_test_split(XQ2, yQ2, test_size = 0.25, random_state=58)\n",
    "m = LogisticRegression(max_iter=1000)\n",
    "m.fit(XQ2train,yQ2train)  # train the model"
   ]
  },
  {
   "cell_type": "code",
   "execution_count": 119,
   "id": "9100a649",
   "metadata": {},
   "outputs": [
    {
     "name": "stdout",
     "output_type": "stream",
     "text": [
      "              precision    recall  f1-score   support\n",
      "\n",
      "           B       1.00      1.00      1.00         3\n",
      "           G       1.00      1.00      1.00         4\n",
      "\n",
      "    accuracy                           1.00         7\n",
      "   macro avg       1.00      1.00      1.00         7\n",
      "weighted avg       1.00      1.00      1.00         7\n",
      "\n"
     ]
    }
   ],
   "source": [
    "predictions2 = m.predict(XQ2test) # lets start our predictions\n",
    "print(classification_report(yQ2test,predictions2))"
   ]
  },
  {
   "cell_type": "markdown",
   "id": "6c3882b0",
   "metadata": {},
   "source": [
    "##### Subset 3 of Quality data\n",
    "For good measure, I 3 of the remaining variables to assess if they might have stronger influence that my intuition expected.  As we see, they are poorer predictors of quality than the previous subset, as this model has roughly 57% accuracy."
   ]
  },
  {
   "cell_type": "code",
   "execution_count": 120,
   "id": "2669ed6b",
   "metadata": {},
   "outputs": [
    {
     "name": "stdout",
     "output_type": "stream",
     "text": [
      "0.5714285714285714\n",
      "              precision    recall  f1-score   support\n",
      "\n",
      "           B       0.00      0.00      0.00         3\n",
      "           G       0.50      0.75      0.60         4\n",
      "\n",
      "    accuracy                           0.43         7\n",
      "   macro avg       0.25      0.38      0.30         7\n",
      "weighted avg       0.29      0.43      0.34         7\n",
      "\n"
     ]
    }
   ],
   "source": [
    "yQ3 = quality.label.values #assign my outcome vector \n",
    "XQ3 = quality[[\"bin_end_qmark\", \"num_interrogative\", \"bin_start_small\"]].values\n",
    "XQ3train, XQ3test, yQ3train, yQ3test = train_test_split(XQ3, yQ3, test_size = 0.25, random_state=58)\n",
    "m = LogisticRegression(max_iter=1000)\n",
    "m.fit(XQ3train,yQ3train)  # train the model\n",
    "predictions3 = m.predict(XQ3test) # lets start our predictions\n",
    "print(m.score(XQ3,yQ3))\n",
    "print(classification_report(yQ3test,predictions3))"
   ]
  },
  {
   "cell_type": "markdown",
   "id": "53025678",
   "metadata": {},
   "source": [
    "### Problem 2\n",
    "Using a “wine” dataset, containing information about several wines, their characteristics, and their quality, do some experiments (trial-and-error) to figure out a good subset of features to use for learning wine quality. Report these features.\n",
    "- Download wine dataset. It contains information about several wines—their characteristics (features) and if it's considered high quality or not (1 or 0).\n",
    "- First, do some experiments (trial-and-error) to figure out a good subset of features to use for learning wine quality (last column). Report these features."
   ]
  },
  {
   "cell_type": "code",
   "execution_count": 121,
   "id": "6c63d235",
   "metadata": {},
   "outputs": [
    {
     "name": "stdout",
     "output_type": "stream",
     "text": [
      "(6497, 15)\n",
      "0.0    5220\n",
      "1.0    1277\n",
      "Name: high_quality, dtype: int64\n"
     ]
    },
    {
     "data": {
      "text/html": [
       "<div>\n",
       "<style scoped>\n",
       "    .dataframe tbody tr th:only-of-type {\n",
       "        vertical-align: middle;\n",
       "    }\n",
       "\n",
       "    .dataframe tbody tr th {\n",
       "        vertical-align: top;\n",
       "    }\n",
       "\n",
       "    .dataframe thead th {\n",
       "        text-align: right;\n",
       "    }\n",
       "</style>\n",
       "<table border=\"1\" class=\"dataframe\">\n",
       "  <thead>\n",
       "    <tr style=\"text-align: right;\">\n",
       "      <th></th>\n",
       "      <th>fixed_acidity</th>\n",
       "      <th>volatile_acidity</th>\n",
       "      <th>citric_acid</th>\n",
       "      <th>residual_sugar</th>\n",
       "      <th>chlorides</th>\n",
       "      <th>free_sulfur_dioxide</th>\n",
       "      <th>total_sulfur_dioxide</th>\n",
       "      <th>density</th>\n",
       "      <th>pH</th>\n",
       "      <th>sulphates</th>\n",
       "      <th>alcohol</th>\n",
       "      <th>quality</th>\n",
       "      <th>color</th>\n",
       "      <th>is_red</th>\n",
       "      <th>high_quality</th>\n",
       "    </tr>\n",
       "  </thead>\n",
       "  <tbody>\n",
       "    <tr>\n",
       "      <th>4392</th>\n",
       "      <td>6.5</td>\n",
       "      <td>0.37</td>\n",
       "      <td>0.30</td>\n",
       "      <td>2.2</td>\n",
       "      <td>0.033</td>\n",
       "      <td>39.0</td>\n",
       "      <td>107.0</td>\n",
       "      <td>0.98894</td>\n",
       "      <td>3.22</td>\n",
       "      <td>0.53</td>\n",
       "      <td>13.5</td>\n",
       "      <td>7</td>\n",
       "      <td>white</td>\n",
       "      <td>0.0</td>\n",
       "      <td>1.0</td>\n",
       "    </tr>\n",
       "    <tr>\n",
       "      <th>4324</th>\n",
       "      <td>6.9</td>\n",
       "      <td>0.23</td>\n",
       "      <td>0.32</td>\n",
       "      <td>16.4</td>\n",
       "      <td>0.045</td>\n",
       "      <td>62.0</td>\n",
       "      <td>153.0</td>\n",
       "      <td>0.99720</td>\n",
       "      <td>3.22</td>\n",
       "      <td>0.42</td>\n",
       "      <td>10.5</td>\n",
       "      <td>5</td>\n",
       "      <td>white</td>\n",
       "      <td>0.0</td>\n",
       "      <td>0.0</td>\n",
       "    </tr>\n",
       "    <tr>\n",
       "      <th>1507</th>\n",
       "      <td>7.5</td>\n",
       "      <td>0.38</td>\n",
       "      <td>0.57</td>\n",
       "      <td>2.3</td>\n",
       "      <td>0.106</td>\n",
       "      <td>5.0</td>\n",
       "      <td>12.0</td>\n",
       "      <td>0.99605</td>\n",
       "      <td>3.36</td>\n",
       "      <td>0.55</td>\n",
       "      <td>11.4</td>\n",
       "      <td>6</td>\n",
       "      <td>red</td>\n",
       "      <td>1.0</td>\n",
       "      <td>0.0</td>\n",
       "    </tr>\n",
       "    <tr>\n",
       "      <th>4882</th>\n",
       "      <td>6.6</td>\n",
       "      <td>0.20</td>\n",
       "      <td>0.14</td>\n",
       "      <td>4.4</td>\n",
       "      <td>0.184</td>\n",
       "      <td>35.0</td>\n",
       "      <td>168.0</td>\n",
       "      <td>0.99396</td>\n",
       "      <td>2.93</td>\n",
       "      <td>0.45</td>\n",
       "      <td>9.4</td>\n",
       "      <td>6</td>\n",
       "      <td>white</td>\n",
       "      <td>0.0</td>\n",
       "      <td>0.0</td>\n",
       "    </tr>\n",
       "    <tr>\n",
       "      <th>760</th>\n",
       "      <td>9.0</td>\n",
       "      <td>0.58</td>\n",
       "      <td>0.25</td>\n",
       "      <td>2.8</td>\n",
       "      <td>0.075</td>\n",
       "      <td>9.0</td>\n",
       "      <td>104.0</td>\n",
       "      <td>0.99779</td>\n",
       "      <td>3.23</td>\n",
       "      <td>0.57</td>\n",
       "      <td>9.7</td>\n",
       "      <td>5</td>\n",
       "      <td>red</td>\n",
       "      <td>1.0</td>\n",
       "      <td>0.0</td>\n",
       "    </tr>\n",
       "  </tbody>\n",
       "</table>\n",
       "</div>"
      ],
      "text/plain": [
       "      fixed_acidity  volatile_acidity  citric_acid  residual_sugar  chlorides  \\\n",
       "4392            6.5              0.37         0.30             2.2      0.033   \n",
       "4324            6.9              0.23         0.32            16.4      0.045   \n",
       "1507            7.5              0.38         0.57             2.3      0.106   \n",
       "4882            6.6              0.20         0.14             4.4      0.184   \n",
       "760             9.0              0.58         0.25             2.8      0.075   \n",
       "\n",
       "      free_sulfur_dioxide  total_sulfur_dioxide  density    pH  sulphates  \\\n",
       "4392                 39.0                 107.0  0.98894  3.22       0.53   \n",
       "4324                 62.0                 153.0  0.99720  3.22       0.42   \n",
       "1507                  5.0                  12.0  0.99605  3.36       0.55   \n",
       "4882                 35.0                 168.0  0.99396  2.93       0.45   \n",
       "760                   9.0                 104.0  0.99779  3.23       0.57   \n",
       "\n",
       "      alcohol  quality  color  is_red  high_quality  \n",
       "4392     13.5        7  white     0.0           1.0  \n",
       "4324     10.5        5  white     0.0           0.0  \n",
       "1507     11.4        6    red     1.0           0.0  \n",
       "4882      9.4        6  white     0.0           0.0  \n",
       "760       9.7        5    red     1.0           0.0  "
      ]
     },
     "execution_count": 121,
     "metadata": {},
     "output_type": "execute_result"
    }
   ],
   "source": [
    "wine = pd.read_csv('/Users/jennyskytta/Downloads/Datafiles/wine.csv') # load in wine csv\n",
    "print(wine.shape)  # look at shape\n",
    "print(wine.high_quality.value_counts())  # value counts of high quality\n",
    "wine.sample(5) # view the dataframe /explore the data"
   ]
  },
  {
   "cell_type": "code",
   "execution_count": 122,
   "id": "23e5585a",
   "metadata": {},
   "outputs": [],
   "source": [
    "scores = wine[[\"fixed_acidity\", \"volatile_acidity\", \"citric_acid\", \"residual_sugar\", \"chlorides\", \"free_sulfur_dioxide\", \"total_sulfur_dioxide\", \"density\", \"pH\", \"sulphates\", \"alcohol\"]]"
   ]
  },
  {
   "cell_type": "code",
   "execution_count": 123,
   "id": "2d2428b7",
   "metadata": {},
   "outputs": [
    {
     "data": {
      "image/png": "[encoded data removed]",
      "text/plain": [
       "<Figure size 576x576 with 2 Axes>"
      ]
     },
     "metadata": {
      "needs_background": "light"
     },
     "output_type": "display_data"
    }
   ],
   "source": [
    "import matplotlib.pyplot as plt\n",
    "import seaborn\n",
    "\n",
    "fig, ax = plt.subplots(figsize=(8,8))\n",
    "seaborn.heatmap(wine.corr(), ax=ax)\n",
    "plt.show()"
   ]
  },
  {
   "cell_type": "code",
   "execution_count": 124,
   "id": "02cb1ac2",
   "metadata": {},
   "outputs": [],
   "source": [
    "y = wine.high_quality.values #assign my outcome vector \n",
    "#assign predictive variables - chosen based on high variability in range of values \n",
    "X = wine[[\"density\",\"alcohol\", \"is_red\"]].values"
   ]
  },
  {
   "cell_type": "code",
   "execution_count": 125,
   "id": "d4222bb4",
   "metadata": {},
   "outputs": [
    {
     "data": {
      "text/plain": [
       "0.8119131907034016"
      ]
     },
     "execution_count": 125,
     "metadata": {},
     "output_type": "execute_result"
    }
   ],
   "source": [
    "model = m.fit(X,y)\n",
    "m.score(X,y)# calculate accuracy  - % of correct predictions \n",
    "# this shows that the mean is 91% accurate "
   ]
  },
  {
   "cell_type": "code",
   "execution_count": 126,
   "id": "96375589",
   "metadata": {},
   "outputs": [
    {
     "data": {
      "text/plain": [
       "0.8034477451131291"
      ]
     },
     "execution_count": 126,
     "metadata": {},
     "output_type": "execute_result"
    }
   ],
   "source": [
    "#testing new predictor variables - chosen based on high variability in range of values \n",
    "X2 = wine[[\"density\", \"pH\", \"sulphates\"]].values\n",
    "m.fit(X2,y)\n",
    "m.predict(X2)\n",
    "m.score(X2,y)  # still 91% accuracy for predicting high quality "
   ]
  },
  {
   "cell_type": "code",
   "execution_count": 127,
   "id": "7dca64c4",
   "metadata": {},
   "outputs": [
    {
     "data": {
      "text/plain": [
       "0.8034477451131291"
      ]
     },
     "execution_count": 127,
     "metadata": {},
     "output_type": "execute_result"
    }
   ],
   "source": [
    "#assign my outcome vector \n",
    "y3 = wine.high_quality.values\n",
    "#assign predictive variables - chosen based on high variability in range of values \n",
    "X3 = wine[[\"density\"]].values\n",
    "m.fit(X3,y)\n",
    "m.predict(X3)\n",
    "m.score(X3,y)  # still 82% accuracy for predicting high quality "
   ]
  },
  {
   "cell_type": "code",
   "execution_count": 128,
   "id": "2db73f7a",
   "metadata": {},
   "outputs": [
    {
     "data": {
      "text/plain": [
       "0.8131445282438048"
      ]
     },
     "execution_count": 128,
     "metadata": {},
     "output_type": "execute_result"
    }
   ],
   "source": [
    "y4 = wine.high_quality.values\n",
    "#assign predictive variables - chosen based on high variability in range of values \n",
    "X4 = wine[[\"alcohol\"]].values\n",
    "m.fit(X4,y)\n",
    "m.predict(X4)\n",
    "m.score(X4,y)  # 79% maintained with 1 variable"
   ]
  },
  {
   "cell_type": "markdown",
   "id": "438555ad",
   "metadata": {},
   "source": [
    "#### Testing Variables Results\n",
    "I tried 4 model combinations of the predictor variables and for the most part, results showed within the 80% predictive accuracy which isn't bad.  There were 3 however that when together showed 85% accuracy and those were is_red, alcohol and density.  "
   ]
  },
  {
   "cell_type": "markdown",
   "id": "4660b09e",
   "metadata": {},
   "source": [
    "### kNN test with 70% ranging 2-10\n",
    "- Then, use 70% data for training to build a kNN classifier with different values of k ranging from 2–10.\n",
    "- Plot your accuracies with each of these. In other words, your final result will be a line chart with k on the x-axis and accuracy on the y-axis. "
   ]
  },
  {
   "cell_type": "code",
   "execution_count": 129,
   "id": "4c7a8e98",
   "metadata": {},
   "outputs": [
    {
     "data": {
      "text/plain": [
       "0.9119593658611667"
      ]
     },
     "execution_count": 129,
     "metadata": {},
     "output_type": "execute_result"
    }
   ],
   "source": [
    "from sklearn.neighbors import KNeighborsClassifier \n",
    "\n",
    "m = KNeighborsClassifier(2)  # testing on model 1 parameters to compare\n",
    "m.fit(X,y)  # fit is the same thing as \"train\"  - we used everything for training so everything is trained \n",
    "m.score(X,y)"
   ]
  },
  {
   "cell_type": "code",
   "execution_count": 130,
   "id": "3de5851f",
   "metadata": {},
   "outputs": [
    {
     "name": "stdout",
     "output_type": "stream",
     "text": [
      "0.8005128205128205\n"
     ]
    }
   ],
   "source": [
    "from sklearn.model_selection import train_test_split    # Predictor variables: density, alcohol, is_red\n",
    "Xtrain, Xtest, ytrain, ytest = train_test_split(X, y, test_size = 0.30, random_state=58) # 70 / 30 split\n",
    "m = KNeighborsClassifier(7)\n",
    "m.fit(Xtrain, ytrain) # fit model with training data\n",
    "print(m.score(Xtest, ytest)) # validating "
   ]
  },
  {
   "cell_type": "code",
   "execution_count": 131,
   "id": "e1bef397",
   "metadata": {},
   "outputs": [
    {
     "name": "stdout",
     "output_type": "stream",
     "text": [
      "0.8097435897435897\n"
     ]
    }
   ],
   "source": [
    "X2train, X2test, y2train, y2test = train_test_split(X, y, test_size = 0.30, random_state=101) # 70 / 30 split\n",
    "m = KNeighborsClassifier(10)\n",
    "m.fit(X2train, y2train) # fit model with testing data\n",
    "print(m.score(X2test, y2test)) # validating "
   ]
  },
  {
   "cell_type": "code",
   "execution_count": 132,
   "id": "125c8dfe",
   "metadata": {},
   "outputs": [
    {
     "name": "stdout",
     "output_type": "stream",
     "text": [
      "0.8297435897435897\n"
     ]
    }
   ],
   "source": [
    "X3train, X3test, y3train, y3test = train_test_split(X, y, test_size = 0.30, random_state=99) # 70 / 30 split\n",
    "m = KNeighborsClassifier(2)\n",
    "m.fit(X3train, y3train) # fit model with testing data\n",
    "print(m.score(X3test, y3test)) # validating "
   ]
  },
  {
   "cell_type": "code",
   "execution_count": 133,
   "id": "49c2e08f",
   "metadata": {},
   "outputs": [
    {
     "data": {
      "image/png": "[encoded data removed]",
      "text/plain": [
       "<Figure size 432x288 with 1 Axes>"
      ]
     },
     "metadata": {
      "needs_background": "light"
     },
     "output_type": "display_data"
    }
   ],
   "source": [
    "accuracies = []\n",
    "for k in range(2,10):\n",
    "    m = KNeighborsClassifier(k)\n",
    "    m.fit(Xtrain, ytrain)\n",
    "    accuracies.append(m.score(Xtest, ytest))\n",
    "\n",
    "_ = plt.plot(range(2,10), accuracies, marker=\"o\")"
   ]
  },
  {
   "cell_type": "markdown",
   "id": "b8e83e92",
   "metadata": {},
   "source": [
    "#### Testing on alcohol variable alone"
   ]
  },
  {
   "cell_type": "code",
   "execution_count": 134,
   "id": "8eacd1ef",
   "metadata": {},
   "outputs": [
    {
     "name": "stdout",
     "output_type": "stream",
     "text": [
      "0.778974358974359\n"
     ]
    }
   ],
   "source": [
    "# Predictor variables: \"alcohol\"\n",
    "Xtrain, Xtest, ytrain, ytest = train_test_split(X4, y4, test_size = 0.30, random_state=99) # 70 / 30 split\n",
    "m = KNeighborsClassifier(7) \n",
    "m.fit(Xtrain, ytrain) # fit model with testing data\n",
    "print(m.score(Xtest, ytest)) # validating "
   ]
  },
  {
   "cell_type": "code",
   "execution_count": 135,
   "id": "b7cf766c",
   "metadata": {},
   "outputs": [
    {
     "name": "stdout",
     "output_type": "stream",
     "text": [
      "0.7994871794871795\n"
     ]
    }
   ],
   "source": [
    "Xtrain, Xtest, ytrain, ytest = train_test_split(X4, y4, test_size = 0.30, random_state=45) # 70 / 30 split\n",
    "m = KNeighborsClassifier(10)\n",
    "m.fit(Xtrain, ytrain) # fit model with testing data\n",
    "print(m.score(Xtest, ytest)) # validating "
   ]
  },
  {
   "cell_type": "code",
   "execution_count": 136,
   "id": "d6323010",
   "metadata": {},
   "outputs": [
    {
     "name": "stdout",
     "output_type": "stream",
     "text": [
      "0.7938461538461539\n"
     ]
    }
   ],
   "source": [
    "Xtrain, Xtest, ytrain, ytest = train_test_split(X4, y4, test_size = 0.30, random_state=5) # 70 / 30 split\n",
    "m = KNeighborsClassifier(2)\n",
    "m.fit(Xtrain, ytrain) # fit model with testing data\n",
    "print(m.score(Xtest, ytest)) # validating "
   ]
  },
  {
   "cell_type": "code",
   "execution_count": 137,
   "id": "e923e644",
   "metadata": {},
   "outputs": [
    {
     "data": {
      "image/png": "[encoded data removed]",
      "text/plain": [
       "<Figure size 432x288 with 1 Axes>"
      ]
     },
     "metadata": {
      "needs_background": "light"
     },
     "output_type": "display_data"
    }
   ],
   "source": [
    "accuracies = []\n",
    "for k in range(2,10):\n",
    "    m = KNeighborsClassifier(k)\n",
    "    m.fit(Xtrain, ytrain)\n",
    "    accuracies.append(m.score(Xtest, ytest))\n",
    "\n",
    "_ = plt.plot(range(2,10), accuracies, marker=\"o\")"
   ]
  }
 ],
 "metadata": {
  "kernelspec": {
   "display_name": "Python 3 (ipykernel)",
   "language": "python",
   "name": "python3"
  },
  "language_info": {
   "codemirror_mode": {
    "name": "ipython",
    "version": 3
   },
   "file_extension": ".py",
   "mimetype": "text/x-python",
   "name": "python",
   "nbconvert_exporter": "python",
   "pygments_lexer": "ipython3",
   "version": "3.9.12"
  }
 },
 "nbformat": 4,
 "nbformat_minor": 5
}
