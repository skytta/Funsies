{
 "cells": [
  {
   "cell_type": "markdown",
   "id": "e82c1834",
   "metadata": {},
   "source": [
    "##### Instructions\n",
    "In this exercise, you will work with the “Blues Guitarists Hand Posture and Thumbing Style by Region and Birth Period” data.  This dataset has 93 entries of various blues guitarists born between 1874 and 1940. \n",
    "\n",
    "- Regions: 1 means East, 2 means Delta, 3 means Texas\n",
    "- Years: 0 for those born before 1906, 1 for the rest\n",
    "- Hand postures: 1= Extended, 2= Stacked, 3=Lutiform\n",
    "- Thumb styles: Between 1 and 3, 1=Alternating, 2=Utility, 3=Dead\n",
    "\n",
    "Step 1: Using decision tree on this dataset, how accurately can you tell their birth year (y) from their hand postures and thumb styles (X). How does it affect the evaluation when you include the region while training the model?"
   ]
  },
  {
   "cell_type": "code",
   "execution_count": 1,
   "id": "4fc966d1",
   "metadata": {},
   "outputs": [],
   "source": [
    "import pandas as pd  #import modules \n",
    "import numpy as np\n",
    "import matplotlib.pyplot as plt\n",
    "import seaborn as sns\n",
    "from sklearn.metrics import classification_report,confusion_matrix\n",
    "from sklearn.model_selection import train_test_split\n",
    "from sklearn.model_selection import cross_val_score\n",
    "%matplotlib inline"
   ]
  },
  {
   "cell_type": "code",
   "execution_count": 2,
   "id": "d3924f2e",
   "metadata": {},
   "outputs": [
    {
     "data": {
      "text/html": [
       "<div>\n",
       "<style scoped>\n",
       "    .dataframe tbody tr th:only-of-type {\n",
       "        vertical-align: middle;\n",
       "    }\n",
       "\n",
       "    .dataframe tbody tr th {\n",
       "        vertical-align: top;\n",
       "    }\n",
       "\n",
       "    .dataframe thead th {\n",
       "        text-align: right;\n",
       "    }\n",
       "</style>\n",
       "<table border=\"1\" class=\"dataframe\">\n",
       "  <thead>\n",
       "    <tr style=\"text-align: right;\">\n",
       "      <th></th>\n",
       "      <th>name</th>\n",
       "      <th>state</th>\n",
       "      <th>brthYr</th>\n",
       "      <th>post1906</th>\n",
       "      <th>region</th>\n",
       "      <th>handPost</th>\n",
       "      <th>thumbSty</th>\n",
       "    </tr>\n",
       "  </thead>\n",
       "  <tbody>\n",
       "    <tr>\n",
       "      <th>0</th>\n",
       "      <td>Henry Thomas</td>\n",
       "      <td>TX</td>\n",
       "      <td>1874</td>\n",
       "      <td>0</td>\n",
       "      <td>3</td>\n",
       "      <td>1</td>\n",
       "      <td>3</td>\n",
       "    </tr>\n",
       "    <tr>\n",
       "      <th>1</th>\n",
       "      <td>Frank Stokes</td>\n",
       "      <td>TN</td>\n",
       "      <td>1887</td>\n",
       "      <td>0</td>\n",
       "      <td>2</td>\n",
       "      <td>1</td>\n",
       "      <td>3</td>\n",
       "    </tr>\n",
       "    <tr>\n",
       "      <th>2</th>\n",
       "      <td>Sam Collins</td>\n",
       "      <td>MS</td>\n",
       "      <td>1887</td>\n",
       "      <td>0</td>\n",
       "      <td>2</td>\n",
       "      <td>1</td>\n",
       "      <td>2</td>\n",
       "    </tr>\n",
       "    <tr>\n",
       "      <th>3</th>\n",
       "      <td>Peg Leg Howell</td>\n",
       "      <td>GA</td>\n",
       "      <td>1888</td>\n",
       "      <td>0</td>\n",
       "      <td>1</td>\n",
       "      <td>2</td>\n",
       "      <td>2</td>\n",
       "    </tr>\n",
       "    <tr>\n",
       "      <th>4</th>\n",
       "      <td>Huddie Ledbetter</td>\n",
       "      <td>TX</td>\n",
       "      <td>1888</td>\n",
       "      <td>0</td>\n",
       "      <td>3</td>\n",
       "      <td>2</td>\n",
       "      <td>3</td>\n",
       "    </tr>\n",
       "  </tbody>\n",
       "</table>\n",
       "</div>"
      ],
      "text/plain": [
       "               name state  brthYr  post1906  region  handPost  thumbSty\n",
       "0      Henry Thomas    TX    1874         0       3         1         3\n",
       "1      Frank Stokes    TN    1887         0       2         1         3\n",
       "2       Sam Collins    MS    1887         0       2         1         2\n",
       "3    Peg Leg Howell    GA    1888         0       1         2         2\n",
       "4  Huddie Ledbetter    TX    1888         0       3         2         3"
      ]
     },
     "execution_count": 2,
     "metadata": {},
     "output_type": "execute_result"
    }
   ],
   "source": [
    "blues = pd.read_csv('/Users/jennyskytta/Downloads/blueshand.csv') # load in data csv\n",
    "blues.head()  # looking at the data "
   ]
  },
  {
   "cell_type": "code",
   "execution_count": 3,
   "id": "4197b483",
   "metadata": {},
   "outputs": [
    {
     "name": "stdout",
     "output_type": "stream",
     "text": [
      "[1 2 3]\n",
      "\n",
      "\n",
      "[3 2 1]\n",
      "\n",
      "\n",
      "[1874 1887 1888 1890 1893 1895 1896 1897 1898 1900 1901 1902 1903 1904\n",
      " 1905 1906 1907 1908 1909 1910 1911 1912 1913 1914 1915 1916 1917 1918\n",
      " 1919 1920 1921 1924 1925 1926 1927 1928 1929 1930 1932 1933 1935 1936\n",
      " 1938 1940]\n",
      "\n",
      "\n",
      "[0 1]\n"
     ]
    }
   ],
   "source": [
    "print(blues[\"handPost\"].unique())\n",
    "print('\\n')\n",
    "print(blues[\"thumbSty\"].unique())\n",
    "print('\\n')\n",
    "print(blues[\"brthYr\"].unique()) \n",
    "print('\\n')\n",
    "print(blues[\"post1906\"].unique()) "
   ]
  },
  {
   "cell_type": "markdown",
   "id": "f5afb1bd",
   "metadata": {},
   "source": [
    "After looking at the arrays, there are far too many unique values in 'Birthyr' for the 3 data points in handPost and  to predict which intuitively doesn't make much sense.  It does appear that there is another birth year parameter called Post1906 that does also narrow down birthyear.  This one appears to be binomial which may be a more optimal choice.  Moving forward, I will use Post1906 as my y variable."
   ]
  },
  {
   "cell_type": "code",
   "execution_count": 4,
   "id": "8a669e08",
   "metadata": {},
   "outputs": [
    {
     "data": {
      "image/png": "[encoded data removed]",
      "text/plain": [
       "<Figure size 432x288 with 1 Axes>"
      ]
     },
     "metadata": {
      "needs_background": "light"
     },
     "output_type": "display_data"
    }
   ],
   "source": [
    "handPost = blues.handPost + np.random.uniform(-0.1, 0.1, size=93)\n",
    "thumbsty=blues.thumbSty + np.random.uniform(-0.1, 0.1, size=93)\n",
    "_=plt.scatter(thumbsty, handPost,c=blues.post1906, alpha=0.5, edgecolor=\"black\")"
   ]
  },
  {
   "cell_type": "markdown",
   "id": "90b0818b",
   "metadata": {},
   "source": [
    "Based on this pairplot, I do not have high expectations that there is much value in identifying year from hand posture or thumb style.  The main issue here is that we are predicting a variable (birth year) that outweighs our predictive variables.  "
   ]
  },
  {
   "cell_type": "markdown",
   "id": "60597b90",
   "metadata": {},
   "source": [
    "### Decision Tree"
   ]
  },
  {
   "cell_type": "code",
   "execution_count": 5,
   "id": "4c6f9693",
   "metadata": {},
   "outputs": [],
   "source": [
    "X = blues[[\"handPost\",\"thumbSty\"]]\n",
    "y = blues.post1906\n",
    "X_train, X_test, y_train, y_test = train_test_split(X, y, test_size=0.30)"
   ]
  },
  {
   "cell_type": "code",
   "execution_count": 6,
   "id": "6cd10676",
   "metadata": {},
   "outputs": [
    {
     "data": {
      "text/plain": [
       "DecisionTreeClassifier()"
      ]
     },
     "execution_count": 6,
     "metadata": {},
     "output_type": "execute_result"
    }
   ],
   "source": [
    "from sklearn.tree import DecisionTreeClassifier \n",
    "dtree = DecisionTreeClassifier()\n",
    "dtree.fit(X_train,y_train)   # fit our decision tree model with training data "
   ]
  },
  {
   "cell_type": "code",
   "execution_count": 7,
   "id": "f04800bc",
   "metadata": {},
   "outputs": [],
   "source": [
    "predictions = dtree.predict(X_test) # start predictions"
   ]
  },
  {
   "cell_type": "code",
   "execution_count": 8,
   "id": "28fad40e",
   "metadata": {},
   "outputs": [
    {
     "data": {
      "text/plain": [
       "0.6071428571428571"
      ]
     },
     "execution_count": 8,
     "metadata": {},
     "output_type": "execute_result"
    }
   ],
   "source": [
    "dtree.score(X_test,y_test)  # I see 61% accuracy with this model "
   ]
  },
  {
   "cell_type": "markdown",
   "id": "e60bed19",
   "metadata": {},
   "source": [
    "Predicting hand posture and thumb style from birth year is absolutely useless and horrible with no predictive ability at all. I will add in region to see if this has preditive value."
   ]
  },
  {
   "cell_type": "code",
   "execution_count": 31,
   "id": "56a2cf20",
   "metadata": {},
   "outputs": [
    {
     "data": {
      "text/plain": [
       "0.6785714285714286"
      ]
     },
     "execution_count": 31,
     "metadata": {},
     "output_type": "execute_result"
    }
   ],
   "source": [
    "X2 = blues[[\"handPost\",\"thumbSty\",\"region\"]]  # adding Region into the multivariate model\n",
    "y2 = blues.post1906\n",
    "X_train, X_test, y_train, y_test = train_test_split(X2, y2, test_size=0.30)\n",
    "dtree = DecisionTreeClassifier()\n",
    "dtree.fit(X_train,y_train)   # fit our decision tree model with training data \n",
    "predictions = dtree.predict(X_test) # start predictions\n",
    "dtree.score(X_test,y_test) # still at 65% accuracy "
   ]
  },
  {
   "cell_type": "markdown",
   "id": "a9de281e",
   "metadata": {},
   "source": [
    "Essentially, you cannot predict the birthyear from the variables given however, if you are identifying a year delineation as post 1906, you can poorly predict whether they were both pre or post 1906 with the variables of thumb style and hand posture. Adding the variable of Region does slightly improve the model."
   ]
  },
  {
   "cell_type": "markdown",
   "id": "0e5c88df",
   "metadata": {},
   "source": [
    "### Random Forest\n",
    "\n",
    "Step 2: Now do the same using random forest (in both of the above cases) and report the difference. Make sure to use appropriate training-testing parameters for your evaluation.\n",
    "\n",
    "You should also run the algorithms multiple times, measure various accuracies, and report the average (and perhaps the range)."
   ]
  },
  {
   "cell_type": "code",
   "execution_count": 24,
   "id": "4640c206",
   "metadata": {},
   "outputs": [
    {
     "data": {
      "text/plain": [
       "0.75"
      ]
     },
     "execution_count": 24,
     "metadata": {},
     "output_type": "execute_result"
    }
   ],
   "source": [
    "from sklearn.ensemble import RandomForestClassifier\n",
    "\n",
    "X = blues[[\"handPost\",\"thumbSty\"]]\n",
    "y = blues.post1906\n",
    "X_train, X_test, y_train, y_test = train_test_split(X, y, test_size=0.30)\n",
    "m = RandomForestClassifier(n_estimators=100)\n",
    "_ = m.fit(X_test, y_test)\n",
    "m.score(X_test, y_test).mean() # performs about the same as decision tree alone at 64%"
   ]
  },
  {
   "cell_type": "code",
   "execution_count": 25,
   "id": "09c7c6e7",
   "metadata": {},
   "outputs": [
    {
     "data": {
      "text/plain": [
       "0.6428571428571429"
      ]
     },
     "execution_count": 25,
     "metadata": {},
     "output_type": "execute_result"
    }
   ],
   "source": [
    "X_train, X_test, y_train, y_test = train_test_split(X, y, test_size=0.30)\n",
    "m = RandomForestClassifier(n_estimators=300)\n",
    "_ = m.fit(X_test, y_test)\n",
    "m.score(X_test, y_test).mean()  #increasing the number of trees helps performance but defintely overfitting"
   ]
  },
  {
   "cell_type": "code",
   "execution_count": 26,
   "id": "f42becfe",
   "metadata": {},
   "outputs": [
    {
     "data": {
      "text/plain": [
       "0.8928571428571429"
      ]
     },
     "execution_count": 26,
     "metadata": {},
     "output_type": "execute_result"
    }
   ],
   "source": [
    "X_train, X_test, y_train, y_test = train_test_split(X, y, test_size=0.30)\n",
    "m = RandomForestClassifier(n_estimators=50)\n",
    "_ = m.fit(X_test, y_test)\n",
    "m.score(X_test, y_test).mean()  #decreasing trees does not harm the model here at 76%"
   ]
  },
  {
   "cell_type": "code",
   "execution_count": 30,
   "id": "1d027003",
   "metadata": {},
   "outputs": [
    {
     "name": "stdout",
     "output_type": "stream",
     "text": [
      "              precision    recall  f1-score   support\n",
      "\n",
      "           0       1.00      0.57      0.73         7\n",
      "           1       0.88      1.00      0.93        21\n",
      "\n",
      "    accuracy                           0.89        28\n",
      "   macro avg       0.94      0.79      0.83        28\n",
      "weighted avg       0.91      0.89      0.88        28\n",
      "\n"
     ]
    }
   ],
   "source": [
    "rfc_pred = m.predict(X_test)\n",
    "print(classification_report(y_test, rfc_pred))"
   ]
  },
  {
   "cell_type": "code",
   "execution_count": 15,
   "id": "5e096b21",
   "metadata": {},
   "outputs": [
    {
     "data": {
      "text/plain": [
       "0.9285714285714286"
      ]
     },
     "execution_count": 15,
     "metadata": {},
     "output_type": "execute_result"
    }
   ],
   "source": [
    "X2 = blues[[\"handPost\",\"thumbSty\",\"region\"]]  # adding Region into the multivariate model\n",
    "y2 = blues.post1906\n",
    "X2_train, X2_test, y2_train, y2_test = train_test_split(X2, y2, test_size=0.30)\n",
    "m = RandomForestClassifier(n_estimators=500)\n",
    "_ = m.fit(X2_test, y2_test)\n",
    "m.score(X2_test, y2_test).mean()  \n",
    "# region does improve the model at 93% average accuracy but with 500 trees a serious overfit "
   ]
  },
  {
   "cell_type": "code",
   "execution_count": 16,
   "id": "d23e2059",
   "metadata": {},
   "outputs": [
    {
     "data": {
      "text/plain": [
       "0.8214285714285714"
      ]
     },
     "execution_count": 16,
     "metadata": {},
     "output_type": "execute_result"
    }
   ],
   "source": [
    "X2_train, X2_test, y2_train, y2_test = train_test_split(X2, y2, test_size=0.30)\n",
    "m = RandomForestClassifier(n_estimators=100)\n",
    "_ = m.fit(X2_test, y2_test)\n",
    "m.score(X2_test, y2_test).mean()  # with 100 trees, we see 82% average accuracy "
   ]
  },
  {
   "cell_type": "code",
   "execution_count": 17,
   "id": "4e5532f3",
   "metadata": {},
   "outputs": [
    {
     "name": "stdout",
     "output_type": "stream",
     "text": [
      "              precision    recall  f1-score   support\n",
      "\n",
      "           0       0.13      0.22      0.17         9\n",
      "           1       0.46      0.32      0.37        19\n",
      "\n",
      "    accuracy                           0.29        28\n",
      "   macro avg       0.30      0.27      0.27        28\n",
      "weighted avg       0.36      0.29      0.31        28\n",
      "\n"
     ]
    }
   ],
   "source": [
    "rf_pred = m.predict(X2_test)\n",
    "print(classification_report(y2_test,rfc_pred))"
   ]
  },
  {
   "cell_type": "code",
   "execution_count": 21,
   "id": "50483672",
   "metadata": {},
   "outputs": [
    {
     "name": "stdout",
     "output_type": "stream",
     "text": [
      "Iteration: 0 Train mse: 0.15899015054415344 Test mse: 0.29778599424433416\n",
      "Iteration: 1 Train mse: 0.1587850300919759 Test mse: 0.3053328918263696\n",
      "Iteration: 2 Train mse: 0.1588667111570382 Test mse: 0.3038733837295406\n",
      "Iteration: 3 Train mse: 0.15873335228964985 Test mse: 0.30371688227168014\n",
      "Iteration: 4 Train mse: 0.15920377385200463 Test mse: 0.3073349158747926\n",
      "Iteration: 5 Train mse: 0.15876047080558883 Test mse: 0.3073536800596538\n",
      "Iteration: 6 Train mse: 0.15916382162959117 Test mse: 0.3049394436919507\n",
      "Iteration: 7 Train mse: 0.159732632468649 Test mse: 0.29251494228287855\n",
      "Iteration: 8 Train mse: 0.15941229013986843 Test mse: 0.3005141857174229\n",
      "Iteration: 9 Train mse: 0.15901992812868207 Test mse: 0.30349292662230537\n",
      "Iteration: 10 Train mse: 0.1592693073710709 Test mse: 0.3006173808406558\n",
      "Iteration: 11 Train mse: 0.15960378253739183 Test mse: 0.3007425967462782\n",
      "Iteration: 12 Train mse: 0.15896946740920975 Test mse: 0.30579535760525894\n",
      "Iteration: 13 Train mse: 0.15927174726824636 Test mse: 0.3020586418158103\n",
      "Iteration: 14 Train mse: 0.15897483991285274 Test mse: 0.3097303361243373\n",
      "Iteration: 15 Train mse: 0.15952595175671777 Test mse: 0.30112047138413567\n",
      "Iteration: 16 Train mse: 0.15882996850441003 Test mse: 0.30375667441474014\n",
      "Iteration: 17 Train mse: 0.15935340615941282 Test mse: 0.2987825775890613\n",
      "Iteration: 18 Train mse: 0.15900954089978098 Test mse: 0.30414931926968475\n",
      "Iteration: 19 Train mse: 0.15919079786162174 Test mse: 0.30547950795547285\n",
      "Iteration: 20 Train mse: 0.15863168710879172 Test mse: 0.3011072052803249\n",
      "Iteration: 21 Train mse: 0.15960298525654698 Test mse: 0.30084481199013996\n",
      "Iteration: 22 Train mse: 0.15901504843446887 Test mse: 0.3020555229248281\n",
      "Iteration: 23 Train mse: 0.1591135471339523 Test mse: 0.30269663986884726\n",
      "Iteration: 24 Train mse: 0.1591683943236544 Test mse: 0.3012669713697195\n",
      "Iteration: 25 Train mse: 0.15940172437040456 Test mse: 0.2972299039798534\n",
      "Iteration: 26 Train mse: 0.1581603916035529 Test mse: 0.3065788111291749\n",
      "Iteration: 27 Train mse: 0.15868079161873505 Test mse: 0.30107143466882197\n",
      "Iteration: 28 Train mse: 0.15914266723767212 Test mse: 0.30258730485788526\n",
      "Iteration: 29 Train mse: 0.15914266949525935 Test mse: 0.3008715169209741\n",
      "Iteration: 30 Train mse: 0.15900094763287329 Test mse: 0.3059418905730183\n",
      "Iteration: 31 Train mse: 0.15939714145987008 Test mse: 0.3029502889493379\n",
      "Iteration: 32 Train mse: 0.15857017158853295 Test mse: 0.30690891630503614\n",
      "Iteration: 33 Train mse: 0.15879907574300345 Test mse: 0.30388287533307917\n",
      "Iteration: 34 Train mse: 0.1589543403798593 Test mse: 0.30102990884214126\n",
      "Iteration: 35 Train mse: 0.15881718916317805 Test mse: 0.29879820112942646\n",
      "Iteration: 36 Train mse: 0.15848655616721016 Test mse: 0.30170166366362394\n",
      "Iteration: 37 Train mse: 0.15873239744288417 Test mse: 0.3018082087798423\n",
      "Iteration: 38 Train mse: 0.1585419464285472 Test mse: 0.3069829837443327\n",
      "Iteration: 39 Train mse: 0.15861680784139312 Test mse: 0.3012839628790572\n",
      "Iteration: 40 Train mse: 0.1588420807437901 Test mse: 0.29918465272582495\n",
      "Iteration: 41 Train mse: 0.15858569266995765 Test mse: 0.30229856601922916\n",
      "Iteration: 42 Train mse: 0.15876109061619134 Test mse: 0.30327035748272285\n",
      "Iteration: 43 Train mse: 0.1592033746404315 Test mse: 0.29899028648653897\n",
      "Iteration: 44 Train mse: 0.15892805289085107 Test mse: 0.30563922415737776\n",
      "Iteration: 45 Train mse: 0.15877804001468349 Test mse: 0.3047881152846702\n",
      "Iteration: 46 Train mse: 0.15884654785954191 Test mse: 0.3035458331921967\n",
      "Iteration: 47 Train mse: 0.15894327278662188 Test mse: 0.3005220130555292\n",
      "Iteration: 48 Train mse: 0.15907267843866316 Test mse: 0.30468015307370777\n",
      "Iteration: 49 Train mse: 0.1590487802347472 Test mse: 0.29638347347394295\n"
     ]
    }
   ],
   "source": [
    "from sklearn.ensemble import RandomForestRegressor\n",
    "from sklearn.metrics import mean_squared_error\n",
    "\n",
    "rf = RandomForestRegressor(n_estimators=100)\n",
    "trees, train_loss, test_loss = [], [], []\n",
    "for iter in range(50):\n",
    "  rf.fit(X2_train, y2_train)\n",
    "  y_train_predicted = rf.predict(X2_train)\n",
    "  y_test_predicted = rf.predict(X2_test)\n",
    "  mse_train = mean_squared_error(y2_train, y_train_predicted)\n",
    "  mse_test = mean_squared_error(y2_test, y_test_predicted)\n",
    "  print(\"Iteration: {} Train mse: {} Test mse: {}\".format(iter, mse_train, mse_test))\n",
    "  trees += [rf.n_estimators]\n",
    "  train_loss += [mse_train]\n",
    "  test_loss += [mse_test]\n",
    "  rf.n_estimators += 5"
   ]
  },
  {
   "cell_type": "markdown",
   "id": "faab0972",
   "metadata": {},
   "source": [
    "The MSE isn't greatly altered with the slight increase of trees but we can see that its high overall so the data is quite variable and the bias-variance tradeoff in action. "
   ]
  }
 ],
 "metadata": {
  "kernelspec": {
   "display_name": "Python 3 (ipykernel)",
   "language": "python",
   "name": "python3"
  },
  "language_info": {
   "codemirror_mode": {
    "name": "ipython",
    "version": 3
   },
   "file_extension": ".py",
   "mimetype": "text/x-python",
   "name": "python",
   "nbconvert_exporter": "python",
   "pygments_lexer": "ipython3",
   "version": "3.9.12"
  }
 },
 "nbformat": 4,
 "nbformat_minor": 5
}
