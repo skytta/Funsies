{
 "cells": [
  {
   "cell_type": "markdown",
   "id": "e52ff193",
   "metadata": {},
   "source": [
    "## Part 1"
   ]
  },
  {
   "cell_type": "markdown",
   "id": "fde5f5dd",
   "metadata": {},
   "source": [
    "<b>EM falls under unsupervised learning. But what specific kind of unsupervised learning setting would you use it for? Put differently, you could use both k-means and EM for clustering, but when will you pick EM over k-means?</b>\n",
    "\n",
    "- The k-Means algorithm makes general assumptions regarding the distribution of data and attempts to detect clusters within a dataset under the optimization criteria that the sum of the inter-cluster variances is minimized. This works well in detecting homogeneous clusters.  It assumes a spherical nature of the clusters.  The EM algorithm is an iterative optimization method that finds the maximum likelihood  estimate (MLE) of parameters in problems where hidden/missing/latent variables are present. EM clusters are not limited to spherical shapes which allows us to detect sub-populations within our data with differing characteristics. "
   ]
  },
  {
   "cell_type": "code",
   "execution_count": 6,
   "id": "bb209013",
   "metadata": {},
   "outputs": [],
   "source": [
    "#import library\n",
    "import pandas as pd\n",
    "import numpy as np\n",
    "import matplotlib.pyplot as plt\n",
    "import seaborn as sns\n",
    "%matplotlib inline"
   ]
  },
  {
   "cell_type": "markdown",
   "id": "25f38e1a",
   "metadata": {},
   "source": [
    "## Part 2 <br>\n",
    "Use EM for clustering “similar” countries."
   ]
  },
  {
   "cell_type": "code",
   "execution_count": 34,
   "id": "2aa5850c",
   "metadata": {},
   "outputs": [
    {
     "data": {
      "text/html": [
       "<div>\n",
       "<style scoped>\n",
       "    .dataframe tbody tr th:only-of-type {\n",
       "        vertical-align: middle;\n",
       "    }\n",
       "\n",
       "    .dataframe tbody tr th {\n",
       "        vertical-align: top;\n",
       "    }\n",
       "\n",
       "    .dataframe thead th {\n",
       "        text-align: right;\n",
       "    }\n",
       "</style>\n",
       "<table border=\"1\" class=\"dataframe\">\n",
       "  <thead>\n",
       "    <tr style=\"text-align: right;\">\n",
       "      <th></th>\n",
       "      <th>country</th>\n",
       "      <th>sr</th>\n",
       "      <th>pop15</th>\n",
       "      <th>pop75</th>\n",
       "      <th>dpi</th>\n",
       "      <th>ddpi</th>\n",
       "    </tr>\n",
       "  </thead>\n",
       "  <tbody>\n",
       "    <tr>\n",
       "      <th>27</th>\n",
       "      <td>Netherlands</td>\n",
       "      <td>14.65</td>\n",
       "      <td>24.71</td>\n",
       "      <td>3.25</td>\n",
       "      <td>1740.7</td>\n",
       "      <td>7.66</td>\n",
       "    </tr>\n",
       "  </tbody>\n",
       "</table>\n",
       "</div>"
      ],
      "text/plain": [
       "        country     sr  pop15  pop75     dpi  ddpi\n",
       "27  Netherlands  14.65  24.71   3.25  1740.7  7.66"
      ]
     },
     "execution_count": 34,
     "metadata": {},
     "output_type": "execute_result"
    }
   ],
   "source": [
    "lifecycle = pd.read_csv('/Users/jennyskytta/Desktop/lifecycle.csv')\n",
    "lifecycle.rename(columns={\"Contry\": \"country\"}, inplace = True)\n",
    "lifecycle.sample(1)"
   ]
  },
  {
   "cell_type": "code",
   "execution_count": 35,
   "id": "bec2e052",
   "metadata": {},
   "outputs": [
    {
     "data": {
      "text/plain": [
       "(50, 6)"
      ]
     },
     "execution_count": 35,
     "metadata": {},
     "output_type": "execute_result"
    }
   ],
   "source": [
    "lifecycle.shape # very small dataset"
   ]
  },
  {
   "cell_type": "code",
   "execution_count": 36,
   "id": "c15b9864",
   "metadata": {},
   "outputs": [],
   "source": [
    "X = lifecycle[[\"pop15\", \"pop75\", \"dpi\", \"ddpi\"]]"
   ]
  },
  {
   "cell_type": "code",
   "execution_count": 37,
   "id": "4601c89b",
   "metadata": {},
   "outputs": [
    {
     "data": {
      "text/plain": [
       "1463.179456890932"
      ]
     },
     "execution_count": 37,
     "metadata": {},
     "output_type": "execute_result"
    }
   ],
   "source": [
    "from sklearn.mixture import GaussianMixture\n",
    "m = GaussianMixture(5, covariance_type=\"diag\") # this is a multivariate model\n",
    "_=m.fit(X)\n",
    "m.bic(X)  # compute BIC  which we will use to compare models using RMSE "
   ]
  },
  {
   "cell_type": "code",
   "execution_count": 11,
   "id": "f38145ae",
   "metadata": {},
   "outputs": [
    {
     "data": {
      "text/plain": [
       "array([2, 1, 1, 0, 3, 2, 3, 0, 3, 3, 1, 3, 4, 1, 1, 4, 3, 0, 4, 3, 4, 1,\n",
       "       4, 0, 1, 4, 1, 4, 4, 3, 3, 3, 3, 3, 4, 4, 4, 4, 1, 1, 3, 3, 1, 2,\n",
       "       3, 0, 0, 4, 0, 0])"
      ]
     },
     "execution_count": 11,
     "metadata": {},
     "output_type": "execute_result"
    }
   ],
   "source": [
    "pred = m.predict(X) # predicted array\n",
    "pred"
   ]
  },
  {
   "cell_type": "markdown",
   "id": "801c24e9",
   "metadata": {},
   "source": [
    "<h3> BIC: Bayesian Information Criteria</h3>"
   ]
  },
  {
   "cell_type": "code",
   "execution_count": 28,
   "id": "3832d1ed",
   "metadata": {},
   "outputs": [
    {
     "name": "stdout",
     "output_type": "stream",
     "text": [
      "k=1, diag BIC=1637.0342381040148\n",
      "k=2, diag BIC=1459.3069219117738\n",
      "k=3, diag BIC=1482.055821546593\n",
      "k=4, diag BIC=1458.760500851607\n",
      "k=5, diag BIC=1439.4060983304241\n",
      "k=6, diag BIC=1441.5853209404627\n",
      "k=7, diag BIC=1462.751329588045\n"
     ]
    },
    {
     "data": {
      "text/plain": [
       "[1439.4060983304241,\n",
       " 1441.5853209404627,\n",
       " 1458.760500851607,\n",
       " 1459.3069219117738,\n",
       " 1462.751329588045,\n",
       " 1482.055821546593,\n",
       " 1637.0342381040148]"
      ]
     },
     "execution_count": 28,
     "metadata": {},
     "output_type": "execute_result"
    }
   ],
   "source": [
    "ks = range(1,8)\n",
    "bics =[]\n",
    "for k in ks:\n",
    "    m = GaussianMixture(k, covariance_type=\"diag\")\n",
    "    _ = m.fit(X)\n",
    "    bics.append(m.bic(X))\n",
    "    print(f\"k={k}, diag BIC={m.bic(X)}\")\n",
    "sorted(bics)  # 5 is lowest "
   ]
  },
  {
   "cell_type": "code",
   "execution_count": 39,
   "id": "6c87d2c0",
   "metadata": {},
   "outputs": [
    {
     "data": {
      "text/html": [
       "<div>\n",
       "<style scoped>\n",
       "    .dataframe tbody tr th:only-of-type {\n",
       "        vertical-align: middle;\n",
       "    }\n",
       "\n",
       "    .dataframe tbody tr th {\n",
       "        vertical-align: top;\n",
       "    }\n",
       "\n",
       "    .dataframe thead th {\n",
       "        text-align: right;\n",
       "    }\n",
       "</style>\n",
       "<table border=\"1\" class=\"dataframe\">\n",
       "  <thead>\n",
       "    <tr style=\"text-align: right;\">\n",
       "      <th></th>\n",
       "      <th>country</th>\n",
       "      <th>sr</th>\n",
       "      <th>pop15</th>\n",
       "      <th>pop75</th>\n",
       "      <th>dpi</th>\n",
       "      <th>ddpi</th>\n",
       "      <th>BIC_country</th>\n",
       "    </tr>\n",
       "  </thead>\n",
       "  <tbody>\n",
       "    <tr>\n",
       "      <th>10</th>\n",
       "      <td>Denmark</td>\n",
       "      <td>16.85</td>\n",
       "      <td>24.42</td>\n",
       "      <td>3.93</td>\n",
       "      <td>2496.53</td>\n",
       "      <td>3.99</td>\n",
       "      <td>1</td>\n",
       "    </tr>\n",
       "    <tr>\n",
       "      <th>23</th>\n",
       "      <td>Korea</td>\n",
       "      <td>3.98</td>\n",
       "      <td>41.74</td>\n",
       "      <td>0.91</td>\n",
       "      <td>207.68</td>\n",
       "      <td>5.81</td>\n",
       "      <td>0</td>\n",
       "    </tr>\n",
       "    <tr>\n",
       "      <th>9</th>\n",
       "      <td>Costa Rica</td>\n",
       "      <td>10.78</td>\n",
       "      <td>47.64</td>\n",
       "      <td>1.14</td>\n",
       "      <td>471.24</td>\n",
       "      <td>2.80</td>\n",
       "      <td>4</td>\n",
       "    </tr>\n",
       "  </tbody>\n",
       "</table>\n",
       "</div>"
      ],
      "text/plain": [
       "       country     sr  pop15  pop75      dpi  ddpi  BIC_country\n",
       "10     Denmark  16.85  24.42   3.93  2496.53  3.99            1\n",
       "23       Korea   3.98  41.74   0.91   207.68  5.81            0\n",
       "9   Costa Rica  10.78  47.64   1.14   471.24  2.80            4"
      ]
     },
     "execution_count": 39,
     "metadata": {},
     "output_type": "execute_result"
    }
   ],
   "source": [
    "m = GaussianMixture(5, covariance_type=\"spherical\")\n",
    "_ = m.fit(X)\n",
    "lifecycle[\"BIC_country\"] = m.predict(X)  # BIC membership added to DF\n",
    "lifecycle.sample(3) "
   ]
  },
  {
   "cell_type": "code",
   "execution_count": 14,
   "id": "38159466",
   "metadata": {},
   "outputs": [
    {
     "data": {
      "text/html": [
       "<div>\n",
       "<style scoped>\n",
       "    .dataframe tbody tr th:only-of-type {\n",
       "        vertical-align: middle;\n",
       "    }\n",
       "\n",
       "    .dataframe tbody tr th {\n",
       "        vertical-align: top;\n",
       "    }\n",
       "\n",
       "    .dataframe thead th {\n",
       "        text-align: right;\n",
       "    }\n",
       "</style>\n",
       "<table border=\"1\" class=\"dataframe\">\n",
       "  <thead>\n",
       "    <tr style=\"text-align: right;\">\n",
       "      <th></th>\n",
       "      <th>pop15</th>\n",
       "      <th>pop75</th>\n",
       "      <th>sr</th>\n",
       "      <th>dpi</th>\n",
       "      <th>ddpi</th>\n",
       "    </tr>\n",
       "    <tr>\n",
       "      <th>BIC_country</th>\n",
       "      <th></th>\n",
       "      <th></th>\n",
       "      <th></th>\n",
       "      <th></th>\n",
       "      <th></th>\n",
       "    </tr>\n",
       "  </thead>\n",
       "  <tbody>\n",
       "    <tr>\n",
       "      <th>0</th>\n",
       "      <td>24.647500</td>\n",
       "      <td>3.801250</td>\n",
       "      <td>12.671250</td>\n",
       "      <td>2364.625000</td>\n",
       "      <td>3.316250</td>\n",
       "    </tr>\n",
       "    <tr>\n",
       "      <th>1</th>\n",
       "      <td>35.860000</td>\n",
       "      <td>1.972727</td>\n",
       "      <td>9.882727</td>\n",
       "      <td>680.215455</td>\n",
       "      <td>4.042727</td>\n",
       "    </tr>\n",
       "    <tr>\n",
       "      <th>2</th>\n",
       "      <td>27.607778</td>\n",
       "      <td>3.368889</td>\n",
       "      <td>11.603333</td>\n",
       "      <td>1546.524444</td>\n",
       "      <td>3.948889</td>\n",
       "    </tr>\n",
       "    <tr>\n",
       "      <th>3</th>\n",
       "      <td>27.656667</td>\n",
       "      <td>3.606667</td>\n",
       "      <td>7.736667</td>\n",
       "      <td>3428.086667</td>\n",
       "      <td>2.630000</td>\n",
       "    </tr>\n",
       "    <tr>\n",
       "      <th>4</th>\n",
       "      <td>43.757895</td>\n",
       "      <td>1.126316</td>\n",
       "      <td>7.675263</td>\n",
       "      <td>249.240526</td>\n",
       "      <td>3.865789</td>\n",
       "    </tr>\n",
       "  </tbody>\n",
       "</table>\n",
       "</div>"
      ],
      "text/plain": [
       "                 pop15     pop75         sr          dpi      ddpi\n",
       "BIC_country                                                       \n",
       "0            24.647500  3.801250  12.671250  2364.625000  3.316250\n",
       "1            35.860000  1.972727   9.882727   680.215455  4.042727\n",
       "2            27.607778  3.368889  11.603333  1546.524444  3.948889\n",
       "3            27.656667  3.606667   7.736667  3428.086667  2.630000\n",
       "4            43.757895  1.126316   7.675263   249.240526  3.865789"
      ]
     },
     "execution_count": 14,
     "metadata": {},
     "output_type": "execute_result"
    }
   ],
   "source": [
    "# calculate average characteristics by similarity \n",
    "# only retaining our outcome variables and take the average \n",
    "avgs = lifecycle.groupby(\"BIC_country\")\\\n",
    "[[\"pop15\", \"pop75\", \"sr\", \"dpi\", \"ddpi\"]]\\\n",
    ".mean()\n",
    "avgs"
   ]
  },
  {
   "cell_type": "code",
   "execution_count": 40,
   "id": "109bca15",
   "metadata": {},
   "outputs": [
    {
     "name": "stderr",
     "output_type": "stream",
     "text": [
      "/Users/jennyskytta/opt/anaconda3/lib/python3.9/site-packages/numpy/core/fromnumeric.py:3438: FutureWarning: In a future version, DataFrame.mean(axis=None) will return a scalar mean over the entire DataFrame. To retain the old behavior, use 'frame.mean(axis=0)' or just 'frame.mean()'\n",
      "  return mean(axis=axis, dtype=dtype, out=out, **kwargs)\n"
     ]
    },
    {
     "data": {
      "text/plain": [
       "sr    4.564277\n",
       "dtype: float64"
      ]
     },
     "execution_count": 40,
     "metadata": {},
     "output_type": "execute_result"
    }
   ],
   "source": [
    "rmse = np.sqrt(np.mean((lifecycle[[\"sr\"]] - avgs[[\"sr\"]].values[lifecycle.BIC_country])**2))\n",
    "rmse"
   ]
  },
  {
   "cell_type": "code",
   "execution_count": 50,
   "id": "5d9dca9c",
   "metadata": {},
   "outputs": [
    {
     "data": {
      "image/png": "[encoded data removed]",
      "text/plain": [
       "<Figure size 432x288 with 1 Axes>"
      ]
     },
     "metadata": {
      "needs_background": "light"
     },
     "output_type": "display_data"
    }
   ],
   "source": [
    "# the plot tells us that one component has relatively small flow values between 20 and 60 \n",
    "\n",
    "import matplotlib.pyplot as plt\n",
    "\n",
    "_ = plt.scatter(lifecycle[[\"dpi\"]], \n",
    "                avgs[[\"ddpi\"]].values[lifecycle.BIC_country],\n",
    "                alpha=0.5) #semi transparent \n",
    "_ = plt.xlabel(\"per-capita disposable income\") # picks out average flow \n",
    "_ = plt.ylabel(\"growth rate of dpi\")\n",
    "_ = plt.show()"
   ]
  },
  {
   "cell_type": "markdown",
   "id": "3c53746b",
   "metadata": {},
   "source": [
    "<h3>AIC: Akaike Information Criteria </h3>"
   ]
  },
  {
   "cell_type": "code",
   "execution_count": 53,
   "id": "ed65b343",
   "metadata": {},
   "outputs": [
    {
     "name": "stdout",
     "output_type": "stream",
     "text": [
      "2457.265492541115\n"
     ]
    }
   ],
   "source": [
    "from sklearn.mixture import GaussianMixture\n",
    "m2 = GaussianMixture(5, covariance_type=\"spherical\")\n",
    "m2.fit(X)\n",
    "print(m2.aic(X))"
   ]
  },
  {
   "cell_type": "code",
   "execution_count": 54,
   "id": "4da6698e",
   "metadata": {},
   "outputs": [
    {
     "name": "stdout",
     "output_type": "stream",
     "text": [
      "k=1, diag AIC=1621.7380540605895\n",
      "k=2, diag AIC=1426.8025308194954\n",
      "k=3, diag AIC=1408.1979854003507\n",
      "k=4, diag AIC=1395.4085472376614\n",
      "k=5, diag AIC=1379.0509846807292\n",
      "k=6, diag AIC=1338.9164751432158\n",
      "k=7, diag AIC=1362.1568740808634\n",
      "k=8, diag AIC=1359.1282997160356\n",
      "k=9, diag AIC=1362.295211258007\n"
     ]
    },
    {
     "data": {
      "text/plain": [
       "[1338.9164751432158,\n",
       " 1359.1282997160356,\n",
       " 1362.1568740808634,\n",
       " 1362.295211258007,\n",
       " 1379.0509846807292,\n",
       " 1395.4085472376614,\n",
       " 1408.1979854003507,\n",
       " 1426.8025308194954,\n",
       " 1621.7380540605895]"
      ]
     },
     "execution_count": 54,
     "metadata": {},
     "output_type": "execute_result"
    }
   ],
   "source": [
    "ks = range(1,10)\n",
    "aics =[]\n",
    "for k in ks:\n",
    "    m2 = GaussianMixture(k, covariance_type=\"diag\")\n",
    "    _ = m2.fit(X)\n",
    "    aics.append(m2.aic(X))\n",
    "    print(f\"k={k}, diag AIC={m2.aic(X)}\")\n",
    "sorted(aics)"
   ]
  },
  {
   "cell_type": "code",
   "execution_count": 66,
   "id": "84fa84df",
   "metadata": {},
   "outputs": [
    {
     "data": {
      "text/html": [
       "<div>\n",
       "<style scoped>\n",
       "    .dataframe tbody tr th:only-of-type {\n",
       "        vertical-align: middle;\n",
       "    }\n",
       "\n",
       "    .dataframe tbody tr th {\n",
       "        vertical-align: top;\n",
       "    }\n",
       "\n",
       "    .dataframe thead th {\n",
       "        text-align: right;\n",
       "    }\n",
       "</style>\n",
       "<table border=\"1\" class=\"dataframe\">\n",
       "  <thead>\n",
       "    <tr style=\"text-align: right;\">\n",
       "      <th></th>\n",
       "      <th>country</th>\n",
       "      <th>sr</th>\n",
       "      <th>pop15</th>\n",
       "      <th>pop75</th>\n",
       "      <th>dpi</th>\n",
       "      <th>ddpi</th>\n",
       "      <th>BIC_country</th>\n",
       "      <th>AIC_country</th>\n",
       "    </tr>\n",
       "  </thead>\n",
       "  <tbody>\n",
       "    <tr>\n",
       "      <th>39</th>\n",
       "      <td>Switzerland</td>\n",
       "      <td>14.13</td>\n",
       "      <td>23.49</td>\n",
       "      <td>3.73</td>\n",
       "      <td>2630.96</td>\n",
       "      <td>2.70</td>\n",
       "      <td>1</td>\n",
       "      <td>3</td>\n",
       "    </tr>\n",
       "    <tr>\n",
       "      <th>27</th>\n",
       "      <td>Netherlands</td>\n",
       "      <td>14.65</td>\n",
       "      <td>24.71</td>\n",
       "      <td>3.25</td>\n",
       "      <td>1740.70</td>\n",
       "      <td>7.66</td>\n",
       "      <td>2</td>\n",
       "      <td>1</td>\n",
       "    </tr>\n",
       "    <tr>\n",
       "      <th>34</th>\n",
       "      <td>Portugal</td>\n",
       "      <td>12.49</td>\n",
       "      <td>28.96</td>\n",
       "      <td>2.85</td>\n",
       "      <td>579.51</td>\n",
       "      <td>7.48</td>\n",
       "      <td>4</td>\n",
       "      <td>0</td>\n",
       "    </tr>\n",
       "    <tr>\n",
       "      <th>42</th>\n",
       "      <td>United Kingdom</td>\n",
       "      <td>7.81</td>\n",
       "      <td>23.27</td>\n",
       "      <td>4.46</td>\n",
       "      <td>1813.93</td>\n",
       "      <td>2.01</td>\n",
       "      <td>2</td>\n",
       "      <td>1</td>\n",
       "    </tr>\n",
       "    <tr>\n",
       "      <th>10</th>\n",
       "      <td>Denmark</td>\n",
       "      <td>16.85</td>\n",
       "      <td>24.42</td>\n",
       "      <td>3.93</td>\n",
       "      <td>2496.53</td>\n",
       "      <td>3.99</td>\n",
       "      <td>1</td>\n",
       "      <td>1</td>\n",
       "    </tr>\n",
       "  </tbody>\n",
       "</table>\n",
       "</div>"
      ],
      "text/plain": [
       "           country     sr  pop15  pop75      dpi  ddpi  BIC_country  \\\n",
       "39     Switzerland  14.13  23.49   3.73  2630.96  2.70            1   \n",
       "27     Netherlands  14.65  24.71   3.25  1740.70  7.66            2   \n",
       "34        Portugal  12.49  28.96   2.85   579.51  7.48            4   \n",
       "42  United Kingdom   7.81  23.27   4.46  1813.93  2.01            2   \n",
       "10         Denmark  16.85  24.42   3.93  2496.53  3.99            1   \n",
       "\n",
       "    AIC_country  \n",
       "39            3  \n",
       "27            1  \n",
       "34            0  \n",
       "42            1  \n",
       "10            1  "
      ]
     },
     "execution_count": 66,
     "metadata": {},
     "output_type": "execute_result"
    }
   ],
   "source": [
    "m2 = GaussianMixture(5, covariance_type=\"diag\")\n",
    "_ = m2.fit(X)\n",
    "lifecycle[\"AIC_country\"] = m2.predict(X)  # component membership added to DF\n",
    "lifecycle.sample(5)"
   ]
  },
  {
   "cell_type": "code",
   "execution_count": 56,
   "id": "35e39dcc",
   "metadata": {},
   "outputs": [
    {
     "data": {
      "text/html": [
       "<div>\n",
       "<style scoped>\n",
       "    .dataframe tbody tr th:only-of-type {\n",
       "        vertical-align: middle;\n",
       "    }\n",
       "\n",
       "    .dataframe tbody tr th {\n",
       "        vertical-align: top;\n",
       "    }\n",
       "\n",
       "    .dataframe thead th {\n",
       "        text-align: right;\n",
       "    }\n",
       "</style>\n",
       "<table border=\"1\" class=\"dataframe\">\n",
       "  <thead>\n",
       "    <tr style=\"text-align: right;\">\n",
       "      <th></th>\n",
       "      <th>pop15</th>\n",
       "      <th>pop75</th>\n",
       "      <th>sr</th>\n",
       "      <th>dpi</th>\n",
       "      <th>ddpi</th>\n",
       "    </tr>\n",
       "    <tr>\n",
       "      <th>AIC_country</th>\n",
       "      <th></th>\n",
       "      <th></th>\n",
       "      <th></th>\n",
       "      <th></th>\n",
       "      <th></th>\n",
       "    </tr>\n",
       "  </thead>\n",
       "  <tbody>\n",
       "    <tr>\n",
       "      <th>0</th>\n",
       "      <td>23.670909</td>\n",
       "      <td>4.039091</td>\n",
       "      <td>11.905455</td>\n",
       "      <td>2236.248182</td>\n",
       "      <td>3.286364</td>\n",
       "    </tr>\n",
       "    <tr>\n",
       "      <th>1</th>\n",
       "      <td>44.403333</td>\n",
       "      <td>1.096000</td>\n",
       "      <td>6.749333</td>\n",
       "      <td>395.019333</td>\n",
       "      <td>2.182000</td>\n",
       "    </tr>\n",
       "    <tr>\n",
       "      <th>2</th>\n",
       "      <td>29.554615</td>\n",
       "      <td>2.752308</td>\n",
       "      <td>11.873846</td>\n",
       "      <td>1053.508462</td>\n",
       "      <td>4.489231</td>\n",
       "    </tr>\n",
       "    <tr>\n",
       "      <th>3</th>\n",
       "      <td>30.293333</td>\n",
       "      <td>3.050000</td>\n",
       "      <td>9.260000</td>\n",
       "      <td>3104.816667</td>\n",
       "      <td>2.583333</td>\n",
       "    </tr>\n",
       "    <tr>\n",
       "      <th>4</th>\n",
       "      <td>44.120000</td>\n",
       "      <td>1.106250</td>\n",
       "      <td>8.651250</td>\n",
       "      <td>225.480000</td>\n",
       "      <td>6.611250</td>\n",
       "    </tr>\n",
       "  </tbody>\n",
       "</table>\n",
       "</div>"
      ],
      "text/plain": [
       "                 pop15     pop75         sr          dpi      ddpi\n",
       "AIC_country                                                       \n",
       "0            23.670909  4.039091  11.905455  2236.248182  3.286364\n",
       "1            44.403333  1.096000   6.749333   395.019333  2.182000\n",
       "2            29.554615  2.752308  11.873846  1053.508462  4.489231\n",
       "3            30.293333  3.050000   9.260000  3104.816667  2.583333\n",
       "4            44.120000  1.106250   8.651250   225.480000  6.611250"
      ]
     },
     "execution_count": 56,
     "metadata": {},
     "output_type": "execute_result"
    }
   ],
   "source": [
    "# calculate average characteristics by similarity \n",
    "# only retaining our outcome variables and take the average \n",
    "avgs = lifecycle.groupby(\"AIC_country\")\\\n",
    "[[\"pop15\", \"pop75\", \"sr\", \"dpi\", \"ddpi\"]]\\\n",
    ".mean()\n",
    "avgs"
   ]
  },
  {
   "cell_type": "code",
   "execution_count": 57,
   "id": "a5a3aa91",
   "metadata": {},
   "outputs": [
    {
     "name": "stderr",
     "output_type": "stream",
     "text": [
      "/Users/jennyskytta/opt/anaconda3/lib/python3.9/site-packages/numpy/core/fromnumeric.py:3438: FutureWarning: In a future version, DataFrame.mean(axis=None) will return a scalar mean over the entire DataFrame. To retain the old behavior, use 'frame.mean(axis=0)' or just 'frame.mean()'\n",
      "  return mean(axis=axis, dtype=dtype, out=out, **kwargs)\n"
     ]
    },
    {
     "data": {
      "text/plain": [
       "sr    3.81774\n",
       "dtype: float64"
      ]
     },
     "execution_count": 57,
     "metadata": {},
     "output_type": "execute_result"
    }
   ],
   "source": [
    "rmse = np.sqrt(np.mean((lifecycle[[\"sr\"]] - avgs[[\"sr\"]].values[lifecycle.AIC_country])**2))\n",
    "rmse"
   ]
  },
  {
   "cell_type": "markdown",
   "id": "4f1914a0",
   "metadata": {},
   "source": [
    "## Part 2\n",
    "Report how many groups you got and why you chose that number with the help of AIC and BIC. \n",
    "\n",
    "- After running the BIC, I observed that 5 clusters was the optimal of the loop.  I ran the same loop using AIC, and observed 6 clusters possibly being best.  RMSE was still lower using AIC with 5 clusters so I ultimately decided to use that number. The cluster certainly appear to differ from AIC and BIC in terms of which countries are allocated to which cluster.  For example Switzerland is in cluster 1 in BIC and in cluster 3 in AIC. "
   ]
  },
  {
   "cell_type": "code",
   "execution_count": 61,
   "id": "3e269736",
   "metadata": {},
   "outputs": [
    {
     "data": {
      "image/png": "[encoded data removed]",
      "text/plain": [
       "<Figure size 432x288 with 1 Axes>"
      ]
     },
     "metadata": {
      "needs_background": "light"
     },
     "output_type": "display_data"
    }
   ],
   "source": [
    "# the plot tells us that one component has relatively small flow values between 20 and 60 \n",
    "\n",
    "import matplotlib.pyplot as plt\n",
    "\n",
    "_ = plt.scatter(lifecycle[[\"dpi\"]], \n",
    "                avgs[[\"ddpi\"]].values[lifecycle.AIC_country],\n",
    "                alpha=0.5) #semi transparent \n",
    "_ = plt.xlabel(\"per-capita disposable income\") # picks out average flow \n",
    "_ = plt.ylabel(\"growth rate of dpi\")\n",
    "_ = plt.show()"
   ]
  },
  {
   "cell_type": "code",
   "execution_count": 65,
   "id": "d56e313a",
   "metadata": {},
   "outputs": [
    {
     "data": {
      "text/plain": [
       "<matplotlib.collections.PathCollection at 0x7f9451965820>"
      ]
     },
     "execution_count": 65,
     "metadata": {},
     "output_type": "execute_result"
    },
    {
     "data": {
      "image/png": "[encoded data removed]",
      "text/plain": [
       "<Figure size 432x288 with 1 Axes>"
      ]
     },
     "metadata": {
      "needs_background": "light"
     },
     "output_type": "display_data"
    }
   ],
   "source": [
    "plt.scatter(X[\"dpi\"], X[\"ddpi\"], c = pred, alpha = 0.8)"
   ]
  }
 ],
 "metadata": {
  "kernelspec": {
   "display_name": "Python 3 (ipykernel)",
   "language": "python",
   "name": "python3"
  },
  "language_info": {
   "codemirror_mode": {
    "name": "ipython",
    "version": 3
   },
   "file_extension": ".py",
   "mimetype": "text/x-python",
   "name": "python",
   "nbconvert_exporter": "python",
   "pygments_lexer": "ipython3",
   "version": "3.9.12"
  }
 },
 "nbformat": 4,
 "nbformat_minor": 5
}
