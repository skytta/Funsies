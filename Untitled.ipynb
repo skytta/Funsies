{
 "cells": [
  {
   "cell_type": "code",
   "execution_count": 99,
   "id": "47d083ed",
   "metadata": {},
   "outputs": [],
   "source": [
    "#import library\n",
    "import pandas as pd\n",
    "import numpy as np\n",
    "import matplotlib.pyplot as plt\n",
    "import seaborn as sns\n",
    "%matplotlib inline"
   ]
  },
  {
   "cell_type": "code",
   "execution_count": 111,
   "id": "4b2cbdb4",
   "metadata": {},
   "outputs": [
    {
     "data": {
      "text/html": [
       "<div>\n",
       "<style scoped>\n",
       "    .dataframe tbody tr th:only-of-type {\n",
       "        vertical-align: middle;\n",
       "    }\n",
       "\n",
       "    .dataframe tbody tr th {\n",
       "        vertical-align: top;\n",
       "    }\n",
       "\n",
       "    .dataframe thead th {\n",
       "        text-align: right;\n",
       "    }\n",
       "</style>\n",
       "<table border=\"1\" class=\"dataframe\">\n",
       "  <thead>\n",
       "    <tr style=\"text-align: right;\">\n",
       "      <th></th>\n",
       "      <th>country</th>\n",
       "      <th>sr</th>\n",
       "      <th>pop15</th>\n",
       "      <th>pop75</th>\n",
       "      <th>dpi</th>\n",
       "      <th>ddpi</th>\n",
       "    </tr>\n",
       "  </thead>\n",
       "  <tbody>\n",
       "    <tr>\n",
       "      <th>49</th>\n",
       "      <td>Malaysia</td>\n",
       "      <td>4.71</td>\n",
       "      <td>47.2</td>\n",
       "      <td>0.66</td>\n",
       "      <td>242.69</td>\n",
       "      <td>5.08</td>\n",
       "    </tr>\n",
       "  </tbody>\n",
       "</table>\n",
       "</div>"
      ],
      "text/plain": [
       "     country    sr  pop15  pop75     dpi  ddpi\n",
       "49  Malaysia  4.71   47.2   0.66  242.69  5.08"
      ]
     },
     "execution_count": 111,
     "metadata": {},
     "output_type": "execute_result"
    }
   ],
   "source": [
    "lifecycle = pd.read_csv('/Users/jennyskytta/Desktop/lifecycle.csv')\n",
    "lifecycle.rename(columns={\"Contry\": \"country\"}, inplace = True)\n",
    "lifecycle.sample(1)"
   ]
  },
  {
   "cell_type": "code",
   "execution_count": 101,
   "id": "33ee5637",
   "metadata": {},
   "outputs": [
    {
     "data": {
      "text/plain": [
       "(50, 6)"
      ]
     },
     "execution_count": 101,
     "metadata": {},
     "output_type": "execute_result"
    }
   ],
   "source": [
    "lifecycle.shape # very small dataset"
   ]
  },
  {
   "cell_type": "code",
   "execution_count": 145,
   "id": "676b6888",
   "metadata": {},
   "outputs": [],
   "source": [
    "X = lifecycle[[\"pop15\", \"pop75\", \"dpi\", \"ddpi\"]]"
   ]
  },
  {
   "cell_type": "code",
   "execution_count": 171,
   "id": "3fe82f2a",
   "metadata": {},
   "outputs": [
    {
     "data": {
      "text/plain": [
       "1463.179705089475"
      ]
     },
     "execution_count": 171,
     "metadata": {},
     "output_type": "execute_result"
    }
   ],
   "source": [
    "from sklearn.mixture import GaussianMixture\n",
    "m = GaussianMixture(5, covariance_type=\"diag\") # this is a multivariate model\n",
    "_=m.fit(X)\n",
    "m.bic(X)  # compute BIC  which we will use to compare models using R-squared or RMSE etc"
   ]
  },
  {
   "cell_type": "code",
   "execution_count": 172,
   "id": "0fceb053",
   "metadata": {},
   "outputs": [
    {
     "data": {
      "text/plain": [
       "array([2, 1, 1, 0, 4, 2, 4, 0, 4, 4, 1, 4, 3, 1, 1, 3, 4, 0, 3, 4, 3, 1,\n",
       "       3, 0, 1, 3, 1, 3, 3, 4, 4, 4, 4, 4, 3, 3, 3, 3, 1, 1, 4, 4, 1, 2,\n",
       "       4, 0, 0, 3, 0, 0])"
      ]
     },
     "execution_count": 172,
     "metadata": {},
     "output_type": "execute_result"
    }
   ],
   "source": [
    "pred = m.predict(X)\n",
    "pred"
   ]
  },
  {
   "cell_type": "markdown",
   "id": "a973f17b",
   "metadata": {},
   "source": [
    "<h3> BIC: Bayesian Information Criteria</h3>"
   ]
  },
  {
   "cell_type": "code",
   "execution_count": 184,
   "id": "789045b4",
   "metadata": {},
   "outputs": [
    {
     "name": "stdout",
     "output_type": "stream",
     "text": [
      "k=1, diag BIC=3065.2880813317843\n",
      "k=2, diag BIC=2753.760014151431\n",
      "k=3, diag BIC=2705.568773117718\n",
      "k=4, diag BIC=2621.8502541130483\n",
      "k=5, diag BIC=2512.714159712118\n",
      "k=6, diag BIC=2503.9648045910144\n",
      "k=7, diag BIC=2401.133693300301\n"
     ]
    },
    {
     "data": {
      "text/plain": [
       "[2401.133693300301,\n",
       " 2503.9648045910144,\n",
       " 2512.714159712118,\n",
       " 2621.8502541130483,\n",
       " 2705.568773117718,\n",
       " 2753.760014151431,\n",
       " 3065.2880813317843]"
      ]
     },
     "execution_count": 184,
     "metadata": {},
     "output_type": "execute_result"
    }
   ],
   "source": [
    "ks = range(1,8)\n",
    "bics =[]\n",
    "for k in ks:\n",
    "    m = GaussianMixture(k, covariance_type=\"spherical\")\n",
    "    _ = m.fit(X)\n",
    "    bics.append(m.bic(X))\n",
    "    print(f\"k={k}, diag BIC={m.bic(X)}\")\n",
    "sorted(bics)"
   ]
  },
  {
   "cell_type": "code",
   "execution_count": 185,
   "id": "148d0d8b",
   "metadata": {},
   "outputs": [
    {
     "data": {
      "text/html": [
       "<div>\n",
       "<style scoped>\n",
       "    .dataframe tbody tr th:only-of-type {\n",
       "        vertical-align: middle;\n",
       "    }\n",
       "\n",
       "    .dataframe tbody tr th {\n",
       "        vertical-align: top;\n",
       "    }\n",
       "\n",
       "    .dataframe thead th {\n",
       "        text-align: right;\n",
       "    }\n",
       "</style>\n",
       "<table border=\"1\" class=\"dataframe\">\n",
       "  <thead>\n",
       "    <tr style=\"text-align: right;\">\n",
       "      <th></th>\n",
       "      <th>country</th>\n",
       "      <th>sr</th>\n",
       "      <th>pop15</th>\n",
       "      <th>pop75</th>\n",
       "      <th>dpi</th>\n",
       "      <th>ddpi</th>\n",
       "      <th>BIC_country</th>\n",
       "      <th>AIC_country</th>\n",
       "    </tr>\n",
       "  </thead>\n",
       "  <tbody>\n",
       "    <tr>\n",
       "      <th>5</th>\n",
       "      <td>Canada</td>\n",
       "      <td>8.79</td>\n",
       "      <td>31.72</td>\n",
       "      <td>2.85</td>\n",
       "      <td>2982.88</td>\n",
       "      <td>2.43</td>\n",
       "      <td>2</td>\n",
       "      <td>3</td>\n",
       "    </tr>\n",
       "    <tr>\n",
       "      <th>39</th>\n",
       "      <td>Switzerland</td>\n",
       "      <td>14.13</td>\n",
       "      <td>23.49</td>\n",
       "      <td>3.73</td>\n",
       "      <td>2630.96</td>\n",
       "      <td>2.70</td>\n",
       "      <td>3</td>\n",
       "      <td>2</td>\n",
       "    </tr>\n",
       "    <tr>\n",
       "      <th>10</th>\n",
       "      <td>Denmark</td>\n",
       "      <td>16.85</td>\n",
       "      <td>24.42</td>\n",
       "      <td>3.93</td>\n",
       "      <td>2496.53</td>\n",
       "      <td>3.99</td>\n",
       "      <td>3</td>\n",
       "      <td>2</td>\n",
       "    </tr>\n",
       "    <tr>\n",
       "      <th>31</th>\n",
       "      <td>Paraguay</td>\n",
       "      <td>2.02</td>\n",
       "      <td>41.18</td>\n",
       "      <td>1.05</td>\n",
       "      <td>220.56</td>\n",
       "      <td>1.03</td>\n",
       "      <td>4</td>\n",
       "      <td>4</td>\n",
       "    </tr>\n",
       "    <tr>\n",
       "      <th>41</th>\n",
       "      <td>Tunisia</td>\n",
       "      <td>2.81</td>\n",
       "      <td>46.12</td>\n",
       "      <td>1.21</td>\n",
       "      <td>249.87</td>\n",
       "      <td>1.13</td>\n",
       "      <td>4</td>\n",
       "      <td>4</td>\n",
       "    </tr>\n",
       "  </tbody>\n",
       "</table>\n",
       "</div>"
      ],
      "text/plain": [
       "        country     sr  pop15  pop75      dpi  ddpi  BIC_country  AIC_country\n",
       "5        Canada   8.79  31.72   2.85  2982.88  2.43            2            3\n",
       "39  Switzerland  14.13  23.49   3.73  2630.96  2.70            3            2\n",
       "10      Denmark  16.85  24.42   3.93  2496.53  3.99            3            2\n",
       "31     Paraguay   2.02  41.18   1.05   220.56  1.03            4            4\n",
       "41      Tunisia   2.81  46.12   1.21   249.87  1.13            4            4"
      ]
     },
     "execution_count": 185,
     "metadata": {},
     "output_type": "execute_result"
    }
   ],
   "source": [
    "m = GaussianMixture(5, covariance_type=\"spherical\")\n",
    "_ = m.fit(X)\n",
    "lifecycle[\"BIC_country\"] = m.predict(X)  # component membership added to DF\n",
    "lifecycle.sample(5)"
   ]
  },
  {
   "cell_type": "code",
   "execution_count": 195,
   "id": "71903be1",
   "metadata": {},
   "outputs": [
    {
     "data": {
      "text/html": [
       "<div>\n",
       "<style scoped>\n",
       "    .dataframe tbody tr th:only-of-type {\n",
       "        vertical-align: middle;\n",
       "    }\n",
       "\n",
       "    .dataframe tbody tr th {\n",
       "        vertical-align: top;\n",
       "    }\n",
       "\n",
       "    .dataframe thead th {\n",
       "        text-align: right;\n",
       "    }\n",
       "</style>\n",
       "<table border=\"1\" class=\"dataframe\">\n",
       "  <thead>\n",
       "    <tr style=\"text-align: right;\">\n",
       "      <th></th>\n",
       "      <th>pop15</th>\n",
       "      <th>pop75</th>\n",
       "      <th>sr</th>\n",
       "      <th>dpi</th>\n",
       "      <th>ddpi</th>\n",
       "    </tr>\n",
       "    <tr>\n",
       "      <th>BIC_country</th>\n",
       "      <th></th>\n",
       "      <th></th>\n",
       "      <th></th>\n",
       "      <th></th>\n",
       "      <th></th>\n",
       "    </tr>\n",
       "  </thead>\n",
       "  <tbody>\n",
       "    <tr>\n",
       "      <th>0</th>\n",
       "      <td>35.860000</td>\n",
       "      <td>1.972727</td>\n",
       "      <td>9.882727</td>\n",
       "      <td>680.215455</td>\n",
       "      <td>4.042727</td>\n",
       "    </tr>\n",
       "    <tr>\n",
       "      <th>1</th>\n",
       "      <td>27.607778</td>\n",
       "      <td>3.368889</td>\n",
       "      <td>11.603333</td>\n",
       "      <td>1546.524444</td>\n",
       "      <td>3.948889</td>\n",
       "    </tr>\n",
       "    <tr>\n",
       "      <th>2</th>\n",
       "      <td>27.656667</td>\n",
       "      <td>3.606667</td>\n",
       "      <td>7.736667</td>\n",
       "      <td>3428.086667</td>\n",
       "      <td>2.630000</td>\n",
       "    </tr>\n",
       "    <tr>\n",
       "      <th>3</th>\n",
       "      <td>24.647500</td>\n",
       "      <td>3.801250</td>\n",
       "      <td>12.671250</td>\n",
       "      <td>2364.625000</td>\n",
       "      <td>3.316250</td>\n",
       "    </tr>\n",
       "    <tr>\n",
       "      <th>4</th>\n",
       "      <td>43.757895</td>\n",
       "      <td>1.126316</td>\n",
       "      <td>7.675263</td>\n",
       "      <td>249.240526</td>\n",
       "      <td>3.865789</td>\n",
       "    </tr>\n",
       "  </tbody>\n",
       "</table>\n",
       "</div>"
      ],
      "text/plain": [
       "                 pop15     pop75         sr          dpi      ddpi\n",
       "BIC_country                                                       \n",
       "0            35.860000  1.972727   9.882727   680.215455  4.042727\n",
       "1            27.607778  3.368889  11.603333  1546.524444  3.948889\n",
       "2            27.656667  3.606667   7.736667  3428.086667  2.630000\n",
       "3            24.647500  3.801250  12.671250  2364.625000  3.316250\n",
       "4            43.757895  1.126316   7.675263   249.240526  3.865789"
      ]
     },
     "execution_count": 195,
     "metadata": {},
     "output_type": "execute_result"
    }
   ],
   "source": [
    "# calculate average characteristics by similarity \n",
    "# only retaining our outcome variables and take the average \n",
    "avgs = lifecycle.groupby(\"BIC_country\")\\\n",
    "[[\"pop15\", \"pop75\", \"sr\", \"dpi\", \"ddpi\"]]\\\n",
    ".mean()\n",
    "avgs"
   ]
  },
  {
   "cell_type": "code",
   "execution_count": 186,
   "id": "3e5fcfa9",
   "metadata": {},
   "outputs": [
    {
     "name": "stderr",
     "output_type": "stream",
     "text": [
      "/Users/jennyskytta/opt/anaconda3/lib/python3.9/site-packages/numpy/core/fromnumeric.py:3438: FutureWarning: In a future version, DataFrame.mean(axis=None) will return a scalar mean over the entire DataFrame. To retain the old behavior, use 'frame.mean(axis=0)' or just 'frame.mean()'\n",
      "  return mean(axis=axis, dtype=dtype, out=out, **kwargs)\n"
     ]
    },
    {
     "data": {
      "text/plain": [
       "sr    4.635038\n",
       "dtype: float64"
      ]
     },
     "execution_count": 186,
     "metadata": {},
     "output_type": "execute_result"
    }
   ],
   "source": [
    "rmse = np.sqrt(np.mean((lifecycle[[\"sr\"]] - avgs[[\"sr\"]].values[lifecycle.BIC_country])**2))\n",
    "rmse"
   ]
  },
  {
   "cell_type": "code",
   "execution_count": 187,
   "id": "e10a98f0",
   "metadata": {},
   "outputs": [
    {
     "data": {
      "image/png": "[encoded data removed]",
      "text/plain": [
       "<Figure size 432x288 with 1 Axes>"
      ]
     },
     "metadata": {
      "needs_background": "light"
     },
     "output_type": "display_data"
    }
   ],
   "source": [
    "# the plot tells us that one component has relatively small flow values between 20 and 60 \n",
    "\n",
    "import matplotlib.pyplot as plt\n",
    "\n",
    "_ = plt.scatter(lifecycle[[\"sr\"]], \n",
    "                avgs[[\"sr\"]].values[lifecycle.BIC_country],\n",
    "                alpha=0.5) #semi transparent \n",
    "_ = plt.xlabel(\"savings ratios per country\") # picks out average flow \n",
    "_ = plt.ylabel(\"BIC Countries\")\n",
    "_ = plt.show()"
   ]
  },
  {
   "cell_type": "markdown",
   "id": "9a0f0525",
   "metadata": {},
   "source": [
    "<h3>AIC: Akaike Information Criteria </h3>"
   ]
  },
  {
   "cell_type": "code",
   "execution_count": 188,
   "id": "64e34ee3",
   "metadata": {},
   "outputs": [
    {
     "name": "stdout",
     "output_type": "stream",
     "text": [
      "2457.2654926643377\n"
     ]
    }
   ],
   "source": [
    "from sklearn.mixture import GaussianMixture\n",
    "m2 = GaussianMixture(5, covariance_type=\"spherical\")\n",
    "m2.fit(X)\n",
    "print(m2.aic(X))"
   ]
  },
  {
   "cell_type": "code",
   "execution_count": 189,
   "id": "1448e77c",
   "metadata": {},
   "outputs": [
    {
     "name": "stdout",
     "output_type": "stream",
     "text": [
      "k=1, diag AIC=3055.7279663046434\n",
      "k=2, diag AIC=2732.7277610917213\n",
      "k=3, diag AIC=2692.623918725087\n",
      "k=4, diag AIC=2514.938088219072\n",
      "k=5, diag AIC=2457.2654925411143\n",
      "k=6, diag AIC=2355.1449429987288\n",
      "k=7, diag AIC=2181.477758175074\n",
      "k=8, diag AIC=2303.6396343649685\n",
      "k=9, diag AIC=2264.4610232421\n",
      "k=10, diag AIC=2243.828127927179\n",
      "k=11, diag AIC=2066.083843065804\n",
      "k=12, diag AIC=2107.9165582861706\n",
      "k=13, diag AIC=1965.3707863093773\n",
      "k=14, diag AIC=1870.2745291974584\n",
      "k=15, diag AIC=1781.2851302421407\n",
      "k=16, diag AIC=1772.3870618187334\n",
      "k=17, diag AIC=1601.0830394812726\n",
      "k=18, diag AIC=1445.980534016386\n",
      "k=19, diag AIC=1483.8819546118314\n"
     ]
    },
    {
     "data": {
      "text/plain": [
       "[1445.980534016386,\n",
       " 1483.8819546118314,\n",
       " 1601.0830394812726,\n",
       " 1772.3870618187334,\n",
       " 1781.2851302421407,\n",
       " 1870.2745291974584,\n",
       " 1965.3707863093773,\n",
       " 2066.083843065804,\n",
       " 2107.9165582861706,\n",
       " 2181.477758175074,\n",
       " 2243.828127927179,\n",
       " 2264.4610232421,\n",
       " 2303.6396343649685,\n",
       " 2355.1449429987288,\n",
       " 2457.2654925411143,\n",
       " 2514.938088219072,\n",
       " 2692.623918725087,\n",
       " 2732.7277610917213,\n",
       " 3055.7279663046434]"
      ]
     },
     "execution_count": 189,
     "metadata": {},
     "output_type": "execute_result"
    }
   ],
   "source": [
    "ks = range(1,20)\n",
    "aics =[]\n",
    "for k in ks:\n",
    "    m2 = GaussianMixture(k, covariance_type=\"spherical\")\n",
    "    _ = m2.fit(X)\n",
    "    aics.append(m2.aic(X))\n",
    "    print(f\"k={k}, diag AIC={m2.aic(X)}\")\n",
    "sorted(aics)"
   ]
  },
  {
   "cell_type": "code",
   "execution_count": 2,
   "id": "60490020",
   "metadata": {},
   "outputs": [],
   "source": [
    "def aic(X):\n",
    "  range_n_clusters = range(2, 10)\n",
    "  aic_list = []\n",
    "  for n_clusters in range_n_clusters:\n",
    "     model = mixture.GaussianMixture(n_components=n_clusters, init_params='kmeans')\n",
    "     model.fit(X)\n",
    "     aic_list.append(model.aic(X))\n",
    "  plt.plot(range_n_clusters, aic_list, marker='o')\n",
    "  plt.show()"
   ]
  },
  {
   "cell_type": "code",
   "execution_count": 199,
   "id": "0d08c3fb",
   "metadata": {},
   "outputs": [
    {
     "data": {
      "text/html": [
       "<div>\n",
       "<style scoped>\n",
       "    .dataframe tbody tr th:only-of-type {\n",
       "        vertical-align: middle;\n",
       "    }\n",
       "\n",
       "    .dataframe tbody tr th {\n",
       "        vertical-align: top;\n",
       "    }\n",
       "\n",
       "    .dataframe thead th {\n",
       "        text-align: right;\n",
       "    }\n",
       "</style>\n",
       "<table border=\"1\" class=\"dataframe\">\n",
       "  <thead>\n",
       "    <tr style=\"text-align: right;\">\n",
       "      <th></th>\n",
       "      <th>country</th>\n",
       "      <th>sr</th>\n",
       "      <th>pop15</th>\n",
       "      <th>pop75</th>\n",
       "      <th>dpi</th>\n",
       "      <th>ddpi</th>\n",
       "      <th>BIC_country</th>\n",
       "      <th>AIC_country</th>\n",
       "    </tr>\n",
       "  </thead>\n",
       "  <tbody>\n",
       "    <tr>\n",
       "      <th>19</th>\n",
       "      <td>India</td>\n",
       "      <td>9.00</td>\n",
       "      <td>41.31</td>\n",
       "      <td>0.96</td>\n",
       "      <td>88.94</td>\n",
       "      <td>1.54</td>\n",
       "      <td>4</td>\n",
       "      <td>1</td>\n",
       "    </tr>\n",
       "    <tr>\n",
       "      <th>10</th>\n",
       "      <td>Denmark</td>\n",
       "      <td>16.85</td>\n",
       "      <td>24.42</td>\n",
       "      <td>3.93</td>\n",
       "      <td>2496.53</td>\n",
       "      <td>3.99</td>\n",
       "      <td>3</td>\n",
       "      <td>2</td>\n",
       "    </tr>\n",
       "    <tr>\n",
       "      <th>23</th>\n",
       "      <td>Korea</td>\n",
       "      <td>3.98</td>\n",
       "      <td>41.74</td>\n",
       "      <td>0.91</td>\n",
       "      <td>207.68</td>\n",
       "      <td>5.81</td>\n",
       "      <td>4</td>\n",
       "      <td>1</td>\n",
       "    </tr>\n",
       "    <tr>\n",
       "      <th>0</th>\n",
       "      <td>Australia</td>\n",
       "      <td>11.43</td>\n",
       "      <td>29.35</td>\n",
       "      <td>2.87</td>\n",
       "      <td>2329.68</td>\n",
       "      <td>2.87</td>\n",
       "      <td>3</td>\n",
       "      <td>2</td>\n",
       "    </tr>\n",
       "    <tr>\n",
       "      <th>8</th>\n",
       "      <td>Colombia</td>\n",
       "      <td>4.98</td>\n",
       "      <td>46.64</td>\n",
       "      <td>1.06</td>\n",
       "      <td>276.65</td>\n",
       "      <td>3.08</td>\n",
       "      <td>4</td>\n",
       "      <td>1</td>\n",
       "    </tr>\n",
       "  </tbody>\n",
       "</table>\n",
       "</div>"
      ],
      "text/plain": [
       "      country     sr  pop15  pop75      dpi  ddpi  BIC_country  AIC_country\n",
       "19      India   9.00  41.31   0.96    88.94  1.54            4            1\n",
       "10    Denmark  16.85  24.42   3.93  2496.53  3.99            3            2\n",
       "23      Korea   3.98  41.74   0.91   207.68  5.81            4            1\n",
       "0   Australia  11.43  29.35   2.87  2329.68  2.87            3            2\n",
       "8    Colombia   4.98  46.64   1.06   276.65  3.08            4            1"
      ]
     },
     "execution_count": 199,
     "metadata": {},
     "output_type": "execute_result"
    }
   ],
   "source": [
    "m2 = GaussianMixture(5, covariance_type=\"spherical\")\n",
    "_ = m2.fit(X)\n",
    "lifecycle[\"AIC_country\"] = m2.predict(X)  # component membership added to DF\n",
    "lifecycle.sample(5)"
   ]
  },
  {
   "cell_type": "code",
   "execution_count": 203,
   "id": "4f4a49bb",
   "metadata": {},
   "outputs": [
    {
     "data": {
      "text/html": [
       "<div>\n",
       "<style scoped>\n",
       "    .dataframe tbody tr th:only-of-type {\n",
       "        vertical-align: middle;\n",
       "    }\n",
       "\n",
       "    .dataframe tbody tr th {\n",
       "        vertical-align: top;\n",
       "    }\n",
       "\n",
       "    .dataframe thead th {\n",
       "        text-align: right;\n",
       "    }\n",
       "</style>\n",
       "<table border=\"1\" class=\"dataframe\">\n",
       "  <thead>\n",
       "    <tr style=\"text-align: right;\">\n",
       "      <th></th>\n",
       "      <th>pop15</th>\n",
       "      <th>pop75</th>\n",
       "      <th>sr</th>\n",
       "      <th>dpi</th>\n",
       "      <th>ddpi</th>\n",
       "    </tr>\n",
       "    <tr>\n",
       "      <th>AIC_country</th>\n",
       "      <th></th>\n",
       "      <th></th>\n",
       "      <th></th>\n",
       "      <th></th>\n",
       "      <th></th>\n",
       "    </tr>\n",
       "  </thead>\n",
       "  <tbody>\n",
       "    <tr>\n",
       "      <th>0</th>\n",
       "      <td>27.656667</td>\n",
       "      <td>3.606667</td>\n",
       "      <td>7.736667</td>\n",
       "      <td>3428.086667</td>\n",
       "      <td>2.630000</td>\n",
       "    </tr>\n",
       "    <tr>\n",
       "      <th>1</th>\n",
       "      <td>43.757895</td>\n",
       "      <td>1.126316</td>\n",
       "      <td>7.675263</td>\n",
       "      <td>249.240526</td>\n",
       "      <td>3.865789</td>\n",
       "    </tr>\n",
       "    <tr>\n",
       "      <th>2</th>\n",
       "      <td>24.647500</td>\n",
       "      <td>3.801250</td>\n",
       "      <td>12.671250</td>\n",
       "      <td>2364.625000</td>\n",
       "      <td>3.316250</td>\n",
       "    </tr>\n",
       "    <tr>\n",
       "      <th>3</th>\n",
       "      <td>27.607778</td>\n",
       "      <td>3.368889</td>\n",
       "      <td>11.603333</td>\n",
       "      <td>1546.524444</td>\n",
       "      <td>3.948889</td>\n",
       "    </tr>\n",
       "    <tr>\n",
       "      <th>4</th>\n",
       "      <td>35.860000</td>\n",
       "      <td>1.972727</td>\n",
       "      <td>9.882727</td>\n",
       "      <td>680.215455</td>\n",
       "      <td>4.042727</td>\n",
       "    </tr>\n",
       "  </tbody>\n",
       "</table>\n",
       "</div>"
      ],
      "text/plain": [
       "                 pop15     pop75         sr          dpi      ddpi\n",
       "AIC_country                                                       \n",
       "0            27.656667  3.606667   7.736667  3428.086667  2.630000\n",
       "1            43.757895  1.126316   7.675263   249.240526  3.865789\n",
       "2            24.647500  3.801250  12.671250  2364.625000  3.316250\n",
       "3            27.607778  3.368889  11.603333  1546.524444  3.948889\n",
       "4            35.860000  1.972727   9.882727   680.215455  4.042727"
      ]
     },
     "execution_count": 203,
     "metadata": {},
     "output_type": "execute_result"
    }
   ],
   "source": [
    "# calculate average characteristics by similarity \n",
    "# only retaining our outcome variables and take the average \n",
    "avgs = lifecycle.groupby(\"AIC_country\")\\\n",
    "[[\"pop15\", \"pop75\", \"sr\", \"dpi\", \"ddpi\"]]\\\n",
    ".mean()\n",
    "avgs"
   ]
  },
  {
   "cell_type": "code",
   "execution_count": 192,
   "id": "3b7a2950",
   "metadata": {},
   "outputs": [
    {
     "name": "stderr",
     "output_type": "stream",
     "text": [
      "/Users/jennyskytta/opt/anaconda3/lib/python3.9/site-packages/numpy/core/fromnumeric.py:3438: FutureWarning: In a future version, DataFrame.mean(axis=None) will return a scalar mean over the entire DataFrame. To retain the old behavior, use 'frame.mean(axis=0)' or just 'frame.mean()'\n",
      "  return mean(axis=axis, dtype=dtype, out=out, **kwargs)\n"
     ]
    },
    {
     "data": {
      "text/plain": [
       "sr    3.976472\n",
       "dtype: float64"
      ]
     },
     "execution_count": 192,
     "metadata": {},
     "output_type": "execute_result"
    }
   ],
   "source": [
    "rmse = np.sqrt(np.mean((lifecycle[[\"sr\"]] - avgs[[\"sr\"]].values[lifecycle.AIC_country])**2))\n",
    "rmse"
   ]
  },
  {
   "cell_type": "code",
   "execution_count": 193,
   "id": "47bc8470",
   "metadata": {},
   "outputs": [
    {
     "data": {
      "image/png": "[encoded data removed]",
      "text/plain": [
       "<Figure size 432x288 with 1 Axes>"
      ]
     },
     "metadata": {
      "needs_background": "light"
     },
     "output_type": "display_data"
    }
   ],
   "source": [
    "# the plot tells us that one component has relatively small flow values between 20 and 60 \n",
    "\n",
    "import matplotlib.pyplot as plt\n",
    "\n",
    "_ = plt.scatter(lifecycle[[\"sr\"]], \n",
    "                avgs[[\"sr\"]].values[lifecycle.AIC_country],\n",
    "                alpha=0.5) #semi transparent \n",
    "_ = plt.xlabel(\"savings ratios per country\") # picks out average flow \n",
    "_ = plt.ylabel(\"AIC Countries\")\n",
    "_ = plt.show()"
   ]
  },
  {
   "cell_type": "code",
   "execution_count": 194,
   "id": "e6f7569d",
   "metadata": {},
   "outputs": [
    {
     "data": {
      "text/plain": [
       "<matplotlib.collections.PathCollection at 0x7fa4ec48bee0>"
      ]
     },
     "execution_count": 194,
     "metadata": {},
     "output_type": "execute_result"
    },
    {
     "data": {
      "image/png": "[encoded data removed]",
      "text/plain": [
       "<Figure size 432x288 with 1 Axes>"
      ]
     },
     "metadata": {
      "needs_background": "light"
     },
     "output_type": "display_data"
    }
   ],
   "source": [
    "plt.scatter(X[\"dpi\"], X[\"ddpi\"], c = pred, alpha = 0.8)"
   ]
  }
 ],
 "metadata": {
  "kernelspec": {
   "display_name": "Python 3 (ipykernel)",
   "language": "python",
   "name": "python3"
  },
  "language_info": {
   "codemirror_mode": {
    "name": "ipython",
    "version": 3
   },
   "file_extension": ".py",
   "mimetype": "text/x-python",
   "name": "python",
   "nbconvert_exporter": "python",
   "pygments_lexer": "ipython3",
   "version": "3.9.12"
  }
 },
 "nbformat": 4,
 "nbformat_minor": 5
}
