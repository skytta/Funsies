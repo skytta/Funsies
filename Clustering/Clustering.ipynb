{
 "cells": [
  {
   "cell_type": "code",
   "execution_count": 5,
   "id": "bbeedbe8",
   "metadata": {},
   "outputs": [],
   "source": [
    "#import library\n",
    "import pandas as pd\n",
    "import numpy as np\n",
    "import matplotlib.pyplot as plt\n",
    "import seaborn as sns\n",
    "%matplotlib inline"
   ]
  },
  {
   "cell_type": "markdown",
   "id": "5428a89d",
   "metadata": {},
   "source": [
    "## Step 1: \n",
    "__Use this dataset and two different clustering approaches (agglomerative and divisive) to group the airlines with similar safety records.__\n",
    "\n",
    "#### Problem Statement\n",
    "\n",
    "With the accidents involving Boeing's 737 Max, there have been speculations and concerns about airline safety. Then, there was a helicopter crash involving Kobe Bryant. Academic studies have found that high-profile crashes can shift passenger demand away from the airlines involved in the disasters.\n",
    "\n",
    "- Should travelers avoid airlines that have had crashes in the past?"
   ]
  },
  {
   "cell_type": "code",
   "execution_count": 6,
   "id": "d24970ac",
   "metadata": {
    "scrolled": false
   },
   "outputs": [
    {
     "data": {
      "text/html": [
       "<div>\n",
       "<style scoped>\n",
       "    .dataframe tbody tr th:only-of-type {\n",
       "        vertical-align: middle;\n",
       "    }\n",
       "\n",
       "    .dataframe tbody tr th {\n",
       "        vertical-align: top;\n",
       "    }\n",
       "\n",
       "    .dataframe thead th {\n",
       "        text-align: right;\n",
       "    }\n",
       "</style>\n",
       "<table border=\"1\" class=\"dataframe\">\n",
       "  <thead>\n",
       "    <tr style=\"text-align: right;\">\n",
       "      <th></th>\n",
       "      <th>airline</th>\n",
       "      <th>avail_seat_km_per_week</th>\n",
       "      <th>incidents_85_99</th>\n",
       "      <th>fatal_accidents_85_99</th>\n",
       "      <th>fatalities_85_99</th>\n",
       "      <th>incidents_00_14</th>\n",
       "      <th>fatal_accidents_00_14</th>\n",
       "      <th>fatalities_00_14</th>\n",
       "    </tr>\n",
       "  </thead>\n",
       "  <tbody>\n",
       "    <tr>\n",
       "      <th>46</th>\n",
       "      <td>TACA</td>\n",
       "      <td>259373346</td>\n",
       "      <td>3</td>\n",
       "      <td>1</td>\n",
       "      <td>3</td>\n",
       "      <td>1</td>\n",
       "      <td>1</td>\n",
       "      <td>3</td>\n",
       "    </tr>\n",
       "  </tbody>\n",
       "</table>\n",
       "</div>"
      ],
      "text/plain": [
       "   airline  avail_seat_km_per_week  incidents_85_99  fatal_accidents_85_99  \\\n",
       "46    TACA               259373346                3                      1   \n",
       "\n",
       "    fatalities_85_99  incidents_00_14  fatal_accidents_00_14  fatalities_00_14  \n",
       "46                 3                1                      1                 3  "
      ]
     },
     "execution_count": 6,
     "metadata": {},
     "output_type": "execute_result"
    }
   ],
   "source": [
    "airsafe = pd.read_csv('/Users/jennyskytta/Desktop/Jupyter/MLProjects/Notready/airsafe.csv')\n",
    "airsafe.sample(1) # look at sample of our data "
   ]
  },
  {
   "cell_type": "markdown",
   "id": "a050daec",
   "metadata": {},
   "source": [
    "Viewing the data distribution.  I am using 2 plots to view all 6 variables "
   ]
  },
  {
   "cell_type": "code",
   "execution_count": 7,
   "id": "77d92e7f",
   "metadata": {},
   "outputs": [
    {
     "data": {
      "text/plain": [
       "<AxesSubplot:xlabel='fatal_accidents_85_99', ylabel='fatalities_85_99'>"
      ]
     },
     "execution_count": 7,
     "metadata": {},
     "output_type": "execute_result"
    },
    {
     "data": {
      "image/png": "[encoded data removed]",
      "text/plain": [
       "<Figure size 432x288 with 1 Axes>"
      ]
     },
     "metadata": {
      "needs_background": "light"
     },
     "output_type": "display_data"
    }
   ],
   "source": [
    "sns.scatterplot(x=\"fatal_accidents_85_99\", y=\"fatalities_85_99\", hue=\"airline\", data=airsafe, legend = False)\n",
    "# Viewing plot of past accidents from 1985 - 1999"
   ]
  },
  {
   "cell_type": "code",
   "execution_count": 8,
   "id": "bcaa7963",
   "metadata": {},
   "outputs": [
    {
     "data": {
      "text/plain": [
       "<AxesSubplot:xlabel='fatal_accidents_00_14', ylabel='fatalities_00_14'>"
      ]
     },
     "execution_count": 8,
     "metadata": {},
     "output_type": "execute_result"
    },
    {
     "data": {
      "image/png": "[encoded data removed]",
      "text/plain": [
       "<Figure size 432x288 with 1 Axes>"
      ]
     },
     "metadata": {
      "needs_background": "light"
     },
     "output_type": "display_data"
    }
   ],
   "source": [
    "sns.scatterplot(x=\"fatal_accidents_00_14\", y=\"fatalities_00_14\", hue=\"airline\", data=airsafe, s=110, legend = False)\n",
    "# Viewing plot of more recent data from 2014"
   ]
  },
  {
   "cell_type": "code",
   "execution_count": 9,
   "id": "d34219e1",
   "metadata": {},
   "outputs": [],
   "source": [
    "from sklearn.cluster import KMeans\n",
    "\n",
    "X = airsafe[[\"incidents_85_99\", \"fatal_accidents_85_99\", \"fatalities_85_99\", \"incidents_00_14\", \"fatal_accidents_00_14\", \"fatalities_00_14\"]]\n",
    "m = KMeans(n_clusters=3)\n",
    "_ = m.fit(X)   # fitting on all variables to see if there is a pattern - setting 4 clusters"
   ]
  },
  {
   "cell_type": "code",
   "execution_count": 10,
   "id": "454900a0",
   "metadata": {},
   "outputs": [
    {
     "data": {
      "text/plain": [
       "array([0, 0, 0, 0, 0, 2, 1, 0, 0, 0, 0, 2, 0, 1, 0, 0, 1, 0, 0, 1, 1, 0,\n",
       "       0, 0, 1, 0, 0, 0, 1, 2, 0, 1, 0, 0, 2, 1, 0, 0, 0, 0, 1, 0, 0, 0,\n",
       "       0, 1, 0, 0, 0, 1, 0, 1, 1, 0, 0, 0], dtype=int32)"
      ]
     },
     "execution_count": 10,
     "metadata": {},
     "output_type": "execute_result"
    }
   ],
   "source": [
    "kmhat = m.predict(X)\n",
    "kmhat"
   ]
  },
  {
   "cell_type": "code",
   "execution_count": 11,
   "id": "d356068c",
   "metadata": {},
   "outputs": [
    {
     "data": {
      "image/png": "[encoded data removed]",
      "text/plain": [
       "<Figure size 432x288 with 1 Axes>"
      ]
     },
     "metadata": {
      "needs_background": "light"
     },
     "output_type": "display_data"
    }
   ],
   "source": [
    "airsafe[\"kmhat\"] = kmhat\n",
    "scatty = sns.scatterplot(x=\"fatal_accidents_00_14\", y=\"fatalities_00_14\", \n",
    "                    hue=\"airline\", style=\"kmhat\",\n",
    "                    data=airsafe, s=110,  legend = False)\n",
    "plt.rcParams[\"figure.figsize\"] = (8,5.5)"
   ]
  },
  {
   "cell_type": "code",
   "execution_count": 12,
   "id": "b9c233a5",
   "metadata": {},
   "outputs": [
    {
     "data": {
      "text/plain": [
       "439687.8984962406"
      ]
     },
     "execution_count": 12,
     "metadata": {},
     "output_type": "execute_result"
    }
   ],
   "source": [
    "m.inertia_  "
   ]
  },
  {
   "cell_type": "code",
   "execution_count": 13,
   "id": "87e0bbe4",
   "metadata": {},
   "outputs": [
    {
     "data": {
      "image/png": "[encoded data removed]",
      "text/plain": [
       "<Figure size 576x396 with 1 Axes>"
      ]
     },
     "metadata": {
      "needs_background": "light"
     },
     "output_type": "display_data"
    }
   ],
   "source": [
    "ks = range(1, 10)\n",
    "losses = []\n",
    "for k in ks:\n",
    "    m = KMeans(k)\n",
    "    _ = m.fit(X)\n",
    "    losses.append(m.inertia_)\n",
    "_ = plt.plot(ks, losses, marker=\"o\")\n",
    "plt.xlabel(\"k\")\n",
    "_ = plt.ylabel(\"Overall loss\")\n",
    "_ = plt.title(\"Elbow plot\")  # best k was 3 which is what I chose "
   ]
  },
  {
   "cell_type": "code",
   "execution_count": 14,
   "id": "d3ab5819",
   "metadata": {},
   "outputs": [
    {
     "data": {
      "text/html": [
       "<div>\n",
       "<style scoped>\n",
       "    .dataframe tbody tr th:only-of-type {\n",
       "        vertical-align: middle;\n",
       "    }\n",
       "\n",
       "    .dataframe tbody tr th {\n",
       "        vertical-align: top;\n",
       "    }\n",
       "\n",
       "    .dataframe thead th {\n",
       "        text-align: right;\n",
       "    }\n",
       "</style>\n",
       "<table border=\"1\" class=\"dataframe\">\n",
       "  <thead>\n",
       "    <tr style=\"text-align: right;\">\n",
       "      <th>fatal_accidents_00_14</th>\n",
       "      <th>0</th>\n",
       "      <th>1</th>\n",
       "      <th>2</th>\n",
       "      <th>3</th>\n",
       "      <th>All</th>\n",
       "    </tr>\n",
       "    <tr>\n",
       "      <th>kmhat</th>\n",
       "      <th></th>\n",
       "      <th></th>\n",
       "      <th></th>\n",
       "      <th></th>\n",
       "      <th></th>\n",
       "    </tr>\n",
       "  </thead>\n",
       "  <tbody>\n",
       "    <tr>\n",
       "      <th>0</th>\n",
       "      <td>27</td>\n",
       "      <td>8</td>\n",
       "      <td>3</td>\n",
       "      <td>0</td>\n",
       "      <td>38</td>\n",
       "    </tr>\n",
       "    <tr>\n",
       "      <th>1</th>\n",
       "      <td>5</td>\n",
       "      <td>4</td>\n",
       "      <td>5</td>\n",
       "      <td>0</td>\n",
       "      <td>14</td>\n",
       "    </tr>\n",
       "    <tr>\n",
       "      <th>2</th>\n",
       "      <td>0</td>\n",
       "      <td>0</td>\n",
       "      <td>3</td>\n",
       "      <td>1</td>\n",
       "      <td>4</td>\n",
       "    </tr>\n",
       "    <tr>\n",
       "      <th>All</th>\n",
       "      <td>32</td>\n",
       "      <td>12</td>\n",
       "      <td>11</td>\n",
       "      <td>1</td>\n",
       "      <td>56</td>\n",
       "    </tr>\n",
       "  </tbody>\n",
       "</table>\n",
       "</div>"
      ],
      "text/plain": [
       "fatal_accidents_00_14   0   1   2  3  All\n",
       "kmhat                                    \n",
       "0                      27   8   3  0   38\n",
       "1                       5   4   5  0   14\n",
       "2                       0   0   3  1    4\n",
       "All                    32  12  11  1   56"
      ]
     },
     "execution_count": 14,
     "metadata": {},
     "output_type": "execute_result"
    }
   ],
   "source": [
    "pd.crosstab(airsafe.kmhat, airsafe.fatal_accidents_00_14, margins=True) "
   ]
  },
  {
   "cell_type": "markdown",
   "id": "d012e249",
   "metadata": {},
   "source": [
    "#### k Means Cluster Impression\n",
    "After going through this and trying to get meaning from this data when its segmented by 15 year chunks leaving me to decide which grouping to use, I came to the conclusion that I should combine the columns into larger groups by outcomes.  I believe this falls under normalization of data since it will likely help the data fall into more truthful groupings. Granted, this can only happen because I know the data labels which may not always be the case.  In this case, it seems that grouping by \"incidents\", \"fatal accidents\", and \"fatalities\" that are not broken down by timeframe could yeild better information.  The question posed is whether people _should_ avoid airlines that presumably fit into a death cluster.  Taking the combined data from the 80s and 2000s would yeild a more robust answer to that question.  We would be able to see if there was a cluster of more fatalities.  "
   ]
  },
  {
   "cell_type": "code",
   "execution_count": 16,
   "id": "f8019a39",
   "metadata": {},
   "outputs": [
    {
     "data": {
      "text/html": [
       "<div>\n",
       "<style scoped>\n",
       "    .dataframe tbody tr th:only-of-type {\n",
       "        vertical-align: middle;\n",
       "    }\n",
       "\n",
       "    .dataframe tbody tr th {\n",
       "        vertical-align: top;\n",
       "    }\n",
       "\n",
       "    .dataframe thead th {\n",
       "        text-align: right;\n",
       "    }\n",
       "</style>\n",
       "<table border=\"1\" class=\"dataframe\">\n",
       "  <thead>\n",
       "    <tr style=\"text-align: right;\">\n",
       "      <th></th>\n",
       "      <th>airline</th>\n",
       "      <th>avail_seat_km_per_week</th>\n",
       "      <th>incidents</th>\n",
       "      <th>fatal_accidents</th>\n",
       "      <th>fatalities</th>\n",
       "    </tr>\n",
       "  </thead>\n",
       "  <tbody>\n",
       "    <tr>\n",
       "      <th>57</th>\n",
       "      <td>Aeroflot*</td>\n",
       "      <td>1197672318</td>\n",
       "      <td>6</td>\n",
       "      <td>1</td>\n",
       "      <td>88</td>\n",
       "    </tr>\n",
       "  </tbody>\n",
       "</table>\n",
       "</div>"
      ],
      "text/plain": [
       "      airline  avail_seat_km_per_week  incidents  fatal_accidents  fatalities\n",
       "57  Aeroflot*              1197672318          6                1          88"
      ]
     },
     "execution_count": 16,
     "metadata": {},
     "output_type": "execute_result"
    }
   ],
   "source": [
    "airsafe2 = pd.read_csv('/Users/jennyskytta/Desktop/Jupyter/MLProjects/Notready/airsafe2.csv')\n",
    "airsafe2.sample(1) # looking at the grouped dataset "
   ]
  },
  {
   "cell_type": "code",
   "execution_count": 17,
   "id": "247ceefd",
   "metadata": {},
   "outputs": [
    {
     "data": {
      "text/plain": [
       "<AxesSubplot:xlabel='fatal_accidents', ylabel='fatalities'>"
      ]
     },
     "execution_count": 17,
     "metadata": {},
     "output_type": "execute_result"
    },
    {
     "data": {
      "image/png": "[encoded data removed]",
      "text/plain": [
       "<Figure size 576x396 with 1 Axes>"
      ]
     },
     "metadata": {
      "needs_background": "light"
     },
     "output_type": "display_data"
    }
   ],
   "source": [
    "sns.scatterplot(x=\"fatal_accidents\", y=\"fatalities\", hue=\"airline\", data=airsafe2, s=110, legend = False)\n",
    "# Viewing plot of past accidents from "
   ]
  },
  {
   "cell_type": "code",
   "execution_count": 18,
   "id": "d9cc82f8",
   "metadata": {},
   "outputs": [],
   "source": [
    "from sklearn.cluster import KMeans\n",
    "\n",
    "X = airsafe2[[\"incidents\", \"fatal_accidents\", \"fatalities\"]]\n",
    "m = KMeans(n_clusters=2)\n",
    "_ = m.fit(X)   # fitting on all variables to see if there is a pattern - setting 4 clusters"
   ]
  },
  {
   "cell_type": "code",
   "execution_count": 19,
   "id": "a2e4ebd6",
   "metadata": {},
   "outputs": [],
   "source": [
    "kmhat = m.predict(X)"
   ]
  },
  {
   "cell_type": "code",
   "execution_count": 20,
   "id": "c73fe791",
   "metadata": {},
   "outputs": [
    {
     "data": {
      "image/png": "[encoded data removed]",
      "text/plain": [
       "<Figure size 576x396 with 1 Axes>"
      ]
     },
     "metadata": {
      "needs_background": "light"
     },
     "output_type": "display_data"
    }
   ],
   "source": [
    "airsafe2[\"kmhat\"] = kmhat\n",
    "scatty = sns.scatterplot(x=\"fatal_accidents\", y=\"fatalities\", \n",
    "                    hue=\"airline\", style=\"kmhat\", legend = False,\n",
    "                    data=airsafe2, s=110)\n",
    "plt.rcParams[\"figure.figsize\"] = (8,5.5)"
   ]
  },
  {
   "cell_type": "code",
   "execution_count": 21,
   "id": "abc05a37",
   "metadata": {},
   "outputs": [
    {
     "data": {
      "image/png": "[encoded data removed]",
      "text/plain": [
       "<Figure size 576x396 with 1 Axes>"
      ]
     },
     "metadata": {
      "needs_background": "light"
     },
     "output_type": "display_data"
    }
   ],
   "source": [
    "ks = range(1, 10)\n",
    "losses = []\n",
    "for k in ks:\n",
    "    m = KMeans(k)\n",
    "    _ = m.fit(X)\n",
    "    losses.append(m.inertia_)\n",
    "_ = plt.plot(ks, losses, marker=\"o\")\n",
    "plt.xlabel(\"k\")\n",
    "_ = plt.ylabel(\"Overall loss\")\n",
    "_ = plt.title(\"Elbow plot\")  # best k here is possibly 2 OR 3 "
   ]
  },
  {
   "cell_type": "code",
   "execution_count": 22,
   "id": "8ef23d75",
   "metadata": {},
   "outputs": [
    {
     "data": {
      "text/plain": [
       "11585.27902930403"
      ]
     },
     "execution_count": 22,
     "metadata": {},
     "output_type": "execute_result"
    }
   ],
   "source": [
    "m.inertia_  "
   ]
  },
  {
   "cell_type": "code",
   "execution_count": 23,
   "id": "e66e94e5",
   "metadata": {},
   "outputs": [
    {
     "data": {
      "text/html": [
       "<div>\n",
       "<style scoped>\n",
       "    .dataframe tbody tr th:only-of-type {\n",
       "        vertical-align: middle;\n",
       "    }\n",
       "\n",
       "    .dataframe tbody tr th {\n",
       "        vertical-align: top;\n",
       "    }\n",
       "\n",
       "    .dataframe thead th {\n",
       "        text-align: right;\n",
       "    }\n",
       "</style>\n",
       "<table border=\"1\" class=\"dataframe\">\n",
       "  <thead>\n",
       "    <tr style=\"text-align: right;\">\n",
       "      <th>fatalities</th>\n",
       "      <th>0</th>\n",
       "      <th>1</th>\n",
       "      <th>2</th>\n",
       "      <th>3</th>\n",
       "      <th>4</th>\n",
       "      <th>6</th>\n",
       "      <th>7</th>\n",
       "      <th>14</th>\n",
       "      <th>16</th>\n",
       "      <th>21</th>\n",
       "      <th>...</th>\n",
       "      <th>323</th>\n",
       "      <th>329</th>\n",
       "      <th>337</th>\n",
       "      <th>407</th>\n",
       "      <th>416</th>\n",
       "      <th>425</th>\n",
       "      <th>520</th>\n",
       "      <th>535</th>\n",
       "      <th>537</th>\n",
       "      <th>All</th>\n",
       "    </tr>\n",
       "    <tr>\n",
       "      <th>kmhat</th>\n",
       "      <th></th>\n",
       "      <th></th>\n",
       "      <th></th>\n",
       "      <th></th>\n",
       "      <th></th>\n",
       "      <th></th>\n",
       "      <th></th>\n",
       "      <th></th>\n",
       "      <th></th>\n",
       "      <th></th>\n",
       "      <th></th>\n",
       "      <th></th>\n",
       "      <th></th>\n",
       "      <th></th>\n",
       "      <th></th>\n",
       "      <th></th>\n",
       "      <th></th>\n",
       "      <th></th>\n",
       "      <th></th>\n",
       "      <th></th>\n",
       "      <th></th>\n",
       "    </tr>\n",
       "  </thead>\n",
       "  <tbody>\n",
       "    <tr>\n",
       "      <th>0</th>\n",
       "      <td>49</td>\n",
       "      <td>3</td>\n",
       "      <td>1</td>\n",
       "      <td>3</td>\n",
       "      <td>1</td>\n",
       "      <td>1</td>\n",
       "      <td>1</td>\n",
       "      <td>2</td>\n",
       "      <td>1</td>\n",
       "      <td>1</td>\n",
       "      <td>...</td>\n",
       "      <td>0</td>\n",
       "      <td>0</td>\n",
       "      <td>0</td>\n",
       "      <td>0</td>\n",
       "      <td>0</td>\n",
       "      <td>0</td>\n",
       "      <td>0</td>\n",
       "      <td>0</td>\n",
       "      <td>0</td>\n",
       "      <td>92</td>\n",
       "    </tr>\n",
       "    <tr>\n",
       "      <th>1</th>\n",
       "      <td>0</td>\n",
       "      <td>0</td>\n",
       "      <td>0</td>\n",
       "      <td>0</td>\n",
       "      <td>0</td>\n",
       "      <td>0</td>\n",
       "      <td>0</td>\n",
       "      <td>0</td>\n",
       "      <td>0</td>\n",
       "      <td>0</td>\n",
       "      <td>...</td>\n",
       "      <td>1</td>\n",
       "      <td>1</td>\n",
       "      <td>1</td>\n",
       "      <td>1</td>\n",
       "      <td>1</td>\n",
       "      <td>1</td>\n",
       "      <td>1</td>\n",
       "      <td>1</td>\n",
       "      <td>1</td>\n",
       "      <td>20</td>\n",
       "    </tr>\n",
       "    <tr>\n",
       "      <th>All</th>\n",
       "      <td>49</td>\n",
       "      <td>3</td>\n",
       "      <td>1</td>\n",
       "      <td>3</td>\n",
       "      <td>1</td>\n",
       "      <td>1</td>\n",
       "      <td>1</td>\n",
       "      <td>2</td>\n",
       "      <td>1</td>\n",
       "      <td>1</td>\n",
       "      <td>...</td>\n",
       "      <td>1</td>\n",
       "      <td>1</td>\n",
       "      <td>1</td>\n",
       "      <td>1</td>\n",
       "      <td>1</td>\n",
       "      <td>1</td>\n",
       "      <td>1</td>\n",
       "      <td>1</td>\n",
       "      <td>1</td>\n",
       "      <td>112</td>\n",
       "    </tr>\n",
       "  </tbody>\n",
       "</table>\n",
       "<p>3 rows × 57 columns</p>\n",
       "</div>"
      ],
      "text/plain": [
       "fatalities   0  1  2  3  4  6  7  14  16  21  ...  323  329  337  407  416  \\\n",
       "kmhat                                         ...                            \n",
       "0           49  3  1  3  1  1  1   2   1   1  ...    0    0    0    0    0   \n",
       "1            0  0  0  0  0  0  0   0   0   0  ...    1    1    1    1    1   \n",
       "All         49  3  1  3  1  1  1   2   1   1  ...    1    1    1    1    1   \n",
       "\n",
       "fatalities  425  520  535  537  All  \n",
       "kmhat                                \n",
       "0             0    0    0    0   92  \n",
       "1             1    1    1    1   20  \n",
       "All           1    1    1    1  112  \n",
       "\n",
       "[3 rows x 57 columns]"
      ]
     },
     "execution_count": 23,
     "metadata": {},
     "output_type": "execute_result"
    }
   ],
   "source": [
    "pd.crosstab(airsafe2.kmhat, airsafe2.fatalities, margins=True) "
   ]
  },
  {
   "cell_type": "markdown",
   "id": "460f00c8",
   "metadata": {},
   "source": [
    "### Agglomerative Clustering "
   ]
  },
  {
   "cell_type": "code",
   "execution_count": 24,
   "id": "a8df24ae",
   "metadata": {},
   "outputs": [],
   "source": [
    "from sklearn.cluster import AgglomerativeClustering\n",
    "\n",
    "# this doesn't NEED a numbered cluster BUT its hard to predict with out a number\n",
    "m = AgglomerativeClustering(2)\n",
    "achat = m.fit_predict(X)  # AC hat "
   ]
  },
  {
   "cell_type": "code",
   "execution_count": 25,
   "id": "0072c456",
   "metadata": {},
   "outputs": [
    {
     "data": {
      "image/png": "[encoded data removed]",
      "text/plain": [
       "<Figure size 576x396 with 1 Axes>"
      ]
     },
     "metadata": {
      "needs_background": "light"
     },
     "output_type": "display_data"
    }
   ],
   "source": [
    "airsafe2[\"achat\"] = achat\n",
    "_ = sns.scatterplot(x=\"fatal_accidents\", y=\"fatalities\", \n",
    "                    hue=\"airline\", style=\"achat\",\n",
    "                    data=airsafe2, s=110, legend=False)  #removing the legend/enormous and doesn't add value\n",
    "plt.rcParams[\"figure.figsize\"] = (8,5.5)"
   ]
  },
  {
   "cell_type": "code",
   "execution_count": 26,
   "id": "82d16376",
   "metadata": {},
   "outputs": [
    {
     "data": {
      "text/html": [
       "<div>\n",
       "<style scoped>\n",
       "    .dataframe tbody tr th:only-of-type {\n",
       "        vertical-align: middle;\n",
       "    }\n",
       "\n",
       "    .dataframe tbody tr th {\n",
       "        vertical-align: top;\n",
       "    }\n",
       "\n",
       "    .dataframe thead th {\n",
       "        text-align: right;\n",
       "    }\n",
       "</style>\n",
       "<table border=\"1\" class=\"dataframe\">\n",
       "  <thead>\n",
       "    <tr style=\"text-align: right;\">\n",
       "      <th>fatalities</th>\n",
       "      <th>0</th>\n",
       "      <th>1</th>\n",
       "      <th>2</th>\n",
       "      <th>3</th>\n",
       "      <th>4</th>\n",
       "      <th>6</th>\n",
       "      <th>7</th>\n",
       "      <th>14</th>\n",
       "      <th>16</th>\n",
       "      <th>21</th>\n",
       "      <th>...</th>\n",
       "      <th>323</th>\n",
       "      <th>329</th>\n",
       "      <th>337</th>\n",
       "      <th>407</th>\n",
       "      <th>416</th>\n",
       "      <th>425</th>\n",
       "      <th>520</th>\n",
       "      <th>535</th>\n",
       "      <th>537</th>\n",
       "      <th>All</th>\n",
       "    </tr>\n",
       "    <tr>\n",
       "      <th>achat</th>\n",
       "      <th></th>\n",
       "      <th></th>\n",
       "      <th></th>\n",
       "      <th></th>\n",
       "      <th></th>\n",
       "      <th></th>\n",
       "      <th></th>\n",
       "      <th></th>\n",
       "      <th></th>\n",
       "      <th></th>\n",
       "      <th></th>\n",
       "      <th></th>\n",
       "      <th></th>\n",
       "      <th></th>\n",
       "      <th></th>\n",
       "      <th></th>\n",
       "      <th></th>\n",
       "      <th></th>\n",
       "      <th></th>\n",
       "      <th></th>\n",
       "      <th></th>\n",
       "    </tr>\n",
       "  </thead>\n",
       "  <tbody>\n",
       "    <tr>\n",
       "      <th>0</th>\n",
       "      <td>49</td>\n",
       "      <td>3</td>\n",
       "      <td>1</td>\n",
       "      <td>3</td>\n",
       "      <td>1</td>\n",
       "      <td>1</td>\n",
       "      <td>1</td>\n",
       "      <td>2</td>\n",
       "      <td>1</td>\n",
       "      <td>1</td>\n",
       "      <td>...</td>\n",
       "      <td>0</td>\n",
       "      <td>0</td>\n",
       "      <td>0</td>\n",
       "      <td>0</td>\n",
       "      <td>0</td>\n",
       "      <td>0</td>\n",
       "      <td>0</td>\n",
       "      <td>0</td>\n",
       "      <td>0</td>\n",
       "      <td>93</td>\n",
       "    </tr>\n",
       "    <tr>\n",
       "      <th>1</th>\n",
       "      <td>0</td>\n",
       "      <td>0</td>\n",
       "      <td>0</td>\n",
       "      <td>0</td>\n",
       "      <td>0</td>\n",
       "      <td>0</td>\n",
       "      <td>0</td>\n",
       "      <td>0</td>\n",
       "      <td>0</td>\n",
       "      <td>0</td>\n",
       "      <td>...</td>\n",
       "      <td>1</td>\n",
       "      <td>1</td>\n",
       "      <td>1</td>\n",
       "      <td>1</td>\n",
       "      <td>1</td>\n",
       "      <td>1</td>\n",
       "      <td>1</td>\n",
       "      <td>1</td>\n",
       "      <td>1</td>\n",
       "      <td>19</td>\n",
       "    </tr>\n",
       "    <tr>\n",
       "      <th>All</th>\n",
       "      <td>49</td>\n",
       "      <td>3</td>\n",
       "      <td>1</td>\n",
       "      <td>3</td>\n",
       "      <td>1</td>\n",
       "      <td>1</td>\n",
       "      <td>1</td>\n",
       "      <td>2</td>\n",
       "      <td>1</td>\n",
       "      <td>1</td>\n",
       "      <td>...</td>\n",
       "      <td>1</td>\n",
       "      <td>1</td>\n",
       "      <td>1</td>\n",
       "      <td>1</td>\n",
       "      <td>1</td>\n",
       "      <td>1</td>\n",
       "      <td>1</td>\n",
       "      <td>1</td>\n",
       "      <td>1</td>\n",
       "      <td>112</td>\n",
       "    </tr>\n",
       "  </tbody>\n",
       "</table>\n",
       "<p>3 rows × 57 columns</p>\n",
       "</div>"
      ],
      "text/plain": [
       "fatalities   0  1  2  3  4  6  7  14  16  21  ...  323  329  337  407  416  \\\n",
       "achat                                         ...                            \n",
       "0           49  3  1  3  1  1  1   2   1   1  ...    0    0    0    0    0   \n",
       "1            0  0  0  0  0  0  0   0   0   0  ...    1    1    1    1    1   \n",
       "All         49  3  1  3  1  1  1   2   1   1  ...    1    1    1    1    1   \n",
       "\n",
       "fatalities  425  520  535  537  All  \n",
       "achat                                \n",
       "0             0    0    0    0   93  \n",
       "1             1    1    1    1   19  \n",
       "All           1    1    1    1  112  \n",
       "\n",
       "[3 rows x 57 columns]"
      ]
     },
     "execution_count": 26,
     "metadata": {},
     "output_type": "execute_result"
    }
   ],
   "source": [
    "pd.crosstab(airsafe2.achat, airsafe2.fatalities, margins=True) "
   ]
  },
  {
   "cell_type": "markdown",
   "id": "56994f62",
   "metadata": {},
   "source": [
    "## Step 2: \n",
    "__Do these two approaches lead to the same/similar results? Provide appropriate visualizations, clustering summaries, and your interpretations.__\n",
    "\n",
    "The 2 approaches did lead to very similar results.  The difference was only a single data point being moved from cluster 0.  Even with 3 clusters, the cluster 0 was considerably higher for fatalities or not fatalities (I honestly don't know which it is).  I do feel that breaking the data into a more complete set provided better information as once I combined them, the elbow lowered the k to 2 from 3 clusters which when comparing the outputs does truly reflect a larger disparity. The plots with 2 clusters looked very similar.  The plot with only the 2000-2014 data appeared to be grouped already into odd distributions. After normalizing this data, it does feel like we can assess that there are clearly some airlines that are more likely to have fatalities and incidents.  \n"
   ]
  }
 ],
 "metadata": {
  "kernelspec": {
   "display_name": "Python 3 (ipykernel)",
   "language": "python",
   "name": "python3"
  },
  "language_info": {
   "codemirror_mode": {
    "name": "ipython",
    "version": 3
   },
   "file_extension": ".py",
   "mimetype": "text/x-python",
   "name": "python",
   "nbconvert_exporter": "python",
   "pygments_lexer": "ipython3",
   "version": "3.9.12"
  }
 },
 "nbformat": 4,
 "nbformat_minor": 5
}
