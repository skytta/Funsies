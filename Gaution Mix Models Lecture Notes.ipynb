{
 "cells": [
  {
   "cell_type": "code",
   "execution_count": 4,
   "id": "9ef2f6ed",
   "metadata": {},
   "outputs": [],
   "source": [
    "#import library\n",
    "import pandas as pd\n",
    "import numpy as np\n",
    "import matplotlib.pyplot as plt\n",
    "import seaborn as sns\n",
    "%matplotlib inline"
   ]
  },
  {
   "cell_type": "markdown",
   "id": "fb99b0b7",
   "metadata": {},
   "source": [
    "We define clusters as observations that are nearest to eachother (nearest neighbors). What we care about is what is this cluster and what is it's shape?  We might see long elongated cucumber shapes.  It is not an exact science.  When we allocate to the cluster, it changes the dynamics of that group.  Tend to either not converge at all or lead to very unstable results.  We instead do 2 steps - 1. Assign each case to a component 2. M-step - 3. E-step  and repeat.<br>\n",
    "- Akaike Information Criterion: AIC = 2K - 2log L - minimize it \n",
    "<br><br>\n",
    "- Based on likelihood properties \n",
    "<br><br>\n",
    "- Bayesian Information Criterion BIC = Klog N-2log L\n",
    "<br><br>\n",
    "<b><u>Based on Bayesian approximations</b></u>\n",
    "- K number of parameters\n",
    "- N number of cases\n",
    "- logL model log-likelihood \n",
    "<br>\n",
    "Neither criterion works well on small steps <br><br>\n",
    "<u><b>Types</u></b>\n",
    "- Clustering k-means, agglomeration<br><br>\n",
    "- Mixtures EM-algorithm <br><br>\n",
    "- Categoriztion MLE<br><br>"
   ]
  },
  {
   "cell_type": "code",
   "execution_count": 8,
   "id": "417edc5e",
   "metadata": {},
   "outputs": [
    {
     "data": {
      "text/html": [
       "<div>\n",
       "<style scoped>\n",
       "    .dataframe tbody tr th:only-of-type {\n",
       "        vertical-align: middle;\n",
       "    }\n",
       "\n",
       "    .dataframe tbody tr th {\n",
       "        vertical-align: top;\n",
       "    }\n",
       "\n",
       "    .dataframe thead th {\n",
       "        text-align: right;\n",
       "    }\n",
       "</style>\n",
       "<table border=\"1\" class=\"dataframe\">\n",
       "  <thead>\n",
       "    <tr style=\"text-align: right;\">\n",
       "      <th></th>\n",
       "      <th>age.at.death</th>\n",
       "      <th>age</th>\n",
       "      <th>alive</th>\n",
       "      <th>male</th>\n",
       "      <th>height</th>\n",
       "      <th>weight</th>\n",
       "    </tr>\n",
       "  </thead>\n",
       "  <tbody>\n",
       "    <tr>\n",
       "      <th>130</th>\n",
       "      <td>2.75</td>\n",
       "      <td>2.75</td>\n",
       "      <td>0</td>\n",
       "      <td>0.0</td>\n",
       "      <td>NaN</td>\n",
       "      <td>NaN</td>\n",
       "    </tr>\n",
       "  </tbody>\n",
       "</table>\n",
       "</div>"
      ],
      "text/plain": [
       "     age.at.death   age  alive  male  height  weight\n",
       "130          2.75  2.75      0   0.0     NaN     NaN"
      ]
     },
     "execution_count": 8,
     "metadata": {},
     "output_type": "execute_result"
    }
   ],
   "source": [
    "htwt = pd.read_csv('/Users/jennyskytta/Desktop/htwt.csv', sep=\"\\t\")\n",
    "htwt.sample(1)"
   ]
  },
  {
   "cell_type": "code",
   "execution_count": 52,
   "id": "146a2512",
   "metadata": {},
   "outputs": [
    {
     "data": {
      "text/plain": [
       "(103, 10)"
      ]
     },
     "execution_count": 52,
     "metadata": {},
     "output_type": "execute_result"
    }
   ],
   "source": [
    "concrete = pd.read_csv('/Users/jennyskytta/Desktop/concrete.csv')\\\n",
    "   .drop(\"No\", axis=1)  # do not care about the case number\n",
    "concrete.shape"
   ]
  },
  {
   "cell_type": "code",
   "execution_count": 12,
   "id": "0b995948",
   "metadata": {},
   "outputs": [
    {
     "data": {
      "text/html": [
       "<div>\n",
       "<style scoped>\n",
       "    .dataframe tbody tr th:only-of-type {\n",
       "        vertical-align: middle;\n",
       "    }\n",
       "\n",
       "    .dataframe tbody tr th {\n",
       "        vertical-align: top;\n",
       "    }\n",
       "\n",
       "    .dataframe thead th {\n",
       "        text-align: right;\n",
       "    }\n",
       "</style>\n",
       "<table border=\"1\" class=\"dataframe\">\n",
       "  <thead>\n",
       "    <tr style=\"text-align: right;\">\n",
       "      <th></th>\n",
       "      <th>Cement</th>\n",
       "      <th>Slag</th>\n",
       "      <th>Fly ash</th>\n",
       "      <th>Water</th>\n",
       "      <th>SP</th>\n",
       "      <th>Coarse Aggr.</th>\n",
       "      <th>Fine Aggr.</th>\n",
       "      <th>SLUMP(cm)</th>\n",
       "      <th>FLOW(cm)</th>\n",
       "      <th>Compressive Strength (28-day)(Mpa)</th>\n",
       "    </tr>\n",
       "  </thead>\n",
       "  <tbody>\n",
       "    <tr>\n",
       "      <th>10</th>\n",
       "      <td>145.0</td>\n",
       "      <td>106.0</td>\n",
       "      <td>136.0</td>\n",
       "      <td>208.0</td>\n",
       "      <td>10.0</td>\n",
       "      <td>751.0</td>\n",
       "      <td>883.0</td>\n",
       "      <td>24.5</td>\n",
       "      <td>61.0</td>\n",
       "      <td>26.02</td>\n",
       "    </tr>\n",
       "    <tr>\n",
       "      <th>23</th>\n",
       "      <td>146.0</td>\n",
       "      <td>178.0</td>\n",
       "      <td>0.0</td>\n",
       "      <td>192.0</td>\n",
       "      <td>11.0</td>\n",
       "      <td>961.0</td>\n",
       "      <td>749.0</td>\n",
       "      <td>18.0</td>\n",
       "      <td>46.0</td>\n",
       "      <td>17.19</td>\n",
       "    </tr>\n",
       "    <tr>\n",
       "      <th>100</th>\n",
       "      <td>258.8</td>\n",
       "      <td>88.0</td>\n",
       "      <td>239.6</td>\n",
       "      <td>175.3</td>\n",
       "      <td>7.6</td>\n",
       "      <td>938.9</td>\n",
       "      <td>646.0</td>\n",
       "      <td>0.0</td>\n",
       "      <td>20.0</td>\n",
       "      <td>50.50</td>\n",
       "    </tr>\n",
       "    <tr>\n",
       "      <th>37</th>\n",
       "      <td>165.0</td>\n",
       "      <td>150.0</td>\n",
       "      <td>0.0</td>\n",
       "      <td>182.0</td>\n",
       "      <td>12.0</td>\n",
       "      <td>1023.0</td>\n",
       "      <td>729.0</td>\n",
       "      <td>14.5</td>\n",
       "      <td>20.0</td>\n",
       "      <td>18.26</td>\n",
       "    </tr>\n",
       "  </tbody>\n",
       "</table>\n",
       "</div>"
      ],
      "text/plain": [
       "     Cement   Slag  Fly ash  Water    SP  Coarse Aggr.  Fine Aggr.  SLUMP(cm)  \\\n",
       "10    145.0  106.0    136.0  208.0  10.0         751.0       883.0       24.5   \n",
       "23    146.0  178.0      0.0  192.0  11.0         961.0       749.0       18.0   \n",
       "100   258.8   88.0    239.6  175.3   7.6         938.9       646.0        0.0   \n",
       "37    165.0  150.0      0.0  182.0  12.0        1023.0       729.0       14.5   \n",
       "\n",
       "     FLOW(cm)  Compressive Strength (28-day)(Mpa)  \n",
       "10       61.0                               26.02  \n",
       "23       46.0                               17.19  \n",
       "100      20.0                               50.50  \n",
       "37       20.0                               18.26  "
      ]
     },
     "execution_count": 12,
     "metadata": {},
     "output_type": "execute_result"
    }
   ],
   "source": [
    "concrete.sample(4)"
   ]
  },
  {
   "cell_type": "code",
   "execution_count": 13,
   "id": "773c36a3",
   "metadata": {},
   "outputs": [
    {
     "data": {
      "text/plain": [
       "Cement                                0\n",
       "Slag                                  0\n",
       "Fly ash                               0\n",
       "Water                                 0\n",
       "SP                                    0\n",
       "Coarse Aggr.                          0\n",
       "Fine Aggr.                            0\n",
       "SLUMP(cm)                             0\n",
       "FLOW(cm)                              0\n",
       "Compressive Strength (28-day)(Mpa)    0\n",
       "dtype: int64"
      ]
     },
     "execution_count": 13,
     "metadata": {},
     "output_type": "execute_result"
    }
   ],
   "source": [
    "concrete.isna().sum()  # nothing missing so no need to clean the data"
   ]
  },
  {
   "cell_type": "code",
   "execution_count": 15,
   "id": "1bea11b2",
   "metadata": {},
   "outputs": [
    {
     "data": {
      "text/html": [
       "<div>\n",
       "<style scoped>\n",
       "    .dataframe tbody tr th:only-of-type {\n",
       "        vertical-align: middle;\n",
       "    }\n",
       "\n",
       "    .dataframe tbody tr th {\n",
       "        vertical-align: top;\n",
       "    }\n",
       "\n",
       "    .dataframe thead th {\n",
       "        text-align: right;\n",
       "    }\n",
       "</style>\n",
       "<table border=\"1\" class=\"dataframe\">\n",
       "  <thead>\n",
       "    <tr style=\"text-align: right;\">\n",
       "      <th></th>\n",
       "      <th>min</th>\n",
       "      <th>mean</th>\n",
       "      <th>max</th>\n",
       "    </tr>\n",
       "  </thead>\n",
       "  <tbody>\n",
       "    <tr>\n",
       "      <th>Cement</th>\n",
       "      <td>137.00</td>\n",
       "      <td>229.894175</td>\n",
       "      <td>374.00</td>\n",
       "    </tr>\n",
       "    <tr>\n",
       "      <th>Slag</th>\n",
       "      <td>0.00</td>\n",
       "      <td>77.973786</td>\n",
       "      <td>193.00</td>\n",
       "    </tr>\n",
       "    <tr>\n",
       "      <th>Fly ash</th>\n",
       "      <td>0.00</td>\n",
       "      <td>149.014563</td>\n",
       "      <td>260.00</td>\n",
       "    </tr>\n",
       "    <tr>\n",
       "      <th>Water</th>\n",
       "      <td>160.00</td>\n",
       "      <td>197.167961</td>\n",
       "      <td>240.00</td>\n",
       "    </tr>\n",
       "    <tr>\n",
       "      <th>SP</th>\n",
       "      <td>4.40</td>\n",
       "      <td>8.539806</td>\n",
       "      <td>19.00</td>\n",
       "    </tr>\n",
       "    <tr>\n",
       "      <th>Coarse Aggr.</th>\n",
       "      <td>708.00</td>\n",
       "      <td>883.978641</td>\n",
       "      <td>1049.90</td>\n",
       "    </tr>\n",
       "    <tr>\n",
       "      <th>Fine Aggr.</th>\n",
       "      <td>640.60</td>\n",
       "      <td>739.604854</td>\n",
       "      <td>902.00</td>\n",
       "    </tr>\n",
       "    <tr>\n",
       "      <th>SLUMP(cm)</th>\n",
       "      <td>0.00</td>\n",
       "      <td>18.048544</td>\n",
       "      <td>29.00</td>\n",
       "    </tr>\n",
       "    <tr>\n",
       "      <th>FLOW(cm)</th>\n",
       "      <td>20.00</td>\n",
       "      <td>49.610680</td>\n",
       "      <td>78.00</td>\n",
       "    </tr>\n",
       "    <tr>\n",
       "      <th>Compressive Strength (28-day)(Mpa)</th>\n",
       "      <td>17.19</td>\n",
       "      <td>36.039417</td>\n",
       "      <td>58.53</td>\n",
       "    </tr>\n",
       "  </tbody>\n",
       "</table>\n",
       "</div>"
      ],
      "text/plain": [
       "                                       min        mean      max\n",
       "Cement                              137.00  229.894175   374.00\n",
       "Slag                                  0.00   77.973786   193.00\n",
       "Fly ash                               0.00  149.014563   260.00\n",
       "Water                               160.00  197.167961   240.00\n",
       "SP                                    4.40    8.539806    19.00\n",
       "Coarse Aggr.                        708.00  883.978641  1049.90\n",
       "Fine Aggr.                          640.60  739.604854   902.00\n",
       "SLUMP(cm)                             0.00   18.048544    29.00\n",
       "FLOW(cm)                             20.00   49.610680    78.00\n",
       "Compressive Strength (28-day)(Mpa)   17.19   36.039417    58.53"
      ]
     },
     "execution_count": 15,
     "metadata": {},
     "output_type": "execute_result"
    }
   ],
   "source": [
    "# check for unreasonable values \n",
    "# do this by creating a dataframe with min middle and max values \n",
    "pd.DataFrame({\"min\":concrete.min(), \"mean\":concrete.mean(), \"max\":concrete.max()})"
   ]
  },
  {
   "cell_type": "code",
   "execution_count": 17,
   "id": "39215a71",
   "metadata": {},
   "outputs": [
    {
     "data": {
      "text/plain": [
       "(103, 7)"
      ]
     },
     "execution_count": 17,
     "metadata": {},
     "output_type": "execute_result"
    }
   ],
   "source": [
    "X = concrete[[\"Cement\", \"Slag\", \"Fly ash\", \"Water\", \"SP\", \"Coarse Aggr.\", \"Fine Aggr.\"]]\n",
    "X.shape"
   ]
  },
  {
   "cell_type": "code",
   "execution_count": 19,
   "id": "90d59e98",
   "metadata": {},
   "outputs": [
    {
     "data": {
      "text/plain": [
       "7215.08700169918"
      ]
     },
     "execution_count": 19,
     "metadata": {},
     "output_type": "execute_result"
    }
   ],
   "source": [
    "from sklearn.mixture import GaussianMixture\n",
    "# how do the components look?\n",
    "#full - every elipse can be a different size and angle \n",
    "#tied - every component is elipsed that can be in arbitrary direction but all the same \n",
    "#spherical - they are spherical / circles \n",
    "#diag - assume they are elipses but slanted but not diagonally \n",
    "m = GaussianMixture(2, covariance_type=\"diag\") # this is a multivariate model\n",
    "_=m.fit(X)\n",
    "m.bic(X)  # compute BIC  which we will use to compare models using R-squared or RMSE etc"
   ]
  },
  {
   "cell_type": "code",
   "execution_count": 20,
   "id": "0b8eea9c",
   "metadata": {},
   "outputs": [
    {
     "data": {
      "text/plain": [
       "array([1, 0, 0, 0, 0, 0, 0, 0, 0, 1, 0, 0, 0, 1, 1, 0, 0, 1, 1, 1, 1, 1,\n",
       "       0, 0, 0, 0, 1, 1, 1, 1, 1, 1, 1, 1, 0, 1, 1, 0, 0, 0, 0, 0, 0, 1,\n",
       "       1, 1, 1, 1, 1, 1, 1, 1, 1, 1, 1, 0, 1, 1, 0, 0, 1, 1, 1, 1, 1, 0,\n",
       "       0, 0, 1, 1, 1, 1, 1, 1, 0, 0, 0, 1, 0, 0, 0, 0, 0, 0, 0, 0, 0, 1,\n",
       "       0, 0, 0, 0, 1, 0, 0, 0, 1, 1, 1, 1, 1, 1, 1])"
      ]
     },
     "execution_count": 20,
     "metadata": {},
     "output_type": "execute_result"
    }
   ],
   "source": [
    "# lets do predictions \n",
    "m.predict(X)  # worried that we have too few cases for 7 dimensional problem "
   ]
  },
  {
   "cell_type": "code",
   "execution_count": 30,
   "id": "0cf72e35",
   "metadata": {},
   "outputs": [
    {
     "name": "stdout",
     "output_type": "stream",
     "text": [
      "k=1, tied BIC=6892.920605451509\n",
      "k=1, diagonal BIC=7374.7126733591285\n",
      "k=2, tied BIC=6818.06367065574\n",
      "k=2, diagonal BIC=7215.08700169918\n",
      "k=3, tied BIC=6847.431931465678\n",
      "k=3, diagonal BIC=7098.764531319585\n",
      "k=4, tied BIC=6800.418240742379\n",
      "k=4, diagonal BIC=6670.545906126845\n",
      "k=5, tied BIC=6812.086117989182\n",
      "k=5, diagonal BIC=6720.924370366393\n"
     ]
    }
   ],
   "source": [
    "ks = range(1,6)\n",
    "for k in ks:\n",
    "    m = GaussianMixture(k, covariance_type=\"tied\")\n",
    "    _ = m.fit(X)\n",
    "    print(f\"k={k}, tied BIC={m.bic(X)}\")\n",
    "    m = GaussianMixture(k, covariance_type=\"diag\")\n",
    "    _ = m.fit(X)\n",
    "    print(f\"k={k}, diagonal BIC={m.bic(X)}\")"
   ]
  },
  {
   "cell_type": "code",
   "execution_count": 29,
   "id": "0284c103",
   "metadata": {},
   "outputs": [
    {
     "name": "stdout",
     "output_type": "stream",
     "text": [
      "k=1, spherical BIC=8091.7071840219605\n",
      "k=2, spherical BIC=7947.674198571552\n",
      "k=3, spherical BIC=7905.882913222493\n",
      "k=4, spherical BIC=7816.191044959881\n",
      "k=5, spherical BIC=7808.860613169443\n"
     ]
    }
   ],
   "source": [
    "for k in ks:\n",
    "    m = GaussianMixture(k, covariance_type=\"spherical\")\n",
    "    _ = m.fit(X)\n",
    "    print(f\"k={k}, spherical BIC={m.bic(X)}\")  # numbers are variable "
   ]
  },
  {
   "cell_type": "code",
   "execution_count": 35,
   "id": "7fa1e0c0",
   "metadata": {},
   "outputs": [
    {
     "name": "stdout",
     "output_type": "stream",
     "text": [
      "k=1, spherical BIC=8091.7071840219605\n",
      "k=2, spherical BIC=7947.674198571552\n",
      "k=3, spherical BIC=7905.895254208948\n",
      "k=4, spherical BIC=7846.610915785313\n",
      "k=5, spherical BIC=7742.395346014329\n",
      "k=6, spherical BIC=7725.686527957222\n",
      "k=7, spherical BIC=7704.89790628931\n",
      "k=8, spherical BIC=7688.401866853356\n",
      "k=9, spherical BIC=7671.978843290244\n",
      "k=10, spherical BIC=7658.8648751062\n",
      "k=11, spherical BIC=7666.468255490886\n",
      "k=12, spherical BIC=7644.100910278356\n",
      "k=13, spherical BIC=7609.302342166669\n",
      "k=14, spherical BIC=7628.480619517144\n"
     ]
    },
    {
     "data": {
      "text/plain": [
       "[7609.302342166669,\n",
       " 7628.480619517144,\n",
       " 7644.100910278356,\n",
       " 7658.8648751062,\n",
       " 7666.468255490886,\n",
       " 7671.978843290244,\n",
       " 7688.401866853356,\n",
       " 7704.89790628931,\n",
       " 7725.686527957222,\n",
       " 7742.395346014329,\n",
       " 7846.610915785313,\n",
       " 7905.895254208948,\n",
       " 7947.674198571552,\n",
       " 8091.7071840219605]"
      ]
     },
     "execution_count": 35,
     "metadata": {},
     "output_type": "execute_result"
    }
   ],
   "source": [
    "ks = range(1,15)\n",
    "bics =[]\n",
    "for k in ks:\n",
    "    m = GaussianMixture(k, covariance_type=\"spherical\")\n",
    "    _ = m.fit(X)\n",
    "    bics.append(m.bic(X))\n",
    "    print(f\"k={k}, spherical BIC={m.bic(X)}\")\n",
    "sorted(bics)"
   ]
  },
  {
   "cell_type": "markdown",
   "id": "81885527",
   "metadata": {},
   "source": [
    "The best-fit model according to AIC is the one that explains the greatest amount of variation using the fewest possible independent variables."
   ]
  },
  {
   "cell_type": "code",
   "execution_count": 37,
   "id": "c0ee497f",
   "metadata": {},
   "outputs": [
    {
     "data": {
      "text/plain": [
       "9     7650.064965\n",
       "10    7675.091689\n",
       "8     7712.739465\n",
       "7     7719.688985\n",
       "6     7727.054234\n",
       "5     7742.394847\n",
       "4     7820.061284\n",
       "3     7900.862515\n",
       "2     7947.674199\n",
       "1     8091.707184\n",
       "dtype: float64"
      ]
     },
     "execution_count": 37,
     "metadata": {},
     "output_type": "execute_result"
    }
   ],
   "source": [
    "ks = range(1,11)\n",
    "bics = pd.Series(0.0, index=ks)\n",
    "for k in ks:\n",
    "    m = GaussianMixture(k, covariance_type=\"spherical\")\n",
    "    _ = m.fit(X)\n",
    "    bics[k] = m.bic(X)\n",
    "bics.sort_values()"
   ]
  },
  {
   "cell_type": "code",
   "execution_count": 38,
   "id": "43f8b8da",
   "metadata": {},
   "outputs": [
    {
     "data": {
      "text/plain": [
       "1     0.0\n",
       "2     0.0\n",
       "3     0.0\n",
       "4     0.0\n",
       "5     0.0\n",
       "6     0.0\n",
       "7     0.0\n",
       "8     0.0\n",
       "9     0.0\n",
       "10    0.0\n",
       "dtype: float64"
      ]
     },
     "execution_count": 38,
     "metadata": {},
     "output_type": "execute_result"
    }
   ],
   "source": [
    "pd.Series(0.0, index=ks)  # this is creating an empty Series \n",
    "# take kth element into ascending order "
   ]
  },
  {
   "cell_type": "code",
   "execution_count": null,
   "id": "fbaa37d4",
   "metadata": {},
   "outputs": [],
   "source": [
    "# How well does this method describe slump and flow of this data?\n",
    "# 9 compenents (clusters) seems like too many so we arbitrary choose a smaller number for our data\n"
   ]
  },
  {
   "cell_type": "code",
   "execution_count": 40,
   "id": "565b60fa",
   "metadata": {},
   "outputs": [
    {
     "data": {
      "text/html": [
       "<div>\n",
       "<style scoped>\n",
       "    .dataframe tbody tr th:only-of-type {\n",
       "        vertical-align: middle;\n",
       "    }\n",
       "\n",
       "    .dataframe tbody tr th {\n",
       "        vertical-align: top;\n",
       "    }\n",
       "\n",
       "    .dataframe thead th {\n",
       "        text-align: right;\n",
       "    }\n",
       "</style>\n",
       "<table border=\"1\" class=\"dataframe\">\n",
       "  <thead>\n",
       "    <tr style=\"text-align: right;\">\n",
       "      <th></th>\n",
       "      <th>Cement</th>\n",
       "      <th>Slag</th>\n",
       "      <th>Fly ash</th>\n",
       "      <th>Water</th>\n",
       "      <th>SP</th>\n",
       "      <th>Coarse Aggr.</th>\n",
       "      <th>Fine Aggr.</th>\n",
       "      <th>SLUMP(cm)</th>\n",
       "      <th>FLOW(cm)</th>\n",
       "      <th>Compressive Strength (28-day)(Mpa)</th>\n",
       "      <th>component</th>\n",
       "    </tr>\n",
       "  </thead>\n",
       "  <tbody>\n",
       "    <tr>\n",
       "      <th>51</th>\n",
       "      <td>342.0</td>\n",
       "      <td>136.0</td>\n",
       "      <td>0.0</td>\n",
       "      <td>225.0</td>\n",
       "      <td>11.0</td>\n",
       "      <td>770.0</td>\n",
       "      <td>747.0</td>\n",
       "      <td>21.00</td>\n",
       "      <td>61.0</td>\n",
       "      <td>32.04</td>\n",
       "      <td>0</td>\n",
       "    </tr>\n",
       "    <tr>\n",
       "      <th>25</th>\n",
       "      <td>140.0</td>\n",
       "      <td>128.0</td>\n",
       "      <td>164.0</td>\n",
       "      <td>183.0</td>\n",
       "      <td>12.0</td>\n",
       "      <td>871.0</td>\n",
       "      <td>775.0</td>\n",
       "      <td>23.75</td>\n",
       "      <td>53.0</td>\n",
       "      <td>33.38</td>\n",
       "      <td>2</td>\n",
       "    </tr>\n",
       "    <tr>\n",
       "      <th>69</th>\n",
       "      <td>336.0</td>\n",
       "      <td>134.0</td>\n",
       "      <td>0.0</td>\n",
       "      <td>222.0</td>\n",
       "      <td>6.0</td>\n",
       "      <td>756.0</td>\n",
       "      <td>787.0</td>\n",
       "      <td>26.00</td>\n",
       "      <td>64.0</td>\n",
       "      <td>31.90</td>\n",
       "      <td>0</td>\n",
       "    </tr>\n",
       "    <tr>\n",
       "      <th>33</th>\n",
       "      <td>274.0</td>\n",
       "      <td>89.0</td>\n",
       "      <td>115.0</td>\n",
       "      <td>202.0</td>\n",
       "      <td>9.0</td>\n",
       "      <td>759.0</td>\n",
       "      <td>827.0</td>\n",
       "      <td>26.50</td>\n",
       "      <td>68.0</td>\n",
       "      <td>35.52</td>\n",
       "      <td>1</td>\n",
       "    </tr>\n",
       "    <tr>\n",
       "      <th>65</th>\n",
       "      <td>159.0</td>\n",
       "      <td>0.0</td>\n",
       "      <td>248.0</td>\n",
       "      <td>175.0</td>\n",
       "      <td>12.0</td>\n",
       "      <td>1041.0</td>\n",
       "      <td>683.0</td>\n",
       "      <td>21.00</td>\n",
       "      <td>51.0</td>\n",
       "      <td>35.39</td>\n",
       "      <td>2</td>\n",
       "    </tr>\n",
       "  </tbody>\n",
       "</table>\n",
       "</div>"
      ],
      "text/plain": [
       "    Cement   Slag  Fly ash  Water    SP  Coarse Aggr.  Fine Aggr.  SLUMP(cm)  \\\n",
       "51   342.0  136.0      0.0  225.0  11.0         770.0       747.0      21.00   \n",
       "25   140.0  128.0    164.0  183.0  12.0         871.0       775.0      23.75   \n",
       "69   336.0  134.0      0.0  222.0   6.0         756.0       787.0      26.00   \n",
       "33   274.0   89.0    115.0  202.0   9.0         759.0       827.0      26.50   \n",
       "65   159.0    0.0    248.0  175.0  12.0        1041.0       683.0      21.00   \n",
       "\n",
       "    FLOW(cm)  Compressive Strength (28-day)(Mpa)  component  \n",
       "51      61.0                               32.04          0  \n",
       "25      53.0                               33.38          2  \n",
       "69      64.0                               31.90          0  \n",
       "33      68.0                               35.52          1  \n",
       "65      51.0                               35.39          2  "
      ]
     },
     "execution_count": 40,
     "metadata": {},
     "output_type": "execute_result"
    }
   ],
   "source": [
    "m = GaussianMixture(3, covariance_type=\"tied\")\n",
    "_ = m.fit(X)\n",
    "concrete[\"component\"] = m.predict(X)  # component membership added to DF\n",
    "concrete.sample(5)"
   ]
  },
  {
   "cell_type": "code",
   "execution_count": 41,
   "id": "c62a5362",
   "metadata": {},
   "outputs": [
    {
     "data": {
      "text/html": [
       "<div>\n",
       "<style scoped>\n",
       "    .dataframe tbody tr th:only-of-type {\n",
       "        vertical-align: middle;\n",
       "    }\n",
       "\n",
       "    .dataframe tbody tr th {\n",
       "        vertical-align: top;\n",
       "    }\n",
       "\n",
       "    .dataframe thead th {\n",
       "        text-align: right;\n",
       "    }\n",
       "</style>\n",
       "<table border=\"1\" class=\"dataframe\">\n",
       "  <thead>\n",
       "    <tr style=\"text-align: right;\">\n",
       "      <th></th>\n",
       "      <th>SLUMP(cm)</th>\n",
       "      <th>FLOW(cm)</th>\n",
       "      <th>Compressive Strength (28-day)(Mpa)</th>\n",
       "    </tr>\n",
       "    <tr>\n",
       "      <th>component</th>\n",
       "      <th></th>\n",
       "      <th></th>\n",
       "      <th></th>\n",
       "    </tr>\n",
       "  </thead>\n",
       "  <tbody>\n",
       "    <tr>\n",
       "      <th>0</th>\n",
       "      <td>18.100000</td>\n",
       "      <td>47.900000</td>\n",
       "      <td>28.352500</td>\n",
       "    </tr>\n",
       "    <tr>\n",
       "      <th>1</th>\n",
       "      <td>21.033333</td>\n",
       "      <td>56.575556</td>\n",
       "      <td>39.065778</td>\n",
       "    </tr>\n",
       "    <tr>\n",
       "      <th>2</th>\n",
       "      <td>14.486842</td>\n",
       "      <td>42.263158</td>\n",
       "      <td>36.501316</td>\n",
       "    </tr>\n",
       "  </tbody>\n",
       "</table>\n",
       "</div>"
      ],
      "text/plain": [
       "           SLUMP(cm)   FLOW(cm)  Compressive Strength (28-day)(Mpa)\n",
       "component                                                          \n",
       "0          18.100000  47.900000                           28.352500\n",
       "1          21.033333  56.575556                           39.065778\n",
       "2          14.486842  42.263158                           36.501316"
      ]
     },
     "execution_count": 41,
     "metadata": {},
     "output_type": "execute_result"
    }
   ],
   "source": [
    "# calculate average characteristics by component \n",
    "# only retaining our outcome variables and take the average \n",
    "avgs = concrete.groupby(\"component\")\\\n",
    "[[\"SLUMP(cm)\", \"FLOW(cm)\", \"Compressive Strength (28-day)(Mpa)\"]]\\\n",
    ".mean()\n",
    "avgs"
   ]
  },
  {
   "cell_type": "code",
   "execution_count": 43,
   "id": "19bc51cb",
   "metadata": {},
   "outputs": [
    {
     "data": {
      "image/png": "[encoded data removed]",
      "text/plain": [
       "<Figure size 432x288 with 1 Axes>"
      ]
     },
     "metadata": {
      "needs_background": "light"
     },
     "output_type": "display_data"
    }
   ],
   "source": [
    "# the plot tells us that one component has relatively small flow values between 20 and 60 \n",
    "\n",
    "import matplotlib.pyplot as plt\n",
    "\n",
    "_ = plt.scatter(concrete[[\"FLOW(cm)\"]], \n",
    "                avgs[[\"FLOW(cm)\"]].values[concrete.component],\n",
    "                alpha=0.5) #semi transparent \n",
    "_ = plt.xlabel(\"Actual flow\") # picks out average flow \n",
    "_ = plt.ylabel(\"Component average flow\")\n",
    "_ = plt.show()"
   ]
  },
  {
   "cell_type": "code",
   "execution_count": 47,
   "id": "490e65f7",
   "metadata": {},
   "outputs": [
    {
     "name": "stderr",
     "output_type": "stream",
     "text": [
      "/Users/jennyskytta/opt/anaconda3/lib/python3.9/site-packages/numpy/core/fromnumeric.py:3438: FutureWarning: In a future version, DataFrame.mean(axis=None) will return a scalar mean over the entire DataFrame. To retain the old behavior, use 'frame.mean(axis=0)' or just 'frame.mean()'\n",
      "  return mean(axis=axis, dtype=dtype, out=out, **kwargs)\n"
     ]
    },
    {
     "data": {
      "text/plain": [
       "FLOW(cm)    16.247477\n",
       "dtype: float64"
      ]
     },
     "execution_count": 47,
     "metadata": {},
     "output_type": "execute_result"
    }
   ],
   "source": [
    "# how well do we describe this?  lets get our RMSE \n",
    "# root mean squared error \n",
    "# distance from predicted and actual and calculating error average \n",
    "# if values are between 42 and 48, its a large error \n",
    "\n",
    "import numpy as np\n",
    "\n",
    "rmse = np.sqrt(np.mean((concrete[[\"FLOW(cm)\"]] - avgs[[\"FLOW(cm)\"]].values[concrete.component])**2))\n",
    "rmse"
   ]
  }
 ],
 "metadata": {
  "kernelspec": {
   "display_name": "Python 3 (ipykernel)",
   "language": "python",
   "name": "python3"
  },
  "language_info": {
   "codemirror_mode": {
    "name": "ipython",
    "version": 3
   },
   "file_extension": ".py",
   "mimetype": "text/x-python",
   "name": "python",
   "nbconvert_exporter": "python",
   "pygments_lexer": "ipython3",
   "version": "3.9.12"
  }
 },
 "nbformat": 4,
 "nbformat_minor": 5
}
