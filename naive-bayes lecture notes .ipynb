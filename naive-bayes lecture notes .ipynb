{
 "cells": [
  {
   "cell_type": "code",
   "execution_count": 2,
   "id": "9b7b230a",
   "metadata": {},
   "outputs": [],
   "source": [
    "#import library\n",
    "import pandas as pd\n",
    "import numpy as np\n",
    "import matplotlib.pyplot as plt\n",
    "import seaborn as sns\n",
    "%matplotlib inline"
   ]
  },
  {
   "cell_type": "code",
   "execution_count": 8,
   "id": "794d017f",
   "metadata": {},
   "outputs": [
    {
     "data": {
      "text/html": [
       "<div>\n",
       "<style scoped>\n",
       "    .dataframe tbody tr th:only-of-type {\n",
       "        vertical-align: middle;\n",
       "    }\n",
       "\n",
       "    .dataframe tbody tr th {\n",
       "        vertical-align: top;\n",
       "    }\n",
       "\n",
       "    .dataframe thead th {\n",
       "        text-align: right;\n",
       "    }\n",
       "</style>\n",
       "<table border=\"1\" class=\"dataframe\">\n",
       "  <thead>\n",
       "    <tr style=\"text-align: right;\">\n",
       "      <th></th>\n",
       "      <th>party</th>\n",
       "      <th>yea1</th>\n",
       "      <th>yea2</th>\n",
       "      <th>yea3</th>\n",
       "      <th>yea4</th>\n",
       "      <th>yea5</th>\n",
       "      <th>yea6</th>\n",
       "      <th>yea7</th>\n",
       "      <th>yea8</th>\n",
       "      <th>yea9</th>\n",
       "      <th>yea10</th>\n",
       "      <th>yea11</th>\n",
       "      <th>yea12</th>\n",
       "      <th>yea13</th>\n",
       "      <th>yea14</th>\n",
       "      <th>yea15</th>\n",
       "      <th>yea16</th>\n",
       "    </tr>\n",
       "  </thead>\n",
       "  <tbody>\n",
       "    <tr>\n",
       "      <th>91</th>\n",
       "      <td>democrat</td>\n",
       "      <td>1</td>\n",
       "      <td>0</td>\n",
       "      <td>1</td>\n",
       "      <td>0</td>\n",
       "      <td>0</td>\n",
       "      <td>0</td>\n",
       "      <td>1</td>\n",
       "      <td>1</td>\n",
       "      <td>1</td>\n",
       "      <td>1</td>\n",
       "      <td>1</td>\n",
       "      <td>0</td>\n",
       "      <td>0</td>\n",
       "      <td>0</td>\n",
       "      <td>1</td>\n",
       "      <td>1</td>\n",
       "    </tr>\n",
       "    <tr>\n",
       "      <th>179</th>\n",
       "      <td>democrat</td>\n",
       "      <td>1</td>\n",
       "      <td>0</td>\n",
       "      <td>1</td>\n",
       "      <td>0</td>\n",
       "      <td>0</td>\n",
       "      <td>0</td>\n",
       "      <td>1</td>\n",
       "      <td>1</td>\n",
       "      <td>1</td>\n",
       "      <td>1</td>\n",
       "      <td>0</td>\n",
       "      <td>0</td>\n",
       "      <td>0</td>\n",
       "      <td>0</td>\n",
       "      <td>1</td>\n",
       "      <td>1</td>\n",
       "    </tr>\n",
       "    <tr>\n",
       "      <th>385</th>\n",
       "      <td>democrat</td>\n",
       "      <td>1</td>\n",
       "      <td>1</td>\n",
       "      <td>0</td>\n",
       "      <td>0</td>\n",
       "      <td>1</td>\n",
       "      <td>1</td>\n",
       "      <td>0</td>\n",
       "      <td>0</td>\n",
       "      <td>0</td>\n",
       "      <td>0</td>\n",
       "      <td>1</td>\n",
       "      <td>1</td>\n",
       "      <td>1</td>\n",
       "      <td>1</td>\n",
       "      <td>1</td>\n",
       "      <td>0</td>\n",
       "    </tr>\n",
       "    <tr>\n",
       "      <th>194</th>\n",
       "      <td>democrat</td>\n",
       "      <td>0</td>\n",
       "      <td>0</td>\n",
       "      <td>1</td>\n",
       "      <td>0</td>\n",
       "      <td>0</td>\n",
       "      <td>1</td>\n",
       "      <td>1</td>\n",
       "      <td>0</td>\n",
       "      <td>1</td>\n",
       "      <td>1</td>\n",
       "      <td>1</td>\n",
       "      <td>0</td>\n",
       "      <td>0</td>\n",
       "      <td>0</td>\n",
       "      <td>1</td>\n",
       "      <td>1</td>\n",
       "    </tr>\n",
       "    <tr>\n",
       "      <th>59</th>\n",
       "      <td>republican</td>\n",
       "      <td>0</td>\n",
       "      <td>1</td>\n",
       "      <td>0</td>\n",
       "      <td>1</td>\n",
       "      <td>1</td>\n",
       "      <td>1</td>\n",
       "      <td>0</td>\n",
       "      <td>0</td>\n",
       "      <td>0</td>\n",
       "      <td>1</td>\n",
       "      <td>0</td>\n",
       "      <td>1</td>\n",
       "      <td>1</td>\n",
       "      <td>1</td>\n",
       "      <td>0</td>\n",
       "      <td>0</td>\n",
       "    </tr>\n",
       "  </tbody>\n",
       "</table>\n",
       "</div>"
      ],
      "text/plain": [
       "          party  yea1  yea2  yea3  yea4  yea5  yea6  yea7  yea8  yea9  yea10  \\\n",
       "91     democrat     1     0     1     0     0     0     1     1     1      1   \n",
       "179    democrat     1     0     1     0     0     0     1     1     1      1   \n",
       "385    democrat     1     1     0     0     1     1     0     0     0      0   \n",
       "194    democrat     0     0     1     0     0     1     1     0     1      1   \n",
       "59   republican     0     1     0     1     1     1     0     0     0      1   \n",
       "\n",
       "     yea11  yea12  yea13  yea14  yea15  yea16  \n",
       "91       1      0      0      0      1      1  \n",
       "179      0      0      0      0      1      1  \n",
       "385      1      1      1      1      1      0  \n",
       "194      1      0      0      0      1      1  \n",
       "59       0      1      1      1      0      0  "
      ]
     },
     "execution_count": 8,
     "metadata": {},
     "output_type": "execute_result"
    }
   ],
   "source": [
    "hv = pd.read_csv('/Users/jennyskytta/Desktop/hv.csv', sep=\"\\t\")\n",
    "hv.sample(5) # look at sample of our data "
   ]
  },
  {
   "cell_type": "markdown",
   "id": "433c5714",
   "metadata": {},
   "source": [
    "They tell how someone voted and we tell whether they were Rep or Dem - we must calculate probabiity that someone is a dem or republican.  We look at cases where votes are all the same and then use the probabilities of which ones differ by party to calculate.   \n",
    "\n",
    "We figure out the conditional probability which is 2/3 \n",
    "and the unconditional probabiilty is 50/50 \n",
    "and probability of vote given X\n",
    "\n",
    "Party      Votes\n",
    "    D    Y\n",
    "    R    Y\n",
    "    D    Y\n",
    "    R    N\n"
   ]
  },
  {
   "cell_type": "code",
   "execution_count": 15,
   "id": "f23c9936",
   "metadata": {},
   "outputs": [
    {
     "data": {
      "text/plain": [
       "0.6137931034482759"
      ]
     },
     "execution_count": 15,
     "metadata": {},
     "output_type": "execute_result"
    }
   ],
   "source": [
    "pD = np.mean(hv.party == \"democrat\")\n",
    "pD "
   ]
  },
  {
   "cell_type": "code",
   "execution_count": 17,
   "id": "fc0aec37",
   "metadata": {},
   "outputs": [
    {
     "data": {
      "text/plain": [
       "0.4298850574712644"
      ]
     },
     "execution_count": 17,
     "metadata": {},
     "output_type": "execute_result"
    }
   ],
   "source": [
    "pV1y = np.mean(hv.yea1 == 1)\n",
    "pV1y"
   ]
  },
  {
   "cell_type": "code",
   "execution_count": 18,
   "id": "1c191ae0",
   "metadata": {},
   "outputs": [
    {
     "data": {
      "text/plain": [
       "0.5842696629213483"
      ]
     },
     "execution_count": 18,
     "metadata": {},
     "output_type": "execute_result"
    }
   ],
   "source": [
    "pV1y_D = np.mean(hv.yea1[hv.party == \"democrat\"] == 1)\n",
    "pV1y_D"
   ]
  },
  {
   "cell_type": "code",
   "execution_count": 19,
   "id": "8706f7ea",
   "metadata": {},
   "outputs": [
    {
     "data": {
      "text/plain": [
       "0.8342245989304813"
      ]
     },
     "execution_count": 19,
     "metadata": {},
     "output_type": "execute_result"
    }
   ],
   "source": [
    "pD_V1y = pV1y_D * pD / pV1y\n",
    "pD_V1y   # if the person voted yes, its 84 % likely that they were Democrat "
   ]
  },
  {
   "cell_type": "code",
   "execution_count": 20,
   "id": "b0393014",
   "metadata": {},
   "outputs": [
    {
     "data": {
      "text/plain": [
       "0.38620689655172413"
      ]
     },
     "execution_count": 20,
     "metadata": {},
     "output_type": "execute_result"
    }
   ],
   "source": [
    "pR = np.mean(hv.party == \"republican\")\n",
    "pR  # posterior probability that they are republican is 38%"
   ]
  },
  {
   "cell_type": "code",
   "execution_count": 21,
   "id": "04517dd4",
   "metadata": {},
   "outputs": [
    {
     "data": {
      "text/plain": [
       "0.5701149425287356"
      ]
     },
     "execution_count": 21,
     "metadata": {},
     "output_type": "execute_result"
    }
   ],
   "source": [
    "pV1n = np.mean(hv.yea1 == 0)\n",
    "pV1n"
   ]
  },
  {
   "cell_type": "code",
   "execution_count": 22,
   "id": "7d10c108",
   "metadata": {},
   "outputs": [
    {
     "data": {
      "text/plain": [
       "0.8154761904761905"
      ]
     },
     "execution_count": 22,
     "metadata": {},
     "output_type": "execute_result"
    }
   ],
   "source": [
    "pV1n_R = np.mean(hv.yea1[hv.party == \"republican\"] == 0)\n",
    "pV1n_R"
   ]
  },
  {
   "cell_type": "code",
   "execution_count": 23,
   "id": "c1faf436",
   "metadata": {},
   "outputs": [
    {
     "data": {
      "text/plain": [
       "0.5524193548387096"
      ]
     },
     "execution_count": 23,
     "metadata": {},
     "output_type": "execute_result"
    }
   ],
   "source": [
    "pV1n_R * pR / pV1n"
   ]
  },
  {
   "cell_type": "markdown",
   "id": "77c17113",
   "metadata": {},
   "source": [
    "example: Compute probability of spam given two words: \n",
    "2 raised to power of 10,000 if we assumed 10,000 words \n",
    "\n",
    "- Prob(V1 = Y, v2 = Y| dem) \n",
    "\n",
    "probability that they voted yes the 1st time, yes the second time, given that they are a democrat \n",
    "\n",
    "- 2 ^ K(K=votes)\n",
    "- 2 ^ 10,000 -> 20,000k probs\n",
    "\n",
    "    "
   ]
  },
  {
   "cell_type": "markdown",
   "id": "ebeaa324",
   "metadata": {},
   "source": [
    "## Code example"
   ]
  },
  {
   "cell_type": "markdown",
   "id": "406cd029",
   "metadata": {},
   "source": [
    "P(D|V1, V2) = P(V1, V2 | D) * P(D)\n",
    "-              P(V1, V2\n",
    "\n",
    "P(V1 | D) * P(V2 | D) * P(D)"
   ]
  },
  {
   "cell_type": "code",
   "execution_count": 25,
   "id": "4df1ab88",
   "metadata": {},
   "outputs": [],
   "source": [
    "from sklearn.naive_bayes import BernoulliNB\n",
    "m = BernoulliNB()"
   ]
  },
  {
   "cell_type": "code",
   "execution_count": 26,
   "id": "4f49e349",
   "metadata": {},
   "outputs": [
    {
     "data": {
      "text/plain": [
       "(435, 16)"
      ]
     },
     "execution_count": 26,
     "metadata": {},
     "output_type": "execute_result"
    }
   ],
   "source": [
    "y = hv.party\n",
    "X = hv.drop(\"party\", axis=1)\n",
    "X.shape"
   ]
  },
  {
   "cell_type": "code",
   "execution_count": 28,
   "id": "6158eb55",
   "metadata": {},
   "outputs": [
    {
     "data": {
      "text/plain": [
       "0.896551724137931"
      ]
     },
     "execution_count": 28,
     "metadata": {},
     "output_type": "execute_result"
    }
   ],
   "source": [
    "m.fit(X, y)\n",
    "yhat = m.predict(X) # training data - this works the same as linear regression with test / training split \n",
    "np.mean(yhat == y) # this was lazy method"
   ]
  },
  {
   "cell_type": "code",
   "execution_count": 29,
   "id": "8fe44c12",
   "metadata": {},
   "outputs": [
    {
     "data": {
      "text/plain": [
       "0.908256880733945"
      ]
     },
     "execution_count": 29,
     "metadata": {},
     "output_type": "execute_result"
    }
   ],
   "source": [
    "from sklearn.model_selection import train_test_split, cross_val_score\n",
    "\n",
    "Xt, Xv, yt, yv = train_test_split(X, y)\n",
    "m.fit(Xt, yt)\n",
    "m.score(Xv, yv)"
   ]
  },
  {
   "cell_type": "code",
   "execution_count": 31,
   "id": "f3cd1a69",
   "metadata": {},
   "outputs": [
    {
     "data": {
      "text/plain": [
       "0.8965116279069767"
      ]
     },
     "execution_count": 31,
     "metadata": {},
     "output_type": "execute_result"
    }
   ],
   "source": [
    "cross_val_score(m, X, y, cv=10).mean()"
   ]
  },
  {
   "cell_type": "markdown",
   "id": "6d917ce3",
   "metadata": {},
   "source": [
    "Document term matrices for Spam are a tool for calculation "
   ]
  },
  {
   "cell_type": "code",
   "execution_count": 33,
   "id": "1807cecc",
   "metadata": {},
   "outputs": [
    {
     "data": {
      "text/html": [
       "<div>\n",
       "<style scoped>\n",
       "    .dataframe tbody tr th:only-of-type {\n",
       "        vertical-align: middle;\n",
       "    }\n",
       "\n",
       "    .dataframe tbody tr th {\n",
       "        vertical-align: top;\n",
       "    }\n",
       "\n",
       "    .dataframe thead th {\n",
       "        text-align: right;\n",
       "    }\n",
       "</style>\n",
       "<table border=\"1\" class=\"dataframe\">\n",
       "  <thead>\n",
       "    <tr style=\"text-align: right;\">\n",
       "      <th></th>\n",
       "      <th>spam</th>\n",
       "      <th>files</th>\n",
       "      <th>message</th>\n",
       "    </tr>\n",
       "  </thead>\n",
       "  <tbody>\n",
       "    <tr>\n",
       "      <th>1967</th>\n",
       "      <td>False</td>\n",
       "      <td>9-1680msg2.txt</td>\n",
       "      <td>Subject: metaphor / artificial intelligence an...</td>\n",
       "    </tr>\n",
       "    <tr>\n",
       "      <th>224</th>\n",
       "      <td>False</td>\n",
       "      <td>5-1285msg3.txt</td>\n",
       "      <td>Subject: language evolution context  &gt; from : ...</td>\n",
       "    </tr>\n",
       "    <tr>\n",
       "      <th>1585</th>\n",
       "      <td>False</td>\n",
       "      <td>9-1112msg1.txt</td>\n",
       "      <td>Subject: sociolinguistics &amp; anthropological li...</td>\n",
       "    </tr>\n",
       "    <tr>\n",
       "      <th>2669</th>\n",
       "      <td>False</td>\n",
       "      <td>9-22msg1.txt</td>\n",
       "      <td>Subject: new book - theorizing language  theor...</td>\n",
       "    </tr>\n",
       "    <tr>\n",
       "      <th>2388</th>\n",
       "      <td>False</td>\n",
       "      <td>6-897msg1.txt</td>\n",
       "      <td>Subject: nonreferential np 's in english  in a...</td>\n",
       "    </tr>\n",
       "    <tr>\n",
       "      <th>2148</th>\n",
       "      <td>False</td>\n",
       "      <td>9-1774msg1.txt</td>\n",
       "      <td>Subject: chicago linguistic society  announcin...</td>\n",
       "    </tr>\n",
       "    <tr>\n",
       "      <th>1083</th>\n",
       "      <td>False</td>\n",
       "      <td>6-209msg3.txt</td>\n",
       "      <td>Subject: re : 6 . 191 words that are their own...</td>\n",
       "    </tr>\n",
       "    <tr>\n",
       "      <th>1452</th>\n",
       "      <td>False</td>\n",
       "      <td>8-1214msg2.txt</td>\n",
       "      <td>Subject: conference announcement  conference a...</td>\n",
       "    </tr>\n",
       "    <tr>\n",
       "      <th>65</th>\n",
       "      <td>False</td>\n",
       "      <td>3-413msg3.txt</td>\n",
       "      <td>Subject: 3 . 404 chomsky citations  &gt; date : w...</td>\n",
       "    </tr>\n",
       "    <tr>\n",
       "      <th>1741</th>\n",
       "      <td>False</td>\n",
       "      <td>9-1266msg2.txt</td>\n",
       "      <td>Subject: pragma99  2nd call for papers pragma9...</td>\n",
       "    </tr>\n",
       "  </tbody>\n",
       "</table>\n",
       "</div>"
      ],
      "text/plain": [
       "       spam           files                                            message\n",
       "1967  False  9-1680msg2.txt  Subject: metaphor / artificial intelligence an...\n",
       "224   False  5-1285msg3.txt  Subject: language evolution context  > from : ...\n",
       "1585  False  9-1112msg1.txt  Subject: sociolinguistics & anthropological li...\n",
       "2669  False    9-22msg1.txt  Subject: new book - theorizing language  theor...\n",
       "2388  False   6-897msg1.txt  Subject: nonreferential np 's in english  in a...\n",
       "2148  False  9-1774msg1.txt  Subject: chicago linguistic society  announcin...\n",
       "1083  False   6-209msg3.txt  Subject: re : 6 . 191 words that are their own...\n",
       "1452  False  8-1214msg2.txt  Subject: conference announcement  conference a...\n",
       "65    False   3-413msg3.txt  Subject: 3 . 404 chomsky citations  > date : w...\n",
       "1741  False  9-1266msg2.txt  Subject: pragma99  2nd call for papers pragma9..."
      ]
     },
     "execution_count": 33,
     "metadata": {},
     "output_type": "execute_result"
    }
   ],
   "source": [
    "emails = pd.read_csv('/Users/jennyskytta/Desktop/emails.csv', sep=\"\\t\")\n",
    "emails.sample(10)"
   ]
  },
  {
   "cell_type": "code",
   "execution_count": 35,
   "id": "106809a3",
   "metadata": {},
   "outputs": [
    {
     "data": {
      "text/plain": [
       "0.16626339440027654"
      ]
     },
     "execution_count": 35,
     "metadata": {},
     "output_type": "execute_result"
    }
   ],
   "source": [
    "y = emails.spam\n",
    "y.mean() # we see that 16% of emails are spam"
   ]
  },
  {
   "cell_type": "code",
   "execution_count": 95,
   "id": "f14c0b3e",
   "metadata": {},
   "outputs": [
    {
     "data": {
      "text/plain": [
       "(2893, 60618)"
      ]
     },
     "execution_count": 95,
     "metadata": {},
     "output_type": "execute_result"
    }
   ],
   "source": [
    "# We will now create the DTM Document texturizer Matrix \n",
    "from sklearn.feature_extraction.text import CountVectorizer \n",
    "vectorizer = CountVectorizer(stop_words='english')\n",
    "X = vectorizer.fit_transform(emails.message)\n",
    "X.shape   # we have 2893 emails and 60618 words "
   ]
  },
  {
   "cell_type": "code",
   "execution_count": 94,
   "id": "f64b6545",
   "metadata": {},
   "outputs": [
    {
     "data": {
      "text/plain": [
       "array(['perform', 'rebuschi', 'typologisch', 'gdr', 'cunyforum', 'fava',\n",
       "       'escol', '4625', 'counterexamples', 'pervasiveness', 'pinkfud',\n",
       "       'beregovskaya', 'lingadm', 'norham', 'indy', 'superstocks',\n",
       "       'siekmann', 'deb', 'heima', 'emphasised'], dtype=object)"
      ]
     },
     "execution_count": 94,
     "metadata": {},
     "output_type": "execute_result"
    }
   ],
   "source": [
    "tokens = vectorizer.get_feature_names_out()\n",
    "np.random.choice(tokens, 20)"
   ]
  },
  {
   "cell_type": "code",
   "execution_count": 43,
   "id": "9cb251d3",
   "metadata": {},
   "outputs": [
    {
     "data": {
      "text/plain": [
       "array(['00', '000', '0000', '00001', '00003000140', '00003003958',\n",
       "       '00007', '0001', '00010', '00014'], dtype=object)"
      ]
     },
     "execution_count": 43,
     "metadata": {},
     "output_type": "execute_result"
    }
   ],
   "source": [
    "tokens[:10]"
   ]
  },
  {
   "cell_type": "code",
   "execution_count": 44,
   "id": "1460536e",
   "metadata": {},
   "outputs": [
    {
     "data": {
      "text/plain": [
       "<10x10 sparse matrix of type '<class 'numpy.int64'>'\n",
       "\twith 2 stored elements in Compressed Sparse Row format>"
      ]
     },
     "execution_count": 44,
     "metadata": {},
     "output_type": "execute_result"
    }
   ],
   "source": [
    "X[:10, :10]"
   ]
  },
  {
   "cell_type": "code",
   "execution_count": 49,
   "id": "731ebd7f",
   "metadata": {},
   "outputs": [
    {
     "data": {
      "text/html": [
       "<div>\n",
       "<style scoped>\n",
       "    .dataframe tbody tr th:only-of-type {\n",
       "        vertical-align: middle;\n",
       "    }\n",
       "\n",
       "    .dataframe tbody tr th {\n",
       "        vertical-align: top;\n",
       "    }\n",
       "\n",
       "    .dataframe thead th {\n",
       "        text-align: right;\n",
       "    }\n",
       "</style>\n",
       "<table border=\"1\" class=\"dataframe\">\n",
       "  <thead>\n",
       "    <tr style=\"text-align: right;\">\n",
       "      <th></th>\n",
       "      <th>koopman</th>\n",
       "      <th>aritcles</th>\n",
       "      <th>cinder</th>\n",
       "      <th>scientifico</th>\n",
       "      <th>beleg</th>\n",
       "      <th>november1998</th>\n",
       "      <th>sopi</th>\n",
       "      <th>incongruous</th>\n",
       "    </tr>\n",
       "  </thead>\n",
       "  <tbody>\n",
       "    <tr>\n",
       "      <th>0</th>\n",
       "      <td>0</td>\n",
       "      <td>0</td>\n",
       "      <td>0</td>\n",
       "      <td>0</td>\n",
       "      <td>0</td>\n",
       "      <td>0</td>\n",
       "      <td>0</td>\n",
       "      <td>0</td>\n",
       "    </tr>\n",
       "    <tr>\n",
       "      <th>1</th>\n",
       "      <td>0</td>\n",
       "      <td>0</td>\n",
       "      <td>0</td>\n",
       "      <td>0</td>\n",
       "      <td>0</td>\n",
       "      <td>0</td>\n",
       "      <td>0</td>\n",
       "      <td>0</td>\n",
       "    </tr>\n",
       "    <tr>\n",
       "      <th>2</th>\n",
       "      <td>0</td>\n",
       "      <td>0</td>\n",
       "      <td>0</td>\n",
       "      <td>0</td>\n",
       "      <td>0</td>\n",
       "      <td>0</td>\n",
       "      <td>0</td>\n",
       "      <td>0</td>\n",
       "    </tr>\n",
       "    <tr>\n",
       "      <th>3</th>\n",
       "      <td>0</td>\n",
       "      <td>0</td>\n",
       "      <td>0</td>\n",
       "      <td>0</td>\n",
       "      <td>0</td>\n",
       "      <td>0</td>\n",
       "      <td>0</td>\n",
       "      <td>0</td>\n",
       "    </tr>\n",
       "    <tr>\n",
       "      <th>4</th>\n",
       "      <td>0</td>\n",
       "      <td>0</td>\n",
       "      <td>0</td>\n",
       "      <td>0</td>\n",
       "      <td>0</td>\n",
       "      <td>0</td>\n",
       "      <td>0</td>\n",
       "      <td>0</td>\n",
       "    </tr>\n",
       "    <tr>\n",
       "      <th>5</th>\n",
       "      <td>0</td>\n",
       "      <td>0</td>\n",
       "      <td>0</td>\n",
       "      <td>0</td>\n",
       "      <td>0</td>\n",
       "      <td>0</td>\n",
       "      <td>0</td>\n",
       "      <td>0</td>\n",
       "    </tr>\n",
       "    <tr>\n",
       "      <th>6</th>\n",
       "      <td>0</td>\n",
       "      <td>0</td>\n",
       "      <td>0</td>\n",
       "      <td>0</td>\n",
       "      <td>0</td>\n",
       "      <td>0</td>\n",
       "      <td>0</td>\n",
       "      <td>0</td>\n",
       "    </tr>\n",
       "    <tr>\n",
       "      <th>7</th>\n",
       "      <td>0</td>\n",
       "      <td>0</td>\n",
       "      <td>0</td>\n",
       "      <td>0</td>\n",
       "      <td>0</td>\n",
       "      <td>0</td>\n",
       "      <td>0</td>\n",
       "      <td>0</td>\n",
       "    </tr>\n",
       "    <tr>\n",
       "      <th>8</th>\n",
       "      <td>0</td>\n",
       "      <td>0</td>\n",
       "      <td>0</td>\n",
       "      <td>0</td>\n",
       "      <td>0</td>\n",
       "      <td>0</td>\n",
       "      <td>0</td>\n",
       "      <td>0</td>\n",
       "    </tr>\n",
       "    <tr>\n",
       "      <th>9</th>\n",
       "      <td>0</td>\n",
       "      <td>0</td>\n",
       "      <td>0</td>\n",
       "      <td>0</td>\n",
       "      <td>0</td>\n",
       "      <td>0</td>\n",
       "      <td>0</td>\n",
       "      <td>0</td>\n",
       "    </tr>\n",
       "  </tbody>\n",
       "</table>\n",
       "</div>"
      ],
      "text/plain": [
       "   koopman  aritcles  cinder  scientifico  beleg  november1998  sopi  \\\n",
       "0        0         0       0            0      0             0     0   \n",
       "1        0         0       0            0      0             0     0   \n",
       "2        0         0       0            0      0             0     0   \n",
       "3        0         0       0            0      0             0     0   \n",
       "4        0         0       0            0      0             0     0   \n",
       "5        0         0       0            0      0             0     0   \n",
       "6        0         0       0            0      0             0     0   \n",
       "7        0         0       0            0      0             0     0   \n",
       "8        0         0       0            0      0             0     0   \n",
       "9        0         0       0            0      0             0     0   \n",
       "\n",
       "   incongruous  \n",
       "0            0  \n",
       "1            0  \n",
       "2            0  \n",
       "3            0  \n",
       "4            0  \n",
       "5            0  \n",
       "6            0  \n",
       "7            0  \n",
       "8            0  \n",
       "9            0  "
      ]
     },
     "execution_count": 49,
     "metadata": {},
     "output_type": "execute_result"
    }
   ],
   "source": [
    "j = np.random.choice(X.shape[1], 8)\n",
    "pd.DataFrame(X[:10,j].toarray(), columns=np.array(tokens)[j])\n",
    "# each row represents an email and the 0 is how many times the word appears in that email "
   ]
  },
  {
   "cell_type": "code",
   "execution_count": 79,
   "id": "396e13dc",
   "metadata": {},
   "outputs": [],
   "source": [
    "# we are now looking at counts so Bernouli isn't the best choice because its beyond 1 options.  \n",
    "# we should use multinomial \n",
    "\n",
    "# Gaussian is for Continuous \n",
    "\n",
    "from sklearn.naive_bayes import MultinomialNB  # is for counts \n",
    "\n",
    "m = MultinomialNB()"
   ]
  },
  {
   "cell_type": "code",
   "execution_count": 80,
   "id": "247aa556",
   "metadata": {},
   "outputs": [
    {
     "data": {
      "text/plain": [
       "0.988950276243094"
      ]
     },
     "execution_count": 80,
     "metadata": {},
     "output_type": "execute_result"
    }
   ],
   "source": [
    "from sklearn.model_selection import train_test_split, cross_val_score\n",
    "\n",
    "Xt, Xv, yt, yv = train_test_split(X, y)\n",
    "m.fit(Xt, yt)\n",
    "m.score(Xv, yv)"
   ]
  },
  {
   "cell_type": "markdown",
   "id": "d08c6b27",
   "metadata": {},
   "source": [
    "## Smoothing\n",
    "\n",
    "- Prob(winning) = Number time Winning / Number of time Playing \n",
    "- Prob(alpha)(Winning) = Number time Winning + 1 / Number of time Playing + 10\n",
    "- e.g. (1+1 / 1+10) = 2 / 11\n",
    "- we need our alpha "
   ]
  },
  {
   "cell_type": "code",
   "execution_count": 83,
   "id": "458eb0f4",
   "metadata": {},
   "outputs": [
    {
     "name": "stderr",
     "output_type": "stream",
     "text": [
      "/Users/jennyskytta/opt/anaconda3/lib/python3.9/site-packages/sklearn/naive_bayes.py:555: UserWarning: alpha too small will result in numeric errors, setting alpha = 1.0e-10\n",
      "  warnings.warn(\n"
     ]
    },
    {
     "data": {
      "text/plain": [
       "0.988950276243094"
      ]
     },
     "execution_count": 83,
     "metadata": {},
     "output_type": "execute_result"
    }
   ],
   "source": [
    "m = MultinomialNB(alpha=0)  # smoothing with alpha of 0\n",
    "m.fit(Xt, yt)\n",
    "m.score(Xv, yv)  # the warning tells us that 0 is too low and typically its less than 1"
   ]
  },
  {
   "cell_type": "code",
   "execution_count": 85,
   "id": "4d4cf03b",
   "metadata": {},
   "outputs": [
    {
     "data": {
      "text/plain": [
       "0.988950276243094"
      ]
     },
     "execution_count": 85,
     "metadata": {},
     "output_type": "execute_result"
    }
   ],
   "source": [
    "m = MultinomialNB(alpha=1)  # smoothing with alpha of 0\n",
    "m.fit(Xt, yt)\n",
    "m.score(Xv, yv)  # the warning tells us that 0 is too low and typically its less than 1"
   ]
  },
  {
   "cell_type": "code",
   "execution_count": 84,
   "id": "2d2a9f1c",
   "metadata": {},
   "outputs": [
    {
     "data": {
      "text/plain": [
       "0.988950276243094"
      ]
     },
     "execution_count": 84,
     "metadata": {},
     "output_type": "execute_result"
    }
   ],
   "source": [
    "m = MultinomialNB(alpha=0.5)  # smoothing with alpha of 0\n",
    "m.fit(Xt, yt)\n",
    "m.score(Xv, yv)  # the warning tells us that 0 is too low and typically its less than 1"
   ]
  },
  {
   "cell_type": "code",
   "execution_count": 87,
   "id": "80fd94f9",
   "metadata": {},
   "outputs": [
    {
     "name": "stdout",
     "output_type": "stream",
     "text": [
      "0.988950276243094\n"
     ]
    },
    {
     "data": {
      "text/plain": [
       "array([[620,   8],\n",
       "       [  0,  96]])"
      ]
     },
     "execution_count": 87,
     "metadata": {},
     "output_type": "execute_result"
    }
   ],
   "source": [
    "# confusion matrix there to see what we have\n",
    "\n",
    "from sklearn.metrics import confusion_matrix\n",
    "\n",
    "m = MultinomialNB(alpha=1)\n",
    "m.fit(Xt, yt)\n",
    "yhat = m.predict(Xv)\n",
    "print(m.score(Xv, yv))\n",
    "confusion_matrix(yv, yhat)"
   ]
  },
  {
   "cell_type": "code",
   "execution_count": 90,
   "id": "ded102b8",
   "metadata": {},
   "outputs": [
    {
     "data": {
      "text/plain": [
       "array([1.00000000e-08, 4.39397056e-08, 1.93069773e-07, 8.48342898e-07,\n",
       "       3.72759372e-06, 1.63789371e-05, 7.19685673e-05, 3.16227766e-04,\n",
       "       1.38949549e-03, 6.10540230e-03, 2.68269580e-02, 1.17876863e-01,\n",
       "       5.17947468e-01, 2.27584593e+00, 1.00000000e+01])"
      ]
     },
     "execution_count": 90,
     "metadata": {},
     "output_type": "execute_result"
    }
   ],
   "source": [
    "# we can make a loop over different alphas to decide which one is best \n",
    "\n",
    "alphas = 10**np.linspace(-8,1,15)\n",
    "alphas"
   ]
  },
  {
   "cell_type": "code",
   "execution_count": 92,
   "id": "5f8945f3",
   "metadata": {},
   "outputs": [
    {
     "data": {
      "image/png": "[encoded data removed]",
      "text/plain": [
       "<Figure size 432x288 with 1 Axes>"
      ]
     },
     "metadata": {
      "needs_background": "light"
     },
     "output_type": "display_data"
    }
   ],
   "source": [
    "import matplotlib.pyplot as plt\n",
    "\n",
    "alphas = 10**np.linspace(-8,1,15)\n",
    "scores = []\n",
    "for alpha in alphas:\n",
    "    m = MultinomialNB(alpha=alpha)\n",
    "    m.fit(Xt, yt)\n",
    "    scores.append(m.score(Xv, yv))\n",
    "    \n",
    "plt.plot(alphas, scores, marker=\"o\")\n",
    "plt.xscale(\"log\")"
   ]
  }
 ],
 "metadata": {
  "kernelspec": {
   "display_name": "Python 3 (ipykernel)",
   "language": "python",
   "name": "python3"
  },
  "language_info": {
   "codemirror_mode": {
    "name": "ipython",
    "version": 3
   },
   "file_extension": ".py",
   "mimetype": "text/x-python",
   "name": "python",
   "nbconvert_exporter": "python",
   "pygments_lexer": "ipython3",
   "version": "3.9.12"
  }
 },
 "nbformat": 4,
 "nbformat_minor": 5
}
