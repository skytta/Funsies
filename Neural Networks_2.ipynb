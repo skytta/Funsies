{
 "cells": [
  {
   "cell_type": "code",
   "execution_count": 26,
   "id": "cd111d4e",
   "metadata": {},
   "outputs": [],
   "source": [
    "#import library\n",
    "import pandas as pd\n",
    "import numpy as np\n",
    "import matplotlib.pyplot as plt\n",
    "import seaborn as sns\n",
    "%matplotlib inline\n",
    "from tensorflow.keras.models import Sequential\n",
    "from tensorflow.keras.layers import Dense\n",
    "from tensorflow.keras.wrappers.scikit_learn import KerasClassifier\n",
    "import itertools\n",
    "from sklearn.neural_network import MLPRegressor\n",
    "import warnings\n",
    "warnings.filterwarnings('ignore')"
   ]
  },
  {
   "cell_type": "markdown",
   "id": "ee68a15c",
   "metadata": {},
   "source": [
    "## Neural Networks\n",
    "\n",
    "- Loading data as txt - renamed the neuralware file to upload"
   ]
  },
  {
   "cell_type": "code",
   "execution_count": 9,
   "id": "aba67f37",
   "metadata": {},
   "outputs": [
    {
     "data": {
      "text/plain": [
       "(1941, 34)"
      ]
     },
     "execution_count": 9,
     "metadata": {},
     "output_type": "execute_result"
    }
   ],
   "source": [
    "Faults = pd.read_table('/Users/jennyskytta/Downloads/Faults.txt', header=None, names = [\"X_Minimum\", \"X_Maximum\", \"Y_Minimum\", \"Y_Maximum\", \"Pixels_Areas\", \"X_Perimeter\", \"Y_Perimeter\", \"Sum_of_Luminosity\", \"Minimum_of_Luminosity\", \"Maximum_of_Luminosity\", \"Length_of_Conveyer\", \"TypeOfSteel_A300\", \"TypeOfSteel_A400\", \"Steel_Plate_Thickness\", \"Edges_Index\", \"Empty_Index\", \"Square_Index\", \"Outside_X_Index\", \"Edges_X_Index\", \"Edges_Y_Index\", \"Outside_Global_Index\", \"LogOfAreas\", \"Log_X_Index\", \"Log_Y_Index\", \"Orientation_Index\", \"Luminosity_Index\", \"SigmoidOfAreas\", \"Pastry\", \"Z_Scratch\", \"K_Scratch\", \"Stains\", \"Dirtiness\", \"Bumps\", \"Other_Faults\"])\n",
    "Faults.shape"
   ]
  },
  {
   "cell_type": "code",
   "execution_count": 10,
   "id": "9ee839a5",
   "metadata": {},
   "outputs": [
    {
     "data": {
      "text/plain": [
       "(1941, 32)"
      ]
     },
     "execution_count": 10,
     "metadata": {},
     "output_type": "execute_result"
    }
   ],
   "source": [
    "Faults = Faults.drop(columns=['TypeOfSteel_A400','TypeOfSteel_A300'])\n",
    "Faults.shape"
   ]
  },
  {
   "cell_type": "code",
   "execution_count": 11,
   "id": "ec2041bb",
   "metadata": {},
   "outputs": [
    {
     "data": {
      "text/html": [
       "<div>\n",
       "<style scoped>\n",
       "    .dataframe tbody tr th:only-of-type {\n",
       "        vertical-align: middle;\n",
       "    }\n",
       "\n",
       "    .dataframe tbody tr th {\n",
       "        vertical-align: top;\n",
       "    }\n",
       "\n",
       "    .dataframe thead th {\n",
       "        text-align: right;\n",
       "    }\n",
       "</style>\n",
       "<table border=\"1\" class=\"dataframe\">\n",
       "  <thead>\n",
       "    <tr style=\"text-align: right;\">\n",
       "      <th></th>\n",
       "      <th>X_Minimum</th>\n",
       "      <th>X_Maximum</th>\n",
       "      <th>Y_Minimum</th>\n",
       "      <th>Y_Maximum</th>\n",
       "      <th>Pixels_Areas</th>\n",
       "      <th>X_Perimeter</th>\n",
       "      <th>Y_Perimeter</th>\n",
       "      <th>Sum_of_Luminosity</th>\n",
       "      <th>Minimum_of_Luminosity</th>\n",
       "      <th>Maximum_of_Luminosity</th>\n",
       "      <th>...</th>\n",
       "      <th>Orientation_Index</th>\n",
       "      <th>Luminosity_Index</th>\n",
       "      <th>SigmoidOfAreas</th>\n",
       "      <th>Pastry</th>\n",
       "      <th>Z_Scratch</th>\n",
       "      <th>K_Scratch</th>\n",
       "      <th>Stains</th>\n",
       "      <th>Dirtiness</th>\n",
       "      <th>Bumps</th>\n",
       "      <th>Other_Faults</th>\n",
       "    </tr>\n",
       "  </thead>\n",
       "  <tbody>\n",
       "    <tr>\n",
       "      <th>733</th>\n",
       "      <td>225</td>\n",
       "      <td>346</td>\n",
       "      <td>130372</td>\n",
       "      <td>130421</td>\n",
       "      <td>3228</td>\n",
       "      <td>166</td>\n",
       "      <td>89</td>\n",
       "      <td>260241</td>\n",
       "      <td>38</td>\n",
       "      <td>103</td>\n",
       "      <td>...</td>\n",
       "      <td>-0.5950</td>\n",
       "      <td>-0.3702</td>\n",
       "      <td>1.0000</td>\n",
       "      <td>0</td>\n",
       "      <td>0</td>\n",
       "      <td>1</td>\n",
       "      <td>0</td>\n",
       "      <td>0</td>\n",
       "      <td>0</td>\n",
       "      <td>0</td>\n",
       "    </tr>\n",
       "    <tr>\n",
       "      <th>1694</th>\n",
       "      <td>72</td>\n",
       "      <td>145</td>\n",
       "      <td>98042</td>\n",
       "      <td>98192</td>\n",
       "      <td>6156</td>\n",
       "      <td>233</td>\n",
       "      <td>211</td>\n",
       "      <td>543449</td>\n",
       "      <td>69</td>\n",
       "      <td>109</td>\n",
       "      <td>...</td>\n",
       "      <td>0.5133</td>\n",
       "      <td>-0.3103</td>\n",
       "      <td>1.0000</td>\n",
       "      <td>0</td>\n",
       "      <td>0</td>\n",
       "      <td>0</td>\n",
       "      <td>0</td>\n",
       "      <td>0</td>\n",
       "      <td>0</td>\n",
       "      <td>1</td>\n",
       "    </tr>\n",
       "    <tr>\n",
       "      <th>1847</th>\n",
       "      <td>265</td>\n",
       "      <td>276</td>\n",
       "      <td>183293</td>\n",
       "      <td>183331</td>\n",
       "      <td>227</td>\n",
       "      <td>22</td>\n",
       "      <td>38</td>\n",
       "      <td>32920</td>\n",
       "      <td>135</td>\n",
       "      <td>158</td>\n",
       "      <td>...</td>\n",
       "      <td>0.7105</td>\n",
       "      <td>0.1330</td>\n",
       "      <td>0.6839</td>\n",
       "      <td>0</td>\n",
       "      <td>0</td>\n",
       "      <td>0</td>\n",
       "      <td>0</td>\n",
       "      <td>0</td>\n",
       "      <td>0</td>\n",
       "      <td>1</td>\n",
       "    </tr>\n",
       "  </tbody>\n",
       "</table>\n",
       "<p>3 rows × 32 columns</p>\n",
       "</div>"
      ],
      "text/plain": [
       "      X_Minimum  X_Maximum  Y_Minimum  Y_Maximum  Pixels_Areas  X_Perimeter  \\\n",
       "733         225        346     130372     130421          3228          166   \n",
       "1694         72        145      98042      98192          6156          233   \n",
       "1847        265        276     183293     183331           227           22   \n",
       "\n",
       "      Y_Perimeter  Sum_of_Luminosity  Minimum_of_Luminosity  \\\n",
       "733            89             260241                     38   \n",
       "1694          211             543449                     69   \n",
       "1847           38              32920                    135   \n",
       "\n",
       "      Maximum_of_Luminosity  ...  Orientation_Index  Luminosity_Index  \\\n",
       "733                     103  ...            -0.5950           -0.3702   \n",
       "1694                    109  ...             0.5133           -0.3103   \n",
       "1847                    158  ...             0.7105            0.1330   \n",
       "\n",
       "      SigmoidOfAreas  Pastry  Z_Scratch  K_Scratch  Stains  Dirtiness  Bumps  \\\n",
       "733           1.0000       0          0          1       0          0      0   \n",
       "1694          1.0000       0          0          0       0          0      0   \n",
       "1847          0.6839       0          0          0       0          0      0   \n",
       "\n",
       "      Other_Faults  \n",
       "733              0  \n",
       "1694             1  \n",
       "1847             1  \n",
       "\n",
       "[3 rows x 32 columns]"
      ]
     },
     "execution_count": 11,
     "metadata": {},
     "output_type": "execute_result"
    }
   ],
   "source": [
    "Faults.sample(3)"
   ]
  },
  {
   "cell_type": "code",
   "execution_count": 12,
   "id": "1a1c78b1",
   "metadata": {},
   "outputs": [],
   "source": [
    "from sklearn.neural_network import MLPClassifier"
   ]
  },
  {
   "cell_type": "markdown",
   "id": "fa70e2e7",
   "metadata": {},
   "source": [
    "### Modeling"
   ]
  },
  {
   "cell_type": "code",
   "execution_count": 13,
   "id": "4a7d1b04",
   "metadata": {},
   "outputs": [],
   "source": [
    "# Split data into X and y\n",
    "features = Faults.columns[:-7]\n",
    "labels = Faults.columns[-7:]\n",
    "X = Faults[features]\n",
    "y = Faults[labels]"
   ]
  },
  {
   "cell_type": "code",
   "execution_count": 14,
   "id": "26feaa6b",
   "metadata": {},
   "outputs": [],
   "source": [
    "from sklearn.model_selection import train_test_split \n",
    "\n",
    "# Train/test split\n",
    "Xtrain, Xtest, ytrain, ytest = train_test_split(X,y,test_size=0.2,shuffle=True)"
   ]
  },
  {
   "cell_type": "code",
   "execution_count": 15,
   "id": "71be40cb",
   "metadata": {},
   "outputs": [],
   "source": [
    "from sklearn.preprocessing import StandardScaler\n",
    "scaler = StandardScaler()\n",
    "scaler.fit(Xtrain)\n",
    "\n",
    "Xtrain = scaler.transform(Xtrain)\n",
    "Xtest = scaler.transform(Xtest)"
   ]
  },
  {
   "cell_type": "code",
   "execution_count": 16,
   "id": "c067283b",
   "metadata": {},
   "outputs": [
    {
     "data": {
      "text/plain": [
       "0.4722938144329897"
      ]
     },
     "execution_count": 16,
     "metadata": {},
     "output_type": "execute_result"
    }
   ],
   "source": [
    "m = MLPClassifier(hidden_layer_sizes=(5, 5, 5),\n",
    "                 max_iter=10000) \n",
    "m.fit(Xtrain,ytrain)\n",
    "m.score(Xtrain,ytrain)"
   ]
  },
  {
   "cell_type": "code",
   "execution_count": 17,
   "id": "2d45f1fc",
   "metadata": {},
   "outputs": [
    {
     "data": {
      "text/plain": [
       "0.6527061855670103"
      ]
     },
     "execution_count": 17,
     "metadata": {},
     "output_type": "execute_result"
    }
   ],
   "source": [
    "m = MLPClassifier(hidden_layer_sizes=(8, 8, 8),\n",
    "                 max_iter=10000) \n",
    "m.fit(Xtrain,ytrain)\n",
    "m.score(Xtrain,ytrain)"
   ]
  },
  {
   "cell_type": "code",
   "execution_count": 23,
   "id": "033c9f08",
   "metadata": {},
   "outputs": [],
   "source": [
    "def createmodel(n_layers, first_layer_nodes, last_layer_nodes, activation_func, loss_func):\n",
    "    model = Sequential()\n",
    "    n_nodes = FindLayerNodesLinear(n_layers, first_layer_nodes, last_layer_nodes)\n",
    "    for i in range(1, n_layers):\n",
    "        if i==1:\n",
    "            model.add(Dense(first_layer_nodes, input_dim=Xtrain.shape[1], activation=activation_func))\n",
    "        else:\n",
    "            model.add(Dense(n_nodes[i-1], activation=activation_func))\n",
    "            \n",
    "    #Finally, the output layer should have a single node in binary classification\n",
    "    model.add(Dense(1, activation=activation_func))\n",
    "    model.compile(optimizer='adam', loss=loss_func, metrics = [\"accuracy\"]) #note: metrics could also be 'mse'\n",
    "    \n",
    "    return model"
   ]
  },
  {
   "cell_type": "code",
   "execution_count": 27,
   "id": "01bb8a11",
   "metadata": {},
   "outputs": [],
   "source": [
    "model =  KerasClassifier(build_fn=createmodel, verbose = False)  "
   ]
  },
  {
   "cell_type": "code",
   "execution_count": 28,
   "id": "1ad0447d",
   "metadata": {},
   "outputs": [],
   "source": [
    "activation_funcs = ['sigmoid', 'relu', 'tanh'] \n",
    "loss_funcs = ['binary_crossentropy','hinge']\n",
    "param_grid = dict(n_layers=[2,3], first_layer_nodes = [64,32,16], last_layer_nodes = [4],  activation_func = activation_funcs, loss_func = loss_funcs, batch_size = [100], epochs = [20,60])\n",
    "grid = GridSearchCV(estimator = model, param_grid = param_grid)"
   ]
  },
  {
   "cell_type": "code",
   "execution_count": 30,
   "id": "7d9c00cb",
   "metadata": {},
   "outputs": [
    {
     "name": "stdout",
     "output_type": "stream",
     "text": [
      "nan\n",
      "{'activation_func': 'sigmoid', 'batch_size': 100, 'epochs': 20, 'first_layer_nodes': 64, 'last_layer_nodes': 4, 'loss_func': 'binary_crossentropy', 'n_layers': 2}\n"
     ]
    }
   ],
   "source": [
    "print(grid.best_score_)\n",
    "print(grid.best_params_)"
   ]
  },
  {
   "cell_type": "code",
   "execution_count": 31,
   "id": "6be2bc87",
   "metadata": {},
   "outputs": [
    {
     "name": "stdout",
     "output_type": "stream",
     "text": [
      "0.7461340206185567\n",
      "0.8672680412371134\n",
      "0.9072164948453608\n",
      "0.9059278350515464\n",
      "0.9001288659793815\n",
      "0.8981958762886598\n",
      "0.8936855670103093\n",
      "0.8969072164948454\n",
      "0.8930412371134021\n",
      "0.8949742268041238\n"
     ]
    }
   ],
   "source": [
    "m = MLPClassifier(hidden_layer_sizes=(64, 4), random_state=1, max_iter=500, warm_start=True)\n",
    "for i in range(10):\n",
    "    m.fit(Xtrain, ytrain)\n",
    "    print(m.score(Xtrain,ytrain))"
   ]
  },
  {
   "cell_type": "code",
   "execution_count": 32,
   "id": "2865d0d8",
   "metadata": {},
   "outputs": [
    {
     "name": "stdout",
     "output_type": "stream",
     "text": [
      "0.9265463917525774\n",
      "0.9271907216494846\n",
      "0.9233247422680413\n",
      "0.9291237113402062\n",
      "0.9252577319587629\n",
      "0.9252577319587629\n",
      "0.9239690721649485\n",
      "0.9233247422680413\n",
      "0.9239690721649485\n",
      "0.9233247422680413\n"
     ]
    }
   ],
   "source": [
    "m = MLPClassifier(hidden_layer_sizes=(64, 4), random_state=1, max_iter=10000, warm_start=True)\n",
    "for i in range(10):\n",
    "    m.fit(Xtrain, ytrain)\n",
    "    print(m.score(Xtrain,ytrain))"
   ]
  },
  {
   "cell_type": "markdown",
   "id": "86d52a6c",
   "metadata": {},
   "source": [
    "### Predictions"
   ]
  },
  {
   "cell_type": "code",
   "execution_count": 33,
   "id": "0fc6e640",
   "metadata": {},
   "outputs": [
    {
     "data": {
      "text/plain": [
       "array([[0, 0, 0, ..., 1, 0, 0],\n",
       "       [0, 0, 1, ..., 0, 0, 0],\n",
       "       [0, 1, 0, ..., 0, 0, 0],\n",
       "       ...,\n",
       "       [0, 1, 0, ..., 0, 0, 0],\n",
       "       [0, 0, 0, ..., 0, 0, 1],\n",
       "       [0, 0, 0, ..., 0, 0, 0]])"
      ]
     },
     "execution_count": 33,
     "metadata": {},
     "output_type": "execute_result"
    }
   ],
   "source": [
    "pred = m.predict(Xtest)\n",
    "pred"
   ]
  },
  {
   "cell_type": "markdown",
   "id": "1568cb8b",
   "metadata": {},
   "source": [
    "### Accuracy from final model"
   ]
  },
  {
   "cell_type": "code",
   "execution_count": 34,
   "id": "3d85ffe3",
   "metadata": {},
   "outputs": [
    {
     "name": "stdout",
     "output_type": "stream",
     "text": [
      "              precision    recall  f1-score   support\n",
      "\n",
      "           0       0.58      0.45      0.51        31\n",
      "           1       0.81      0.74      0.77        34\n",
      "           2       0.96      0.92      0.94        92\n",
      "           3       0.91      0.77      0.83        13\n",
      "           4       0.50      0.50      0.50        10\n",
      "           5       0.51      0.59      0.55        71\n",
      "           6       0.66      0.61      0.63       138\n",
      "\n",
      "   micro avg       0.71      0.68      0.69       389\n",
      "   macro avg       0.70      0.65      0.68       389\n",
      "weighted avg       0.71      0.68      0.69       389\n",
      " samples avg       0.65      0.68      0.66       389\n",
      "\n"
     ]
    }
   ],
   "source": [
    "from sklearn.metrics import classification_report\n",
    "print(classification_report(ytest, pred))"
   ]
  }
 ],
 "metadata": {
  "kernelspec": {
   "display_name": "Python 3 (ipykernel)",
   "language": "python",
   "name": "python3"
  },
  "language_info": {
   "codemirror_mode": {
    "name": "ipython",
    "version": 3
   },
   "file_extension": ".py",
   "mimetype": "text/x-python",
   "name": "python",
   "nbconvert_exporter": "python",
   "pygments_lexer": "ipython3",
   "version": "3.9.12"
  }
 },
 "nbformat": 4,
 "nbformat_minor": 5
}
