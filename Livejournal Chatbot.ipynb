{
 "cells": [
  {
   "cell_type": "markdown",
   "id": "b75de419",
   "metadata": {},
   "source": [
    "### # I wanted to create a chatbot from [my old livejournal entries from around 2001 onward](\"https://www.livejournal.com/userinfo.bml?user=laleche\"). I downloaded the content as raw CSV files and using R I first aggregated the text using rbind() to create one csv.  This is a small dataset overall but I wanted to just get started and hone the model csv later. <br><br>\n",
    "### I loaded the livejournal blog entries and began to code."
   ]
  },
  {
   "cell_type": "code",
   "execution_count": 105,
   "id": "12ccb1c5",
   "metadata": {},
   "outputs": [
    {
     "data": {
      "text/plain": [
       "Index(['itemid', 'eventtime', 'logtime', 'subject', 'event', 'security',\n",
       "       'allowmask', 'current_music', 'current_mood'],\n",
       "      dtype='object')"
      ]
     },
     "execution_count": 105,
     "metadata": {},
     "output_type": "execute_result"
    }
   ],
   "source": [
    "import pandas as pd\n",
    "\n",
    "file_path = \"/Users/jennyskytta/Downloads/lj2001.csv\"\n",
    "df = pd.read_csv(file_path)\n",
    "df.columns"
   ]
  },
  {
   "cell_type": "markdown",
   "id": "974b8f78",
   "metadata": {},
   "source": [
    "### most of the columns downloaded arent needed, so I dropped everything except the subject and event which has the actual blog text. "
   ]
  },
  {
   "cell_type": "code",
   "execution_count": 106,
   "id": "ff72da50",
   "metadata": {},
   "outputs": [
    {
     "name": "stdout",
     "output_type": "stream",
     "text": [
      "                                      subject  \\\n",
      "0                           Baby's First Step   \n",
      "1                                     Le Show   \n",
      "2    Practice is a bust..Thank You Christians   \n",
      "3                            Ring a ding ding   \n",
      "4                           Bugs are a biting   \n",
      "..                                        ...   \n",
      "97                             I think not...   \n",
      "98                               Neurolux 101   \n",
      "99                                  Car Talk`   \n",
      "100                                   amusing   \n",
      "101           I need a vacation from thinking   \n",
      "\n",
      "                                                 event  \n",
      "0    wooo hooo!!!!   Okay..I'm really just murderin...  \n",
      "1    Yay!!! The monotany of daily nothingness was b...  \n",
      "2    Our practice never happened...because once I a...  \n",
      "3    Blase today, I worked mucho hours.  Nothing ex...  \n",
      "4    Yikes...today was horrid.  Awakened from my sl...  \n",
      "..                                                 ...  \n",
      "97   <TABLE><TD><a href=\"http://www.chemicalsmile.c...  \n",
      "98   Where to begin...  Well, I met Jeff last night...  \n",
      "99   How can the guys on Car Talk always laugh at e...  \n",
      "100  (it's put in 1st person so you don't have to)\\...  \n",
      "101  How the fuck do people meditate?  Last night I...  \n",
      "\n",
      "[102 rows x 2 columns]\n"
     ]
    }
   ],
   "source": [
    "# Assuming you have a DataFrame named 'df' with the mentioned columns\n",
    "columns_to_drop = ['itemid', 'eventtime', 'logtime', 'security', 'allowmask', 'current_music', 'current_mood']\n",
    "\n",
    "# Drop the specified columns\n",
    "df = df.drop(columns=columns_to_drop)\n",
    "\n",
    "# Now, 'df' contains only the 'event' column\n",
    "print(df)"
   ]
  },
  {
   "cell_type": "markdown",
   "id": "a58829a8",
   "metadata": {},
   "source": [
    "### From this sample, you can see that early 20s version of me was very crass. "
   ]
  },
  {
   "cell_type": "code",
   "execution_count": 107,
   "id": "fdd1c1cc",
   "metadata": {},
   "outputs": [
    {
     "data": {
      "text/plain": [
       "(102, 2)"
      ]
     },
     "execution_count": 107,
     "metadata": {},
     "output_type": "execute_result"
    }
   ],
   "source": [
    "# Pad the 'subject' column with NaN to make it the same length as the 'event' column\n",
    "max_length = max(len(df['subject']), len(df['event']))\n",
    "df['subject'] = df['subject'].reindex(range(max_length)).fillna(method='ffill')\n",
    "\n",
    "# Pad the 'event' column with NaN to make it the same length as the 'subject' column\n",
    "df['event'] = df['event'].reindex(range(max_length)).fillna(method='ffill')\n",
    "\n",
    "# Now both columns have the same length\n",
    "df.shape"
   ]
  },
  {
   "cell_type": "code",
   "execution_count": 109,
   "id": "a24e1c58",
   "metadata": {},
   "outputs": [
    {
     "name": "stderr",
     "output_type": "stream",
     "text": [
      "/var/folders/rc/ylf7hxm13x365r22_1xp_ybc0000gn/T/ipykernel_5370/2107150349.py:29: FutureWarning: The frame.append method is deprecated and will be removed from pandas in a future version. Use pandas.concat instead.\n",
      "  qa_df = qa_df.append(pd.DataFrame({'Question': questions, 'Answer': answers}), ignore_index=True)\n"
     ]
    }
   ],
   "source": [
    "import pandas as pd\n",
    "import csv\n",
    "\n",
    "# Create a new DataFrame to hold the questions and answers\n",
    "qa_df = pd.DataFrame(columns=['Question', 'Answer'])\n",
    "\n",
    "# Iterate over each row in the original CSV file\n",
    "for index, row in df.iterrows():\n",
    "    subject = row['subject']\n",
    "    event = row['event']\n",
    "    \n",
    "    # Generate potential questions and answers based on the subject and event\n",
    "    # Replace this with your own code to generate relevant questions and answers\n",
    "    questions = [\n",
    "        'What is '+subject+'?',\n",
    "        'Can you explain '+subject+'?',\n",
    "        'What are the key points of '+subject+'?',\n",
    "        'How does '+subject+' relate to '+event+'?',\n",
    "        'What are some interesting facts about '+subject+'?',\n",
    "        'Who are the experts on '+subject+'?',\n",
    "        'What are the benefits of learning about '+subject+'?',\n",
    "        'What are the challenges of learning about '+subject+'?',\n",
    "        'What is the history of '+subject+'?',\n",
    "        'What are the future trends of '+subject+'?'\n",
    "    ]\n",
    "    answers = ['Sorry, no answer found for '+subject+'.']*10\n",
    "\n",
    "    # Add the generated questions and answers to the new DataFrame\n",
    "    qa_df = qa_df.append(pd.DataFrame({'Question': questions, 'Answer': answers}), ignore_index=True)\n",
    "\n",
    "# Remove duplicates from the resulting dataframe\n",
    "qa_df.drop_duplicates(inplace=True)\n",
    "\n",
    "# Save the new DataFrame as a CSV file\n",
    "qa_df.to_csv('chatbot_qa.csv', index=False, quoting=csv.QUOTE_NONNUMERIC)\n"
   ]
  },
  {
   "cell_type": "code",
   "execution_count": 110,
   "id": "07bceaa1",
   "metadata": {},
   "outputs": [
    {
     "data": {
      "text/html": [
       "<div>\n",
       "<style scoped>\n",
       "    .dataframe tbody tr th:only-of-type {\n",
       "        vertical-align: middle;\n",
       "    }\n",
       "\n",
       "    .dataframe tbody tr th {\n",
       "        vertical-align: top;\n",
       "    }\n",
       "\n",
       "    .dataframe thead th {\n",
       "        text-align: right;\n",
       "    }\n",
       "</style>\n",
       "<table border=\"1\" class=\"dataframe\">\n",
       "  <thead>\n",
       "    <tr style=\"text-align: right;\">\n",
       "      <th></th>\n",
       "      <th>Question</th>\n",
       "      <th>Answer</th>\n",
       "    </tr>\n",
       "  </thead>\n",
       "  <tbody>\n",
       "    <tr>\n",
       "      <th>0</th>\n",
       "      <td>What is Baby's First Step?</td>\n",
       "      <td>Sorry, no answer found for Baby's First Step.</td>\n",
       "    </tr>\n",
       "    <tr>\n",
       "      <th>1</th>\n",
       "      <td>Can you explain Baby's First Step?</td>\n",
       "      <td>Sorry, no answer found for Baby's First Step.</td>\n",
       "    </tr>\n",
       "    <tr>\n",
       "      <th>2</th>\n",
       "      <td>What are the key points of Baby's First Step?</td>\n",
       "      <td>Sorry, no answer found for Baby's First Step.</td>\n",
       "    </tr>\n",
       "    <tr>\n",
       "      <th>3</th>\n",
       "      <td>How does Baby's First Step relate to wooo hooo...</td>\n",
       "      <td>Sorry, no answer found for Baby's First Step.</td>\n",
       "    </tr>\n",
       "    <tr>\n",
       "      <th>4</th>\n",
       "      <td>What are some interesting facts about Baby's F...</td>\n",
       "      <td>Sorry, no answer found for Baby's First Step.</td>\n",
       "    </tr>\n",
       "    <tr>\n",
       "      <th>...</th>\n",
       "      <td>...</td>\n",
       "      <td>...</td>\n",
       "    </tr>\n",
       "    <tr>\n",
       "      <th>1015</th>\n",
       "      <td>Who are the experts on I need a vacation from ...</td>\n",
       "      <td>Sorry, no answer found for I need a vacation f...</td>\n",
       "    </tr>\n",
       "    <tr>\n",
       "      <th>1016</th>\n",
       "      <td>What are the benefits of learning about I need...</td>\n",
       "      <td>Sorry, no answer found for I need a vacation f...</td>\n",
       "    </tr>\n",
       "    <tr>\n",
       "      <th>1017</th>\n",
       "      <td>What are the challenges of learning about I ne...</td>\n",
       "      <td>Sorry, no answer found for I need a vacation f...</td>\n",
       "    </tr>\n",
       "    <tr>\n",
       "      <th>1018</th>\n",
       "      <td>What is the history of I need a vacation from ...</td>\n",
       "      <td>Sorry, no answer found for I need a vacation f...</td>\n",
       "    </tr>\n",
       "    <tr>\n",
       "      <th>1019</th>\n",
       "      <td>What are the future trends of I need a vacatio...</td>\n",
       "      <td>Sorry, no answer found for I need a vacation f...</td>\n",
       "    </tr>\n",
       "  </tbody>\n",
       "</table>\n",
       "<p>983 rows × 2 columns</p>\n",
       "</div>"
      ],
      "text/plain": [
       "                                               Question  \\\n",
       "0                            What is Baby's First Step?   \n",
       "1                    Can you explain Baby's First Step?   \n",
       "2         What are the key points of Baby's First Step?   \n",
       "3     How does Baby's First Step relate to wooo hooo...   \n",
       "4     What are some interesting facts about Baby's F...   \n",
       "...                                                 ...   \n",
       "1015  Who are the experts on I need a vacation from ...   \n",
       "1016  What are the benefits of learning about I need...   \n",
       "1017  What are the challenges of learning about I ne...   \n",
       "1018  What is the history of I need a vacation from ...   \n",
       "1019  What are the future trends of I need a vacatio...   \n",
       "\n",
       "                                                 Answer  \n",
       "0         Sorry, no answer found for Baby's First Step.  \n",
       "1         Sorry, no answer found for Baby's First Step.  \n",
       "2         Sorry, no answer found for Baby's First Step.  \n",
       "3         Sorry, no answer found for Baby's First Step.  \n",
       "4         Sorry, no answer found for Baby's First Step.  \n",
       "...                                                 ...  \n",
       "1015  Sorry, no answer found for I need a vacation f...  \n",
       "1016  Sorry, no answer found for I need a vacation f...  \n",
       "1017  Sorry, no answer found for I need a vacation f...  \n",
       "1018  Sorry, no answer found for I need a vacation f...  \n",
       "1019  Sorry, no answer found for I need a vacation f...  \n",
       "\n",
       "[983 rows x 2 columns]"
      ]
     },
     "execution_count": 110,
     "metadata": {},
     "output_type": "execute_result"
    }
   ],
   "source": [
    "qa_df"
   ]
  },
  {
   "cell_type": "code",
   "execution_count": 111,
   "id": "f1dd10af",
   "metadata": {},
   "outputs": [],
   "source": [
    "def preprocess(text):\n",
    "    text = re.sub(r'\\W+', ' ', text)  # Remove special characters\n",
    "    text = text.lower()  # Convert to lowercase\n",
    "    return text.strip()"
   ]
  },
  {
   "cell_type": "code",
   "execution_count": 119,
   "id": "950033c2",
   "metadata": {},
   "outputs": [],
   "source": [
    "import re\n",
    "\n",
    "qa_df['Question'] = qa_df['Question'].apply(preprocess)\n",
    "qa_df['Answer'] = qa_df['Answer'].apply(preprocess)"
   ]
  },
  {
   "cell_type": "code",
   "execution_count": 120,
   "id": "3fea35ac",
   "metadata": {},
   "outputs": [],
   "source": [
    "def find_closest_match(user_input):\n",
    "    user_input = preprocess(user_input)\n",
    "    distances = qa_df['Question'].apply(lambda x: abs(len(x) - len(user_input)))\n",
    "    index = distances.idxmin()\n",
    "    return qa_df.loc[index, 'Answer']"
   ]
  },
  {
   "cell_type": "markdown",
   "id": "19a3df21",
   "metadata": {},
   "source": [
    "## Step 8: Create a chat loop"
   ]
  },
  {
   "cell_type": "code",
   "execution_count": null,
   "id": "0a74ce3e",
   "metadata": {},
   "outputs": [
    {
     "name": "stdout",
     "output_type": "stream",
     "text": [
      "Welcome to the Jenny Chatbot! Type 'quit' to exit.\n",
      "You: hello\n",
      "Chatbot:  sorry no answer found for tim\n",
      "You: what is your name?\n",
      "Chatbot:  sorry no answer found for dirty pop\n",
      "You: what is dirty pop\n",
      "Chatbot:  sorry no answer found for dirty pop\n",
      "You: I'm confused\n",
      "Chatbot:  sorry no answer found for augh\n",
      "You: this is weird\n",
      "Chatbot:  sorry no answer found for augh\n",
      "You: I'm so confused\n",
      "Chatbot:  sorry no answer found for le show\n",
      "You: what is le show?\n",
      "Chatbot:  sorry no answer found for le show\n"
     ]
    }
   ],
   "source": [
    "print(\"Welcome to the Jenny Chatbot! Type 'quit' to exit.\")\n",
    "\n",
    "while True:\n",
    "    user_input = input(\"You: \")\n",
    "    if user_input.lower() == \"quit\":\n",
    "        break\n",
    "    response = find_closest_match(user_input)\n",
    "    print(\"Chatbot: \", response)"
   ]
  },
  {
   "cell_type": "markdown",
   "id": "4edaa699",
   "metadata": {},
   "source": [
    "### This really requires that I have a much richer model of data but for a rough bot, she works "
   ]
  }
 ],
 "metadata": {
  "kernelspec": {
   "display_name": "Python 3 (ipykernel)",
   "language": "python",
   "name": "python3"
  },
  "language_info": {
   "codemirror_mode": {
    "name": "ipython",
    "version": 3
   },
   "file_extension": ".py",
   "mimetype": "text/x-python",
   "name": "python",
   "nbconvert_exporter": "python",
   "pygments_lexer": "ipython3",
   "version": "3.9.12"
  }
 },
 "nbformat": 4,
 "nbformat_minor": 5
}
