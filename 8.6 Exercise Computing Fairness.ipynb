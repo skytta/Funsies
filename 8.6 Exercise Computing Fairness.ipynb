{
 "cells": [
  {
   "cell_type": "markdown",
   "id": "3448d577",
   "metadata": {},
   "source": [
    "### Q1: DEMOGRAPHIC PARITY\n",
    "\n",
    "Compute the difference between the proportion of <b>identified-as-male with an income greater than '50k'</b> and the <b>proportion of identified-as-female with an income greater than $50k</b>. Does the data seem fair by this measure?\n",
    "\n",
    "This measure is not exactly demographic parity, since we are not making a prediction: We are just computing the “fairness” of the input data itself. So, we are substituting the true income for the predicted income."
   ]
  },
  {
   "cell_type": "code",
   "execution_count": 14,
   "id": "00fe39b5",
   "metadata": {},
   "outputs": [
    {
     "data": {
      "text/html": [
       "<div>\n",
       "<style scoped>\n",
       "    .dataframe tbody tr th:only-of-type {\n",
       "        vertical-align: middle;\n",
       "    }\n",
       "\n",
       "    .dataframe tbody tr th {\n",
       "        vertical-align: top;\n",
       "    }\n",
       "\n",
       "    .dataframe thead th {\n",
       "        text-align: right;\n",
       "    }\n",
       "</style>\n",
       "<table border=\"1\" class=\"dataframe\">\n",
       "  <thead>\n",
       "    <tr style=\"text-align: right;\">\n",
       "      <th></th>\n",
       "      <th>age</th>\n",
       "      <th>workclass</th>\n",
       "      <th>fnlwgt</th>\n",
       "      <th>education</th>\n",
       "      <th>edu_num</th>\n",
       "      <th>maritalstat</th>\n",
       "      <th>occupation</th>\n",
       "      <th>relationship</th>\n",
       "      <th>race</th>\n",
       "      <th>sex</th>\n",
       "      <th>cap_gain</th>\n",
       "      <th>cap_loss</th>\n",
       "      <th>hrs_per_wk</th>\n",
       "      <th>native_country</th>\n",
       "      <th>morethan50k</th>\n",
       "    </tr>\n",
       "  </thead>\n",
       "  <tbody>\n",
       "    <tr>\n",
       "      <th>21140</th>\n",
       "      <td>31</td>\n",
       "      <td>Self-emp-not-inc</td>\n",
       "      <td>176862</td>\n",
       "      <td>Some-college</td>\n",
       "      <td>10</td>\n",
       "      <td>Married-civ-spouse</td>\n",
       "      <td>Craft-repair</td>\n",
       "      <td>Husband</td>\n",
       "      <td>White</td>\n",
       "      <td>Male</td>\n",
       "      <td>0</td>\n",
       "      <td>0</td>\n",
       "      <td>40</td>\n",
       "      <td>United-States</td>\n",
       "      <td>&lt;=50K</td>\n",
       "    </tr>\n",
       "    <tr>\n",
       "      <th>21270</th>\n",
       "      <td>37</td>\n",
       "      <td>Private</td>\n",
       "      <td>160920</td>\n",
       "      <td>Some-college</td>\n",
       "      <td>10</td>\n",
       "      <td>Married-civ-spouse</td>\n",
       "      <td>Sales</td>\n",
       "      <td>Husband</td>\n",
       "      <td>White</td>\n",
       "      <td>Male</td>\n",
       "      <td>0</td>\n",
       "      <td>0</td>\n",
       "      <td>45</td>\n",
       "      <td>United-States</td>\n",
       "      <td>&lt;=50K</td>\n",
       "    </tr>\n",
       "    <tr>\n",
       "      <th>2209</th>\n",
       "      <td>49</td>\n",
       "      <td>Local-gov</td>\n",
       "      <td>52590</td>\n",
       "      <td>HS-grad</td>\n",
       "      <td>9</td>\n",
       "      <td>Widowed</td>\n",
       "      <td>Protective-serv</td>\n",
       "      <td>Not-in-family</td>\n",
       "      <td>Black</td>\n",
       "      <td>Male</td>\n",
       "      <td>0</td>\n",
       "      <td>0</td>\n",
       "      <td>40</td>\n",
       "      <td>United-States</td>\n",
       "      <td>&lt;=50K</td>\n",
       "    </tr>\n",
       "    <tr>\n",
       "      <th>4740</th>\n",
       "      <td>33</td>\n",
       "      <td>Private</td>\n",
       "      <td>135312</td>\n",
       "      <td>Bachelors</td>\n",
       "      <td>13</td>\n",
       "      <td>Never-married</td>\n",
       "      <td>Prof-specialty</td>\n",
       "      <td>Not-in-family</td>\n",
       "      <td>White</td>\n",
       "      <td>Male</td>\n",
       "      <td>0</td>\n",
       "      <td>0</td>\n",
       "      <td>40</td>\n",
       "      <td>United-States</td>\n",
       "      <td>&gt;50K</td>\n",
       "    </tr>\n",
       "    <tr>\n",
       "      <th>25424</th>\n",
       "      <td>52</td>\n",
       "      <td>?</td>\n",
       "      <td>318351</td>\n",
       "      <td>Some-college</td>\n",
       "      <td>10</td>\n",
       "      <td>Married-civ-spouse</td>\n",
       "      <td>?</td>\n",
       "      <td>Wife</td>\n",
       "      <td>White</td>\n",
       "      <td>Female</td>\n",
       "      <td>0</td>\n",
       "      <td>0</td>\n",
       "      <td>40</td>\n",
       "      <td>United-States</td>\n",
       "      <td>&gt;50K</td>\n",
       "    </tr>\n",
       "  </tbody>\n",
       "</table>\n",
       "</div>"
      ],
      "text/plain": [
       "       age          workclass  fnlwgt      education  edu_num  \\\n",
       "21140   31   Self-emp-not-inc  176862   Some-college       10   \n",
       "21270   37            Private  160920   Some-college       10   \n",
       "2209    49          Local-gov   52590        HS-grad        9   \n",
       "4740    33            Private  135312      Bachelors       13   \n",
       "25424   52                  ?  318351   Some-college       10   \n",
       "\n",
       "               maritalstat        occupation    relationship    race      sex  \\\n",
       "21140   Married-civ-spouse      Craft-repair         Husband   White     Male   \n",
       "21270   Married-civ-spouse             Sales         Husband   White     Male   \n",
       "2209               Widowed   Protective-serv   Not-in-family   Black     Male   \n",
       "4740         Never-married    Prof-specialty   Not-in-family   White     Male   \n",
       "25424   Married-civ-spouse                 ?            Wife   White   Female   \n",
       "\n",
       "       cap_gain  cap_loss  hrs_per_wk  native_country morethan50k  \n",
       "21140         0         0          40   United-States       <=50K  \n",
       "21270         0         0          45   United-States       <=50K  \n",
       "2209          0         0          40   United-States       <=50K  \n",
       "4740          0         0          40   United-States        >50K  \n",
       "25424         0         0          40   United-States        >50K  "
      ]
     },
     "execution_count": 14,
     "metadata": {},
     "output_type": "execute_result"
    }
   ],
   "source": [
    "import numpy as np\n",
    "import pandas as pd\n",
    "\n",
    "\n",
    "data = pd.read_csv('/Users/jennyskytta/Downloads/adult.csv',encoding='latin1', header=None, names=[\"age\", \"workclass\", \"fnlwgt\", \"education\", \"edu_num\", \"maritalstat\", \"occupation\", \"relationship\", \"race\", \"sex\", \"cap_gain\", \"cap_loss\", \"hrs_per_wk\", \"native_country\", \"morethan50k\"])\n",
    "data.sample(5)"
   ]
  },
  {
   "cell_type": "code",
   "execution_count": 94,
   "id": "ce6a7a5e",
   "metadata": {},
   "outputs": [
    {
     "data": {
      "text/html": [
       "<div>\n",
       "<style scoped>\n",
       "    .dataframe tbody tr th:only-of-type {\n",
       "        vertical-align: middle;\n",
       "    }\n",
       "\n",
       "    .dataframe tbody tr th {\n",
       "        vertical-align: top;\n",
       "    }\n",
       "\n",
       "    .dataframe thead th {\n",
       "        text-align: right;\n",
       "    }\n",
       "</style>\n",
       "<table border=\"1\" class=\"dataframe\">\n",
       "  <thead>\n",
       "    <tr style=\"text-align: right;\">\n",
       "      <th></th>\n",
       "      <th>sex</th>\n",
       "      <th>morethan50k</th>\n",
       "    </tr>\n",
       "  </thead>\n",
       "  <tbody>\n",
       "    <tr>\n",
       "      <th>24869</th>\n",
       "      <td>Male</td>\n",
       "      <td>&lt;=50K</td>\n",
       "    </tr>\n",
       "    <tr>\n",
       "      <th>10644</th>\n",
       "      <td>Male</td>\n",
       "      <td>&lt;=50K</td>\n",
       "    </tr>\n",
       "  </tbody>\n",
       "</table>\n",
       "</div>"
      ],
      "text/plain": [
       "         sex morethan50k\n",
       "24869   Male       <=50K\n",
       "10644   Male       <=50K"
      ]
     },
     "execution_count": 94,
     "metadata": {},
     "output_type": "execute_result"
    }
   ],
   "source": [
    "small = data.drop(['cap_gain','cap_loss','hrs_per_wk','native_country', 'fnlwgt', 'age','workclass', 'education','edu_num','maritalstat','occupation','relationship','race'], axis=1)\n",
    "small.sample(2)"
   ]
  },
  {
   "cell_type": "code",
   "execution_count": null,
   "id": "1804641b",
   "metadata": {},
   "outputs": [],
   "source": []
  },
  {
   "cell_type": "code",
   "execution_count": 33,
   "id": "a3131af6",
   "metadata": {},
   "outputs": [
    {
     "data": {
      "text/plain": [
       " Male      21790\n",
       " Female    10771\n",
       "Name: sex, dtype: int64"
      ]
     },
     "execution_count": 33,
     "metadata": {},
     "output_type": "execute_result"
    }
   ],
   "source": [
    "sex = data['sex']\n",
    "sex.value_counts()"
   ]
  },
  {
   "cell_type": "code",
   "execution_count": 107,
   "id": "4aa837d0",
   "metadata": {},
   "outputs": [
    {
     "data": {
      "text/plain": [
       "sex      morethan50k\n",
       " Female   <=50K          9592\n",
       "          >50K           1179\n",
       " Male     <=50K         15128\n",
       "          >50K           6662\n",
       "dtype: int64"
      ]
     },
     "execution_count": 107,
     "metadata": {},
     "output_type": "execute_result"
    }
   ],
   "source": [
    "group = small.groupby(['sex', 'morethan50k']).value_counts()\n",
    "group"
   ]
  },
  {
   "cell_type": "code",
   "execution_count": 101,
   "id": "142dbb73",
   "metadata": {},
   "outputs": [
    {
     "name": "stdout",
     "output_type": "stream",
     "text": [
      "0.10946058861758426\n",
      "0.3057365764111978\n"
     ]
    }
   ],
   "source": [
    "women =1179/10771\n",
    "men = 6662/21790\n",
    "print(women)\n",
    "print(men)"
   ]
  },
  {
   "cell_type": "code",
   "execution_count": 119,
   "id": "05d259be",
   "metadata": {},
   "outputs": [
    {
     "data": {
      "text/plain": [
       "education      object\n",
       "sex            object\n",
       "morethan50k    object\n",
       "dtype: object"
      ]
     },
     "execution_count": 119,
     "metadata": {},
     "output_type": "execute_result"
    }
   ],
   "source": [
    "small2.dtypes"
   ]
  },
  {
   "cell_type": "code",
   "execution_count": 103,
   "id": "33810a20",
   "metadata": {},
   "outputs": [
    {
     "data": {
      "text/html": [
       "<div>\n",
       "<style scoped>\n",
       "    .dataframe tbody tr th:only-of-type {\n",
       "        vertical-align: middle;\n",
       "    }\n",
       "\n",
       "    .dataframe tbody tr th {\n",
       "        vertical-align: top;\n",
       "    }\n",
       "\n",
       "    .dataframe thead th {\n",
       "        text-align: right;\n",
       "    }\n",
       "</style>\n",
       "<table border=\"1\" class=\"dataframe\">\n",
       "  <thead>\n",
       "    <tr style=\"text-align: right;\">\n",
       "      <th></th>\n",
       "      <th>education</th>\n",
       "      <th>sex</th>\n",
       "      <th>morethan50k</th>\n",
       "    </tr>\n",
       "  </thead>\n",
       "  <tbody>\n",
       "    <tr>\n",
       "      <th>10653</th>\n",
       "      <td>Some-college</td>\n",
       "      <td>Male</td>\n",
       "      <td>&lt;=50K</td>\n",
       "    </tr>\n",
       "    <tr>\n",
       "      <th>17565</th>\n",
       "      <td>10th</td>\n",
       "      <td>Female</td>\n",
       "      <td>&lt;=50K</td>\n",
       "    </tr>\n",
       "  </tbody>\n",
       "</table>\n",
       "</div>"
      ],
      "text/plain": [
       "           education      sex morethan50k\n",
       "10653   Some-college     Male       <=50K\n",
       "17565           10th   Female       <=50K"
      ]
     },
     "execution_count": 103,
     "metadata": {},
     "output_type": "execute_result"
    }
   ],
   "source": [
    "small2 = data.drop(['cap_gain','cap_loss','hrs_per_wk','native_country', 'fnlwgt', 'age','workclass','edu_num','maritalstat','occupation','relationship','race'], axis=1)\n",
    "small2.sample(2)"
   ]
  },
  {
   "cell_type": "code",
   "execution_count": 126,
   "id": "f90e0210",
   "metadata": {},
   "outputs": [
    {
     "data": {
      "text/plain": [
       "0          Bachelors\n",
       "1          Bachelors\n",
       "2            HS-grad\n",
       "3               11th\n",
       "4          Bachelors\n",
       "            ...     \n",
       "32556     Assoc-acdm\n",
       "32557        HS-grad\n",
       "32558        HS-grad\n",
       "32559        HS-grad\n",
       "32560        HS-grad\n",
       "Name: education, Length: 32561, dtype: object"
      ]
     },
     "execution_count": 126,
     "metadata": {},
     "output_type": "execute_result"
    }
   ],
   "source": [
    "small2['education']"
   ]
  },
  {
   "cell_type": "code",
   "execution_count": 131,
   "id": "35633af8",
   "metadata": {},
   "outputs": [
    {
     "data": {
      "text/plain": [
       "0        False\n",
       "1        False\n",
       "2        False\n",
       "3        False\n",
       "4        False\n",
       "         ...  \n",
       "32556    False\n",
       "32557    False\n",
       "32558    False\n",
       "32559    False\n",
       "32560    False\n",
       "Name: education, Length: 32561, dtype: bool"
      ]
     },
     "execution_count": 131,
     "metadata": {},
     "output_type": "execute_result"
    }
   ],
   "source": [
    "edu_mask = small2['education'] == 'Doctorate'\n",
    "edu_mask"
   ]
  },
  {
   "cell_type": "code",
   "execution_count": 133,
   "id": "75dade75",
   "metadata": {},
   "outputs": [
    {
     "data": {
      "text/html": [
       "<div>\n",
       "<style scoped>\n",
       "    .dataframe tbody tr th:only-of-type {\n",
       "        vertical-align: middle;\n",
       "    }\n",
       "\n",
       "    .dataframe tbody tr th {\n",
       "        vertical-align: top;\n",
       "    }\n",
       "\n",
       "    .dataframe thead th {\n",
       "        text-align: right;\n",
       "    }\n",
       "</style>\n",
       "<table border=\"1\" class=\"dataframe\">\n",
       "  <thead>\n",
       "    <tr style=\"text-align: right;\">\n",
       "      <th></th>\n",
       "      <th>education</th>\n",
       "      <th>sex</th>\n",
       "      <th>morethan50k</th>\n",
       "    </tr>\n",
       "  </thead>\n",
       "  <tbody>\n",
       "  </tbody>\n",
       "</table>\n",
       "</div>"
      ],
      "text/plain": [
       "Empty DataFrame\n",
       "Columns: [education, sex, morethan50k]\n",
       "Index: []"
      ]
     },
     "execution_count": 133,
     "metadata": {},
     "output_type": "execute_result"
    }
   ],
   "source": [
    "edu_doc = small2[edu_mask]\n",
    "edu_doc"
   ]
  },
  {
   "cell_type": "code",
   "execution_count": 137,
   "id": "52862d1c",
   "metadata": {},
   "outputs": [
    {
     "data": {
      "text/html": [
       "<div>\n",
       "<style scoped>\n",
       "    .dataframe tbody tr th:only-of-type {\n",
       "        vertical-align: middle;\n",
       "    }\n",
       "\n",
       "    .dataframe tbody tr th {\n",
       "        vertical-align: top;\n",
       "    }\n",
       "\n",
       "    .dataframe thead th {\n",
       "        text-align: right;\n",
       "    }\n",
       "</style>\n",
       "<table border=\"1\" class=\"dataframe\">\n",
       "  <thead>\n",
       "    <tr style=\"text-align: right;\">\n",
       "      <th></th>\n",
       "      <th>education</th>\n",
       "      <th>sex</th>\n",
       "      <th>morethan50k</th>\n",
       "    </tr>\n",
       "  </thead>\n",
       "  <tbody>\n",
       "  </tbody>\n",
       "</table>\n",
       "</div>"
      ],
      "text/plain": [
       "Empty DataFrame\n",
       "Columns: [education, sex, morethan50k]\n",
       "Index: []"
      ]
     },
     "execution_count": 137,
     "metadata": {},
     "output_type": "execute_result"
    }
   ],
   "source": [
    "test = small2[small2['education'] =='Doctorate']\n",
    "test"
   ]
  },
  {
   "cell_type": "code",
   "execution_count": 114,
   "id": "0b724d5b",
   "metadata": {},
   "outputs": [
    {
     "data": {
      "text/plain": [
       "education      0\n",
       "sex            0\n",
       "morethan50k    0\n",
       "dtype: int64"
      ]
     },
     "execution_count": 114,
     "metadata": {},
     "output_type": "execute_result"
    }
   ],
   "source": [
    "small2[small2['education']==\"Some-college\"].count()"
   ]
  },
  {
   "cell_type": "code",
   "execution_count": 42,
   "id": "fc3cfa35",
   "metadata": {},
   "outputs": [
    {
     "data": {
      "text/html": [
       "<div>\n",
       "<style scoped>\n",
       "    .dataframe tbody tr th:only-of-type {\n",
       "        vertical-align: middle;\n",
       "    }\n",
       "\n",
       "    .dataframe tbody tr th {\n",
       "        vertical-align: top;\n",
       "    }\n",
       "\n",
       "    .dataframe thead th {\n",
       "        text-align: right;\n",
       "    }\n",
       "</style>\n",
       "<table border=\"1\" class=\"dataframe\">\n",
       "  <thead>\n",
       "    <tr style=\"text-align: right;\">\n",
       "      <th></th>\n",
       "      <th>age</th>\n",
       "      <th>workclass</th>\n",
       "      <th>fnlwgt</th>\n",
       "      <th>education</th>\n",
       "      <th>edu_num</th>\n",
       "      <th>maritalstat</th>\n",
       "      <th>occupation</th>\n",
       "      <th>relationship</th>\n",
       "      <th>race</th>\n",
       "      <th>sex</th>\n",
       "      <th>cap_gain</th>\n",
       "      <th>cap_loss</th>\n",
       "      <th>hrs_per_wk</th>\n",
       "      <th>native_country</th>\n",
       "      <th>morethan50k</th>\n",
       "    </tr>\n",
       "  </thead>\n",
       "  <tbody>\n",
       "  </tbody>\n",
       "</table>\n",
       "</div>"
      ],
      "text/plain": [
       "Empty DataFrame\n",
       "Columns: [age, workclass, fnlwgt, education, edu_num, maritalstat, occupation, relationship, race, sex, cap_gain, cap_loss, hrs_per_wk, native_country, morethan50k]\n",
       "Index: []"
      ]
     },
     "metadata": {},
     "output_type": "display_data"
    }
   ],
   "source": [
    "display(data.loc[(data['sex'].str.startswith('F') & (data['morethan50k'].str.startswith('>')))])"
   ]
  },
  {
   "cell_type": "code",
   "execution_count": 88,
   "id": "9c2f4fa1",
   "metadata": {},
   "outputs": [
    {
     "ename": "SyntaxError",
     "evalue": "EOL while scanning string literal (326226037.py, line 1)",
     "output_type": "error",
     "traceback": [
      "\u001b[0;36m  Input \u001b[0;32mIn [88]\u001b[0;36m\u001b[0m\n\u001b[0;31m    newdf = small.query('sex == \"Female\" and morethan50k == \">50K\")\u001b[0m\n\u001b[0m                                                                   ^\u001b[0m\n\u001b[0;31mSyntaxError\u001b[0m\u001b[0;31m:\u001b[0m EOL while scanning string literal\n"
     ]
    }
   ],
   "source": [
    "newdf = small.query('sex == \"Female\" and morethan50k == \">50K\")"
   ]
  },
  {
   "cell_type": "code",
   "execution_count": 83,
   "id": "7e485b97",
   "metadata": {},
   "outputs": [
    {
     "data": {
      "text/html": [
       "<div>\n",
       "<style scoped>\n",
       "    .dataframe tbody tr th:only-of-type {\n",
       "        vertical-align: middle;\n",
       "    }\n",
       "\n",
       "    .dataframe tbody tr th {\n",
       "        vertical-align: top;\n",
       "    }\n",
       "\n",
       "    .dataframe thead th {\n",
       "        text-align: right;\n",
       "    }\n",
       "</style>\n",
       "<table border=\"1\" class=\"dataframe\">\n",
       "  <thead>\n",
       "    <tr style=\"text-align: right;\">\n",
       "      <th></th>\n",
       "      <th>education</th>\n",
       "      <th>edu_num</th>\n",
       "      <th>maritalstat</th>\n",
       "      <th>occupation</th>\n",
       "      <th>relationship</th>\n",
       "      <th>race</th>\n",
       "      <th>sex</th>\n",
       "      <th>morethan50k</th>\n",
       "    </tr>\n",
       "  </thead>\n",
       "  <tbody>\n",
       "  </tbody>\n",
       "</table>\n",
       "</div>"
      ],
      "text/plain": [
       "Empty DataFrame\n",
       "Columns: [education, edu_num, maritalstat, occupation, relationship, race, sex, morethan50k]\n",
       "Index: []"
      ]
     },
     "execution_count": 83,
     "metadata": {},
     "output_type": "execute_result"
    }
   ],
   "source": [
    "newdf"
   ]
  },
  {
   "cell_type": "code",
   "execution_count": 64,
   "id": "bed458ac",
   "metadata": {},
   "outputs": [
    {
     "data": {
      "text/plain": [
       "Series([], dtype: int64)"
      ]
     },
     "execution_count": 64,
     "metadata": {},
     "output_type": "execute_result"
    }
   ],
   "source": [
    "fem_50k = (small['morethan50k'] == \">50K\") \n",
    "fem = (small['sex'] == \"Female\")\n",
    "data[fem_50k & fem].value_counts()"
   ]
  },
  {
   "cell_type": "code",
   "execution_count": 27,
   "id": "51e80366",
   "metadata": {},
   "outputs": [],
   "source": [
    "from sklearn.datasets import fetch_openml\n",
    "\n",
    "data2 = fetch_openml(data_id=1590, as_frame=True)\n",
    "X = pd.get_dummies(data2.data)"
   ]
  },
  {
   "cell_type": "code",
   "execution_count": 32,
   "id": "8ac0a9ca",
   "metadata": {},
   "outputs": [
    {
     "data": {
      "text/plain": [
       "{'data':         age     workclass    fnlwgt     education  education-num  \\\n",
       " 0      25.0       Private  226802.0          11th            7.0   \n",
       " 1      38.0       Private   89814.0       HS-grad            9.0   \n",
       " 2      28.0     Local-gov  336951.0    Assoc-acdm           12.0   \n",
       " 3      44.0       Private  160323.0  Some-college           10.0   \n",
       " 4      18.0           NaN  103497.0  Some-college           10.0   \n",
       " ...     ...           ...       ...           ...            ...   \n",
       " 48837  27.0       Private  257302.0    Assoc-acdm           12.0   \n",
       " 48838  40.0       Private  154374.0       HS-grad            9.0   \n",
       " 48839  58.0       Private  151910.0       HS-grad            9.0   \n",
       " 48840  22.0       Private  201490.0       HS-grad            9.0   \n",
       " 48841  52.0  Self-emp-inc  287927.0       HS-grad            9.0   \n",
       " \n",
       "            marital-status         occupation relationship   race     sex  \\\n",
       " 0           Never-married  Machine-op-inspct    Own-child  Black    Male   \n",
       " 1      Married-civ-spouse    Farming-fishing      Husband  White    Male   \n",
       " 2      Married-civ-spouse    Protective-serv      Husband  White    Male   \n",
       " 3      Married-civ-spouse  Machine-op-inspct      Husband  Black    Male   \n",
       " 4           Never-married                NaN    Own-child  White  Female   \n",
       " ...                   ...                ...          ...    ...     ...   \n",
       " 48837  Married-civ-spouse       Tech-support         Wife  White  Female   \n",
       " 48838  Married-civ-spouse  Machine-op-inspct      Husband  White    Male   \n",
       " 48839             Widowed       Adm-clerical    Unmarried  White  Female   \n",
       " 48840       Never-married       Adm-clerical    Own-child  White    Male   \n",
       " 48841  Married-civ-spouse    Exec-managerial         Wife  White  Female   \n",
       " \n",
       "        capital-gain  capital-loss  hours-per-week native-country  \n",
       " 0               0.0           0.0            40.0  United-States  \n",
       " 1               0.0           0.0            50.0  United-States  \n",
       " 2               0.0           0.0            40.0  United-States  \n",
       " 3            7688.0           0.0            40.0  United-States  \n",
       " 4               0.0           0.0            30.0  United-States  \n",
       " ...             ...           ...             ...            ...  \n",
       " 48837           0.0           0.0            38.0  United-States  \n",
       " 48838           0.0           0.0            40.0  United-States  \n",
       " 48839           0.0           0.0            40.0  United-States  \n",
       " 48840           0.0           0.0            20.0  United-States  \n",
       " 48841       15024.0           0.0            40.0  United-States  \n",
       " \n",
       " [48842 rows x 14 columns],\n",
       " 'target': 0        <=50K\n",
       " 1        <=50K\n",
       " 2         >50K\n",
       " 3         >50K\n",
       " 4        <=50K\n",
       "          ...  \n",
       " 48837    <=50K\n",
       " 48838     >50K\n",
       " 48839    <=50K\n",
       " 48840    <=50K\n",
       " 48841     >50K\n",
       " Name: class, Length: 48842, dtype: category\n",
       " Categories (2, object): ['>50K', '<=50K'],\n",
       " 'frame':         age     workclass    fnlwgt     education  education-num  \\\n",
       " 0      25.0       Private  226802.0          11th            7.0   \n",
       " 1      38.0       Private   89814.0       HS-grad            9.0   \n",
       " 2      28.0     Local-gov  336951.0    Assoc-acdm           12.0   \n",
       " 3      44.0       Private  160323.0  Some-college           10.0   \n",
       " 4      18.0           NaN  103497.0  Some-college           10.0   \n",
       " ...     ...           ...       ...           ...            ...   \n",
       " 48837  27.0       Private  257302.0    Assoc-acdm           12.0   \n",
       " 48838  40.0       Private  154374.0       HS-grad            9.0   \n",
       " 48839  58.0       Private  151910.0       HS-grad            9.0   \n",
       " 48840  22.0       Private  201490.0       HS-grad            9.0   \n",
       " 48841  52.0  Self-emp-inc  287927.0       HS-grad            9.0   \n",
       " \n",
       "            marital-status         occupation relationship   race     sex  \\\n",
       " 0           Never-married  Machine-op-inspct    Own-child  Black    Male   \n",
       " 1      Married-civ-spouse    Farming-fishing      Husband  White    Male   \n",
       " 2      Married-civ-spouse    Protective-serv      Husband  White    Male   \n",
       " 3      Married-civ-spouse  Machine-op-inspct      Husband  Black    Male   \n",
       " 4           Never-married                NaN    Own-child  White  Female   \n",
       " ...                   ...                ...          ...    ...     ...   \n",
       " 48837  Married-civ-spouse       Tech-support         Wife  White  Female   \n",
       " 48838  Married-civ-spouse  Machine-op-inspct      Husband  White    Male   \n",
       " 48839             Widowed       Adm-clerical    Unmarried  White  Female   \n",
       " 48840       Never-married       Adm-clerical    Own-child  White    Male   \n",
       " 48841  Married-civ-spouse    Exec-managerial         Wife  White  Female   \n",
       " \n",
       "        capital-gain  capital-loss  hours-per-week native-country  class  \n",
       " 0               0.0           0.0            40.0  United-States  <=50K  \n",
       " 1               0.0           0.0            50.0  United-States  <=50K  \n",
       " 2               0.0           0.0            40.0  United-States   >50K  \n",
       " 3            7688.0           0.0            40.0  United-States   >50K  \n",
       " 4               0.0           0.0            30.0  United-States  <=50K  \n",
       " ...             ...           ...             ...            ...    ...  \n",
       " 48837           0.0           0.0            38.0  United-States  <=50K  \n",
       " 48838           0.0           0.0            40.0  United-States   >50K  \n",
       " 48839           0.0           0.0            40.0  United-States  <=50K  \n",
       " 48840           0.0           0.0            20.0  United-States  <=50K  \n",
       " 48841       15024.0           0.0            40.0  United-States   >50K  \n",
       " \n",
       " [48842 rows x 15 columns],\n",
       " 'categories': None,\n",
       " 'feature_names': ['age',\n",
       "  'workclass',\n",
       "  'fnlwgt',\n",
       "  'education',\n",
       "  'education-num',\n",
       "  'marital-status',\n",
       "  'occupation',\n",
       "  'relationship',\n",
       "  'race',\n",
       "  'sex',\n",
       "  'capital-gain',\n",
       "  'capital-loss',\n",
       "  'hours-per-week',\n",
       "  'native-country'],\n",
       " 'target_names': ['class'],\n",
       " 'DESCR': '**Author**: Ronny Kohavi and Barry Becker  \\n**Source**: [UCI](https://archive.ics.uci.edu/ml/datasets/Adult) - 1996  \\n**Please cite**: Ron Kohavi, \"Scaling Up the Accuracy of Naive-Bayes Classifiers: a Decision-Tree Hybrid\", Proceedings of the Second International Conference on Knowledge Discovery and Data Mining, 1996  \\n\\nPrediction task is to determine whether a person makes over 50K a year. Extraction was done by Barry Becker from the 1994 Census database. A set of reasonably clean records was extracted using the following conditions: ((AAGE>16) && (AGI>100) && (AFNLWGT>1)&& (HRSWK>0))\\n\\nThis is the original version from the UCI repository, with training and test sets merged.\\n\\n### Variable description\\n\\nVariables are all self-explanatory except __fnlwgt__. This is a proxy for the demographic background of the people: \"People with similar demographic characteristics should have similar weights\". This similarity-statement is not transferable across the 51 different states.\\n\\nDescription from the donor of the database: \\n\\nThe weights on the CPS files are controlled to independent estimates of the civilian noninstitutional population of the US.  These are prepared monthly for us by Population Division here at the Census Bureau. We use 3 sets of controls. These are:\\n1.  A single cell estimate of the population 16+ for each state.\\n2.  Controls for Hispanic Origin by age and sex.\\n3.  Controls by Race, age and sex.\\n\\nWe use all three sets of controls in our weighting program and \"rake\" through them 6 times so that by the end we come back to all the controls we used. The term estimate refers to population totals derived from CPS by creating \"weighted tallies\" of any specified socio-economic characteristics of the population. People with similar demographic characteristics should have similar weights. There is one important caveat to remember about this statement. That is that since the CPS sample is actually a collection of 51 state samples, each with its own probability of selection, the statement only applies within state.\\n\\n\\n### Relevant papers  \\n\\nRonny Kohavi and Barry Becker. Data Mining and Visualization, Silicon Graphics.  \\ne-mail: ronnyk \\'@\\' live.com for questions.\\n\\nDownloaded from openml.org.',\n",
       " 'details': {'id': '1590',\n",
       "  'name': 'adult',\n",
       "  'version': '2',\n",
       "  'description_version': '8',\n",
       "  'format': 'ARFF',\n",
       "  'upload_date': '2015-06-09T16:39:06',\n",
       "  'licence': 'Public',\n",
       "  'url': 'https://api.openml.org/data/v1/download/1595261/adult.arff',\n",
       "  'parquet_url': 'http://openml1.win.tue.nl/dataset1590/dataset_1590.pq',\n",
       "  'file_id': '1595261',\n",
       "  'default_target_attribute': 'class',\n",
       "  'version_label': '2',\n",
       "  'tag': ['OpenML-CC18',\n",
       "   'OpenML100',\n",
       "   'study_123',\n",
       "   'study_135',\n",
       "   'study_14',\n",
       "   'study_144',\n",
       "   'study_218',\n",
       "   'study_241',\n",
       "   'study_34',\n",
       "   'study_99'],\n",
       "  'visibility': 'public',\n",
       "  'original_data_url': 'https://archive.ics.uci.edu/ml/datasets/adult',\n",
       "  'minio_url': 'http://openml1.win.tue.nl/dataset1590/dataset_1590.pq',\n",
       "  'status': 'active',\n",
       "  'processing_date': '2018-10-03 21:37:04',\n",
       "  'md5_checksum': 'bb6510925e5d4b23d136715febb2cdf5'},\n",
       " 'url': 'https://www.openml.org/d/1590'}"
      ]
     },
     "execution_count": 32,
     "metadata": {},
     "output_type": "execute_result"
    }
   ],
   "source": [
    "data2"
   ]
  },
  {
   "cell_type": "code",
   "execution_count": 28,
   "id": "79a9ef8a",
   "metadata": {},
   "outputs": [
    {
     "data": {
      "text/plain": [
       "Male      32650\n",
       "Female    16192\n",
       "Name: sex, dtype: int64"
      ]
     },
     "execution_count": 28,
     "metadata": {},
     "output_type": "execute_result"
    }
   ],
   "source": [
    "y_true = (data2.target == '>50K') * 1\n",
    "sex = data2.data['sex']\n",
    "sex.value_counts()"
   ]
  },
  {
   "cell_type": "code",
   "execution_count": 33,
   "id": "7bde68d3",
   "metadata": {},
   "outputs": [
    {
     "data": {
      "text/plain": [
       "0    37155\n",
       "1    11687\n",
       "Name: class, dtype: int64"
      ]
     },
     "execution_count": 33,
     "metadata": {},
     "output_type": "execute_result"
    }
   ],
   "source": [
    "y_true.value_counts()"
   ]
  },
  {
   "cell_type": "code",
   "execution_count": null,
   "id": "0ebcb4dd",
   "metadata": {},
   "outputs": [],
   "source": []
  }
 ],
 "metadata": {
  "kernelspec": {
   "display_name": "Python 3 (ipykernel)",
   "language": "python",
   "name": "python3"
  },
  "language_info": {
   "codemirror_mode": {
    "name": "ipython",
    "version": 3
   },
   "file_extension": ".py",
   "mimetype": "text/x-python",
   "name": "python",
   "nbconvert_exporter": "python",
   "pygments_lexer": "ipython3",
   "version": "3.9.12"
  }
 },
 "nbformat": 4,
 "nbformat_minor": 5
}
